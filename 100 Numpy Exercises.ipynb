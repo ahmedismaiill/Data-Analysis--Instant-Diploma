{
  "cells": [
    {
      "cell_type": "markdown",
      "id": "3c1222ff",
      "metadata": {
        "id": "3c1222ff"
      },
      "source": [
        "#### 1. Import the numpy package under the name `np` (★☆☆)"
      ]
    },
    {
      "cell_type": "code",
      "execution_count": null,
      "id": "f52e6a0b",
      "metadata": {
        "id": "f52e6a0b"
      },
      "outputs": [],
      "source": [
        "import numpy as np"
      ]
    },
    {
      "cell_type": "markdown",
      "id": "9d9f4753",
      "metadata": {
        "id": "9d9f4753"
      },
      "source": [
        "#### 2. Print the numpy version and the configuration (★☆☆)"
      ]
    },
    {
      "cell_type": "code",
      "execution_count": null,
      "id": "b7fa5fa1",
      "metadata": {
        "id": "b7fa5fa1",
        "colab": {
          "base_uri": "https://localhost:8080/"
        },
        "outputId": "a6e0e432-01e9-49e8-cffc-44b6be3a26d4"
      },
      "outputs": [
        {
          "output_type": "stream",
          "name": "stdout",
          "text": [
            "numpy version is 1.23.5\n"
          ]
        }
      ],
      "source": [
        "print(f\"numpy version is {np.__version__}\")"
      ]
    },
    {
      "cell_type": "markdown",
      "id": "3e4c23c6",
      "metadata": {
        "id": "3e4c23c6"
      },
      "source": [
        "#### 3. Create a null vector of size 10 (★☆☆)"
      ]
    },
    {
      "cell_type": "code",
      "execution_count": null,
      "id": "083c5c46",
      "metadata": {
        "id": "083c5c46",
        "colab": {
          "base_uri": "https://localhost:8080/"
        },
        "outputId": "e90056e2-bc4b-49a8-81f3-5efff0b33d5c"
      },
      "outputs": [
        {
          "output_type": "stream",
          "name": "stdout",
          "text": [
            "Null vector of size 10 is [4.64563401e-310 0.00000000e+000 0.00000000e+000 0.00000000e+000\n",
            " 1.29061927e+248 8.69923229e-043 1.74247955e-076 4.22487730e-090\n",
            " 6.23080896e+174 2.59475292e-029]\n"
          ]
        }
      ],
      "source": [
        "print(f\"Null vector of size 10 is {np.empty(10)}\")"
      ]
    },
    {
      "cell_type": "markdown",
      "id": "c38bbe82",
      "metadata": {
        "id": "c38bbe82"
      },
      "source": [
        "#### 4. How to find the memory size of any array (★☆☆)"
      ]
    },
    {
      "cell_type": "code",
      "execution_count": null,
      "id": "02b04021",
      "metadata": {
        "id": "02b04021",
        "colab": {
          "base_uri": "https://localhost:8080/"
        },
        "outputId": "a7dee76d-f06b-48f3-8d60-94fe1e3b9f6a"
      },
      "outputs": [
        {
          "output_type": "stream",
          "name": "stdout",
          "text": [
            "Memory size of any array is 80\n"
          ]
        }
      ],
      "source": [
        "print(f\"Memory size of any array is {np.empty(10).size * np.empty(10).itemsize}\")"
      ]
    },
    {
      "cell_type": "code",
      "source": [
        "print(f\"Memory size of any array is {np.empty(10).nbytes}\")"
      ],
      "metadata": {
        "colab": {
          "base_uri": "https://localhost:8080/"
        },
        "id": "Mb2QiMgreFA0",
        "outputId": "ac0f6e69-f358-46c8-d2f9-1771830f3042"
      },
      "id": "Mb2QiMgreFA0",
      "execution_count": null,
      "outputs": [
        {
          "output_type": "stream",
          "name": "stdout",
          "text": [
            "Memory size of any array is 80\n"
          ]
        }
      ]
    },
    {
      "cell_type": "markdown",
      "id": "67f893d4",
      "metadata": {
        "id": "67f893d4"
      },
      "source": [
        "#### 5. How to get the documentation of the numpy add function from the command line? (★☆☆)"
      ]
    },
    {
      "cell_type": "code",
      "execution_count": null,
      "id": "40e6b70d",
      "metadata": {
        "id": "40e6b70d",
        "colab": {
          "base_uri": "https://localhost:8080/"
        },
        "outputId": "b65df075-e025-4fbc-b9d2-f1cd1b687121"
      },
      "outputs": [
        {
          "output_type": "stream",
          "name": "stdout",
          "text": [
            "Help on ufunc:\n",
            "\n",
            "add = <ufunc 'add'>\n",
            "    add(x1, x2, /, out=None, *, where=True, casting='same_kind', order='K', dtype=None, subok=True[, signature, extobj])\n",
            "    \n",
            "    Add arguments element-wise.\n",
            "    \n",
            "    Parameters\n",
            "    ----------\n",
            "    x1, x2 : array_like\n",
            "        The arrays to be added.\n",
            "        If ``x1.shape != x2.shape``, they must be broadcastable to a common\n",
            "        shape (which becomes the shape of the output).\n",
            "    out : ndarray, None, or tuple of ndarray and None, optional\n",
            "        A location into which the result is stored. If provided, it must have\n",
            "        a shape that the inputs broadcast to. If not provided or None,\n",
            "        a freshly-allocated array is returned. A tuple (possible only as a\n",
            "        keyword argument) must have length equal to the number of outputs.\n",
            "    where : array_like, optional\n",
            "        This condition is broadcast over the input. At locations where the\n",
            "        condition is True, the `out` array will be set to the ufunc result.\n",
            "        Elsewhere, the `out` array will retain its original value.\n",
            "        Note that if an uninitialized `out` array is created via the default\n",
            "        ``out=None``, locations within it where the condition is False will\n",
            "        remain uninitialized.\n",
            "    **kwargs\n",
            "        For other keyword-only arguments, see the\n",
            "        :ref:`ufunc docs <ufuncs.kwargs>`.\n",
            "    \n",
            "    Returns\n",
            "    -------\n",
            "    add : ndarray or scalar\n",
            "        The sum of `x1` and `x2`, element-wise.\n",
            "        This is a scalar if both `x1` and `x2` are scalars.\n",
            "    \n",
            "    Notes\n",
            "    -----\n",
            "    Equivalent to `x1` + `x2` in terms of array broadcasting.\n",
            "    \n",
            "    Examples\n",
            "    --------\n",
            "    >>> np.add(1.0, 4.0)\n",
            "    5.0\n",
            "    >>> x1 = np.arange(9.0).reshape((3, 3))\n",
            "    >>> x2 = np.arange(3.0)\n",
            "    >>> np.add(x1, x2)\n",
            "    array([[  0.,   2.,   4.],\n",
            "           [  3.,   5.,   7.],\n",
            "           [  6.,   8.,  10.]])\n",
            "    \n",
            "    The ``+`` operator can be used as a shorthand for ``np.add`` on ndarrays.\n",
            "    \n",
            "    >>> x1 = np.arange(9.0).reshape((3, 3))\n",
            "    >>> x2 = np.arange(3.0)\n",
            "    >>> x1 + x2\n",
            "    array([[ 0.,  2.,  4.],\n",
            "           [ 3.,  5.,  7.],\n",
            "           [ 6.,  8., 10.]])\n",
            "\n"
          ]
        }
      ],
      "source": [
        "help(np.add)"
      ]
    },
    {
      "cell_type": "markdown",
      "id": "e0c739c6",
      "metadata": {
        "id": "e0c739c6"
      },
      "source": [
        "#### 6. Create a null vector of size 10 but the fifth value which is 1 (★☆☆)"
      ]
    },
    {
      "cell_type": "code",
      "execution_count": null,
      "id": "bcceacf7",
      "metadata": {
        "id": "bcceacf7",
        "colab": {
          "base_uri": "https://localhost:8080/"
        },
        "outputId": "7b93bc28-902d-4461-8f6a-d0d8e78d7893"
      },
      "outputs": [
        {
          "output_type": "stream",
          "name": "stdout",
          "text": [
            "Null vector of size 10 with fifth value is 1 is [0. 0. 0. 0. 1. 0. 0. 0. 0. 0.]\n"
          ]
        }
      ],
      "source": [
        "vector = np.zeros(10)\n",
        "vector[4] = 1\n",
        "print(f\"Null vector of size 10 with fifth value is 1 is {vector}\")"
      ]
    },
    {
      "cell_type": "markdown",
      "id": "fbebedab",
      "metadata": {
        "id": "fbebedab"
      },
      "source": [
        "#### 7. Create a vector with values ranging from 10 to 49 (★☆☆)"
      ]
    },
    {
      "cell_type": "code",
      "execution_count": null,
      "id": "3d117d54",
      "metadata": {
        "id": "3d117d54",
        "colab": {
          "base_uri": "https://localhost:8080/"
        },
        "outputId": "7afd43ae-1770-46c0-90d8-bd5422582ad6"
      },
      "outputs": [
        {
          "output_type": "stream",
          "name": "stdout",
          "text": [
            "Vector with values ranging from 10 to 49 is [10 11 12 13 14 15 16 17 18 19 20 21 22 23 24 25 26 27 28 29 30 31 32 33\n",
            " 34 35 36 37 38 39 40 41 42 43 44 45 46 47 48 49]\n"
          ]
        }
      ],
      "source": [
        "print(f\"Vector with values ranging from 10 to 49 is {np.arange(start = 10,stop = 50)}\")"
      ]
    },
    {
      "cell_type": "markdown",
      "id": "ad0bff02",
      "metadata": {
        "id": "ad0bff02"
      },
      "source": [
        "#### 8. Reverse a vector (first element becomes last) (★☆☆)"
      ]
    },
    {
      "cell_type": "code",
      "execution_count": null,
      "id": "22d23470",
      "metadata": {
        "id": "22d23470",
        "colab": {
          "base_uri": "https://localhost:8080/"
        },
        "outputId": "6def5d11-5a4a-46b2-96f5-f24a8901fd13"
      },
      "outputs": [
        {
          "output_type": "stream",
          "name": "stdout",
          "text": [
            "Vector before reverse is [9 4 0 1 9]\n",
            "Vector after reverse is [9 1 0 4 9]\n"
          ]
        }
      ],
      "source": [
        "np.random.seed(10)\n",
        "vector = np.random.randint(0,10,5)\n",
        "print(f\"Vector before reverse is {vector}\")\n",
        "print(f\"Vector after reverse is {vector[::-1]}\")"
      ]
    },
    {
      "cell_type": "markdown",
      "id": "9f59d7e1",
      "metadata": {
        "id": "9f59d7e1"
      },
      "source": [
        "#### 9. Create a 3x3 matrix with values ranging from 0 to 8 (★☆☆)"
      ]
    },
    {
      "cell_type": "code",
      "execution_count": null,
      "id": "7449e82d",
      "metadata": {
        "id": "7449e82d",
        "colab": {
          "base_uri": "https://localhost:8080/"
        },
        "outputId": "0551d82c-5be2-4241-e96c-da72d908475f"
      },
      "outputs": [
        {
          "output_type": "stream",
          "name": "stdout",
          "text": [
            "3x3 Matrix with values ranging from 0 to 8 is \n",
            " [[0 1 2]\n",
            " [3 4 5]\n",
            " [6 7 8]]\n"
          ]
        }
      ],
      "source": [
        "np.random.seed(10)\n",
        "vector = np.arange(9).reshape(3,3)\n",
        "print(f\"3x3 Matrix with values ranging from 0 to 8 is \\n {vector}\")"
      ]
    },
    {
      "cell_type": "markdown",
      "id": "f374c4cf",
      "metadata": {
        "id": "f374c4cf"
      },
      "source": [
        "#### 10. Find indices of non-zero elements from [1,2,0,0,4,0] (★☆☆)"
      ]
    },
    {
      "cell_type": "code",
      "execution_count": null,
      "id": "1a84bed8",
      "metadata": {
        "id": "1a84bed8",
        "colab": {
          "base_uri": "https://localhost:8080/"
        },
        "outputId": "dfed6cba-5371-4bd6-f5cd-0bca2307e57e"
      },
      "outputs": [
        {
          "output_type": "stream",
          "name": "stdout",
          "text": [
            "Indices of non-zero element from [1 2 0 0 4 0] is (array([0, 1, 4]),)\n"
          ]
        }
      ],
      "source": [
        "vector = np.array([1,2,0,0,4,0])\n",
        "print(f\"Indices of non-zero element from {vector} is {vector.nonzero()}\")"
      ]
    },
    {
      "cell_type": "markdown",
      "id": "9c4707f5",
      "metadata": {
        "id": "9c4707f5"
      },
      "source": [
        "#### 11. Create a 3x3 identity matrix (★☆☆)"
      ]
    },
    {
      "cell_type": "code",
      "execution_count": null,
      "id": "29dc1fd3",
      "metadata": {
        "id": "29dc1fd3",
        "colab": {
          "base_uri": "https://localhost:8080/"
        },
        "outputId": "8dba1a6a-cf24-497b-98d0-4079212c8761"
      },
      "outputs": [
        {
          "output_type": "stream",
          "name": "stdout",
          "text": [
            "3x3 identity matrix is \n",
            "[[1. 0. 0.]\n",
            " [0. 1. 0.]\n",
            " [0. 0. 1.]]\n"
          ]
        }
      ],
      "source": [
        "print(f\"3x3 identity matrix is \\n{np.eye(3)}\")"
      ]
    },
    {
      "cell_type": "markdown",
      "id": "3bac294a",
      "metadata": {
        "id": "3bac294a"
      },
      "source": [
        "#### 12. Create a 3x3x3 array with random values (★☆☆)"
      ]
    },
    {
      "cell_type": "code",
      "execution_count": null,
      "id": "eadfae67",
      "metadata": {
        "id": "eadfae67",
        "colab": {
          "base_uri": "https://localhost:8080/"
        },
        "outputId": "aac89c1d-9c0f-4599-e80a-e7af1db76ecc"
      },
      "outputs": [
        {
          "output_type": "stream",
          "name": "stdout",
          "text": [
            "3x3x3 array with random values is \n",
            "[[[9 1 9]\n",
            "  [4 2 6]\n",
            "  [7 8 8]]\n",
            "\n",
            " [[9 2 0]\n",
            "  [6 7 8]\n",
            "  [1 7 1]]\n",
            "\n",
            " [[4 0 8]\n",
            "  [5 4 7]\n",
            "  [8 8 2]]]\n"
          ]
        }
      ],
      "source": [
        "vector = np.random.randint(0,10,27).reshape(3,3,3)\n",
        "print(f\"3x3x3 array with random values is \\n{vector}\")"
      ]
    },
    {
      "cell_type": "markdown",
      "id": "466c2989",
      "metadata": {
        "id": "466c2989"
      },
      "source": [
        "#### 13. Create a 10x10 array with random values and find the minimum and maximum values (★☆☆)"
      ]
    },
    {
      "cell_type": "code",
      "execution_count": null,
      "id": "9a74dbfc",
      "metadata": {
        "id": "9a74dbfc",
        "colab": {
          "base_uri": "https://localhost:8080/"
        },
        "outputId": "394e1c92-2b3d-4ac2-859c-2afdb0d83d71"
      },
      "outputs": [
        {
          "output_type": "stream",
          "name": "stdout",
          "text": [
            "10x10 array with random values is \n",
            "[[24 42 32 38  7 47 26 34  8 10]\n",
            " [34  7 33 32 35 27 28  3 23  9]\n",
            " [22 40 29 18 28 40 34 34 30 19]\n",
            " [22 12  2 41 31  6 12 41 10 39]\n",
            " [30 20 10 12 32 30  4 25 47 49]\n",
            " [40 20  4 46  1 47  5  3 20  7]\n",
            " [48 28 39 37 37 10 44 15 49 31]\n",
            " [ 5 24 13 43 43 33 16 16 39 49]\n",
            " [38 35 25  4 14 28 48 48 14 12]\n",
            " [13 37  7 45 10 30 45 34 44 46]]\n",
            "Minimum value is 1\n",
            "Maximum value is 49\n"
          ]
        }
      ],
      "source": [
        "vector = np.random.randint(1,50,100).reshape(10,10)\n",
        "min_value = vector.min()\n",
        "max_value = vector.max()\n",
        "print(f\"10x10 array with random values is \\n{vector}\")\n",
        "print(f\"Minimum value is {min_value}\")\n",
        "print(f\"Maximum value is {max_value}\")"
      ]
    },
    {
      "cell_type": "markdown",
      "id": "53a8edb2",
      "metadata": {
        "id": "53a8edb2"
      },
      "source": [
        "#### 14. Create a random vector of size 30 and find the mean value (★☆☆)"
      ]
    },
    {
      "cell_type": "code",
      "execution_count": null,
      "id": "6691530b",
      "metadata": {
        "id": "6691530b",
        "colab": {
          "base_uri": "https://localhost:8080/"
        },
        "outputId": "803f2ad3-e9ac-4bbb-afe1-66e851363884"
      },
      "outputs": [
        {
          "output_type": "stream",
          "name": "stdout",
          "text": [
            "random vector is \n",
            "[[23 26  6 10  4 29 26 23 22 11 29  1 26 26 20]\n",
            " [ 2 13  9 19  2  8 20 24  3  4 28 27  3 22 16]]\n",
            "Mean of random vector is 16.066666666666666\n"
          ]
        }
      ],
      "source": [
        "vector = np.random.randint(1,30,30).reshape(2,-1)\n",
        "print(f\"random vector is \\n{vector}\")\n",
        "mean_vector = vector.mean()\n",
        "print(f\"Mean of random vector is {mean_vector}\")"
      ]
    },
    {
      "cell_type": "markdown",
      "id": "cbaad31c",
      "metadata": {
        "id": "cbaad31c"
      },
      "source": [
        "#### 15. Create a 2d array with 1 on the border and 0 inside (★☆☆)"
      ]
    },
    {
      "cell_type": "code",
      "execution_count": null,
      "id": "ad8308e3",
      "metadata": {
        "id": "ad8308e3",
        "colab": {
          "base_uri": "https://localhost:8080/"
        },
        "outputId": "4a834fcc-7048-44e3-bbd8-9d0f6d2fb1b1"
      },
      "outputs": [
        {
          "output_type": "execute_result",
          "data": {
            "text/plain": [
              "array([[1., 1., 1., 1., 1., 1., 1., 1., 1., 1.],\n",
              "       [1., 0., 0., 0., 0., 0., 0., 0., 0., 1.],\n",
              "       [1., 0., 0., 0., 0., 0., 0., 0., 0., 1.],\n",
              "       [1., 0., 0., 0., 0., 0., 0., 0., 0., 1.],\n",
              "       [1., 0., 0., 0., 0., 0., 0., 0., 0., 1.],\n",
              "       [1., 0., 0., 0., 0., 0., 0., 0., 0., 1.],\n",
              "       [1., 0., 0., 0., 0., 0., 0., 0., 0., 1.],\n",
              "       [1., 0., 0., 0., 0., 0., 0., 0., 0., 1.],\n",
              "       [1., 0., 0., 0., 0., 0., 0., 0., 0., 1.],\n",
              "       [1., 1., 1., 1., 1., 1., 1., 1., 1., 1.]])"
            ]
          },
          "metadata": {},
          "execution_count": 11
        }
      ],
      "source": [
        "a = np.ones((10,10))\n",
        "a[1:-1,1:-1]=0\n",
        "a"
      ]
    },
    {
      "cell_type": "markdown",
      "id": "c5ecc267",
      "metadata": {
        "id": "c5ecc267"
      },
      "source": [
        "#### 16. How to add a border (filled with 0's) around an existing array? (★☆☆)"
      ]
    },
    {
      "cell_type": "code",
      "execution_count": null,
      "id": "9d5c78c4",
      "metadata": {
        "id": "9d5c78c4",
        "colab": {
          "base_uri": "https://localhost:8080/"
        },
        "outputId": "15a24545-08b1-4eee-ddb5-4bdf5c84f134"
      },
      "outputs": [
        {
          "output_type": "execute_result",
          "data": {
            "text/plain": [
              "array([[0., 0., 0., 0., 0., 0., 0., 0., 0.],\n",
              "       [0., 0., 0., 0., 0., 0., 0., 0., 0.],\n",
              "       [0., 0., 1., 1., 1., 1., 1., 0., 0.],\n",
              "       [0., 0., 1., 1., 1., 1., 1., 0., 0.],\n",
              "       [0., 0., 1., 1., 1., 1., 1., 0., 0.],\n",
              "       [0., 0., 1., 1., 1., 1., 1., 0., 0.],\n",
              "       [0., 0., 1., 1., 1., 1., 1., 0., 0.],\n",
              "       [0., 0., 0., 0., 0., 0., 0., 0., 0.],\n",
              "       [0., 0., 0., 0., 0., 0., 0., 0., 0.]])"
            ]
          },
          "metadata": {},
          "execution_count": 22
        }
      ],
      "source": [
        "a = np.ones((5,5))\n",
        "a = np.pad(a,2)\n",
        "a"
      ]
    },
    {
      "cell_type": "markdown",
      "id": "ef909b72",
      "metadata": {
        "id": "ef909b72"
      },
      "source": [
        "#### 17. What is the result of the following expression? (★☆☆)\n",
        "```python\n",
        "0 * np.nan\n",
        "np.nan == np.nan\n",
        "np.inf > np.nan\n",
        "np.nan - np.nan\n",
        "np.nan in set([np.nan])\n",
        "0.3 == 3 * 0.1\n",
        "```"
      ]
    },
    {
      "cell_type": "code",
      "execution_count": null,
      "id": "3b4985f2",
      "metadata": {
        "id": "3b4985f2"
      },
      "outputs": [],
      "source": [
        "True"
      ]
    },
    {
      "cell_type": "markdown",
      "id": "502738ac",
      "metadata": {
        "id": "502738ac"
      },
      "source": [
        "#### 18. Create a 5x5 matrix with values 1,2,3,4 just below the diagonal (★☆☆)"
      ]
    },
    {
      "cell_type": "code",
      "execution_count": null,
      "id": "faed6e2b",
      "metadata": {
        "id": "faed6e2b",
        "colab": {
          "base_uri": "https://localhost:8080/"
        },
        "outputId": "3b5045c0-019b-4d7d-9a31-2f436e817297"
      },
      "outputs": [
        {
          "output_type": "stream",
          "name": "stdout",
          "text": [
            "[[0. 0. 0. 0. 0.]\n",
            " [1. 0. 0. 0. 0.]\n",
            " [0. 2. 0. 0. 0.]\n",
            " [0. 0. 3. 0. 0.]\n",
            " [0. 0. 0. 4. 0.]]\n"
          ]
        }
      ],
      "source": [
        "matrix = np.zeros((5,5))\n",
        "count = 1\n",
        "for row in range(1,5):\n",
        "  for col in range(1,5):\n",
        "    if row == col:\n",
        "       matrix[row:row+1,col-1:col] = col\n",
        "    count+=1\n",
        "print(matrix)"
      ]
    },
    {
      "cell_type": "markdown",
      "id": "a65da660",
      "metadata": {
        "id": "a65da660"
      },
      "source": [
        "#### 19. Create a 8x8 matrix and fill it with a checkerboard pattern (★☆☆)"
      ]
    },
    {
      "cell_type": "code",
      "execution_count": null,
      "id": "ed150400",
      "metadata": {
        "id": "ed150400",
        "colab": {
          "base_uri": "https://localhost:8080/"
        },
        "outputId": "042415c5-dc21-4278-d591-f73dd00352ab"
      },
      "outputs": [
        {
          "output_type": "execute_result",
          "data": {
            "text/plain": [
              "array([[0., 1., 0., 1., 0., 1., 0., 1.],\n",
              "       [1., 0., 1., 0., 1., 0., 1., 0.],\n",
              "       [0., 1., 0., 1., 0., 1., 0., 1.],\n",
              "       [1., 0., 1., 0., 1., 0., 1., 0.],\n",
              "       [0., 1., 0., 1., 0., 1., 0., 1.],\n",
              "       [1., 0., 1., 0., 1., 0., 1., 0.],\n",
              "       [0., 1., 0., 1., 0., 1., 0., 1.],\n",
              "       [1., 0., 1., 0., 1., 0., 1., 0.]])"
            ]
          },
          "metadata": {},
          "execution_count": 57
        }
      ],
      "source": [
        "matrix = np.zeros((8,8))\n",
        "matrix[1::2,0::2]=1\n",
        "matrix[0::2,1::2]=1\n",
        "matrix"
      ]
    },
    {
      "cell_type": "markdown",
      "id": "9f7f9c49",
      "metadata": {
        "id": "9f7f9c49"
      },
      "source": [
        "#### 20. Consider a (6,7,8) shape array, what is the index (x,y,z) of the 100th element? (★☆☆)"
      ]
    },
    {
      "cell_type": "code",
      "execution_count": null,
      "id": "3782b5a9",
      "metadata": {
        "id": "3782b5a9",
        "colab": {
          "base_uri": "https://localhost:8080/"
        },
        "outputId": "2c4715f1-b6cc-4a08-d6a4-d86a9088d18e"
      },
      "outputs": [
        {
          "output_type": "stream",
          "name": "stdout",
          "text": [
            "The index (x,y,z) of 100th element is (1, 5, 3)\n"
          ]
        }
      ],
      "source": [
        "print(f\"The index (x,y,z) of 100th element is {np.unravel_index(99,(6,7,8))}\")"
      ]
    },
    {
      "cell_type": "markdown",
      "id": "66bfda35",
      "metadata": {
        "id": "66bfda35"
      },
      "source": [
        "#### 21. Create a checkerboard 8x8 matrix using the tile function (★☆☆)"
      ]
    },
    {
      "cell_type": "code",
      "execution_count": null,
      "id": "4c07477c",
      "metadata": {
        "id": "4c07477c",
        "colab": {
          "base_uri": "https://localhost:8080/"
        },
        "outputId": "b6792a90-9954-4c16-e998-7ad343b551ab"
      },
      "outputs": [
        {
          "output_type": "stream",
          "name": "stdout",
          "text": [
            "checkerboard 8x8 matrix using the tile function is \n",
            "[[0 1 0 1 0 1 0 1]\n",
            " [1 0 1 0 1 0 1 0]\n",
            " [0 1 0 1 0 1 0 1]\n",
            " [1 0 1 0 1 0 1 0]\n",
            " [0 1 0 1 0 1 0 1]\n",
            " [1 0 1 0 1 0 1 0]\n",
            " [0 1 0 1 0 1 0 1]\n",
            " [1 0 1 0 1 0 1 0]]\n"
          ]
        }
      ],
      "source": [
        "x = [[0,1],[1,0]]\n",
        "matrix = np.tile(x,(4,4))\n",
        "print(f\"checkerboard 8x8 matrix using the tile function is \\n{matrix}\")"
      ]
    },
    {
      "cell_type": "markdown",
      "id": "d5bcfc08",
      "metadata": {
        "id": "d5bcfc08"
      },
      "source": [
        "#### 22. Normalize a 5x5 random matrix (★☆☆)"
      ]
    },
    {
      "cell_type": "code",
      "execution_count": null,
      "id": "cea6c993",
      "metadata": {
        "id": "cea6c993",
        "colab": {
          "base_uri": "https://localhost:8080/"
        },
        "outputId": "9f88e4ff-2130-4ed4-d725-bf94e490c794"
      },
      "outputs": [
        {
          "output_type": "stream",
          "name": "stdout",
          "text": [
            "Original matrix \n",
            "[[10  7 10  1  5]\n",
            " [ 8  9  3  9  7]\n",
            " [ 4  9  2  9  4]\n",
            " [ 3  4  1  7  3]\n",
            " [ 8  1  6  3  3]]\n",
            "Normalize matrix \n",
            "[[ 1.53661702  0.52568477  1.53661702 -1.49617973 -0.14827006]\n",
            " [ 0.86266219  1.1996396  -0.8222249   1.1996396   0.52568477]\n",
            " [-0.48524748  1.1996396  -1.15920231  1.1996396  -0.48524748]\n",
            " [-0.8222249  -0.48524748 -1.49617973  0.52568477 -0.8222249 ]\n",
            " [ 0.86266219 -1.49617973  0.18870735 -0.8222249  -0.8222249 ]]\n"
          ]
        }
      ],
      "source": [
        "matrix = np.random.randint(1,11,25).reshape(5,5)\n",
        "mean_value = matrix.mean()\n",
        "std_value = matrix.std()\n",
        "normalized_matrix = (matrix - mean_value) / std_value\n",
        "print(f\"Original matrix \\n{matrix}\")\n",
        "print(f\"Normalize matrix \\n{normalized_matrix}\")"
      ]
    },
    {
      "cell_type": "markdown",
      "id": "f9a0911e",
      "metadata": {
        "id": "f9a0911e"
      },
      "source": [
        "#### 23. Create a custom dtype that describes a color as four unsigned bytes (RGBA) (★☆☆)"
      ]
    },
    {
      "cell_type": "code",
      "execution_count": null,
      "id": "d165044b",
      "metadata": {
        "id": "d165044b",
        "colab": {
          "base_uri": "https://localhost:8080/"
        },
        "outputId": "51ae6470-b40f-4e35-968a-152b07532708"
      },
      "outputs": [
        {
          "output_type": "stream",
          "name": "stdout",
          "text": [
            "Red: [255   0   0 128], Green: [255   0   0 128], Blue: [255   0   0 128], Alpha: [255   0   0 128]\n"
          ]
        }
      ],
      "source": [
        "rgba_type = np.dtype([(\"R\",np.uint8),(\"G\",np.uint8),(\"B\",np.uint8),(\"A\",np.uint8)])\n",
        "color = np.array([255,0,0,128],dtype = rgba_type)\n",
        "print(f\"Red: {color['R']}, Green: {color['G']}, Blue: {color['B']}, Alpha: {color['A']}\")"
      ]
    },
    {
      "cell_type": "markdown",
      "id": "654805b1",
      "metadata": {
        "id": "654805b1"
      },
      "source": [
        "#### 24. Multiply a 5x3 matrix by a 3x2 matrix (real matrix product) (★☆☆)"
      ]
    },
    {
      "cell_type": "code",
      "execution_count": null,
      "id": "6a42619f",
      "metadata": {
        "id": "6a42619f",
        "colab": {
          "base_uri": "https://localhost:8080/"
        },
        "outputId": "77867f3a-827d-4eb6-94a3-878bc556df30"
      },
      "outputs": [
        {
          "output_type": "stream",
          "name": "stdout",
          "text": [
            "Size of matrix A is (5, 3) And the matrix A is :\n",
            "[[5 4 3]\n",
            " [4 7 5]\n",
            " [2 1 9]\n",
            " [6 9 7]\n",
            " [4 7 1]]\n",
            "Size of matrix B is (3, 2) And the matrix B is :\n",
            "[[6 8]\n",
            " [1 9]\n",
            " [9 6]]\n",
            "Real matrix product is :\n",
            "[[ 61  94]\n",
            " [ 76 125]\n",
            " [ 94  79]\n",
            " [108 171]\n",
            " [ 40 101]]\n"
          ]
        }
      ],
      "source": [
        "matrix_A = np.random.randint(1,10,15).reshape(5,3)\n",
        "matrix_B = np.random.randint(1,10,6).reshape(3,2)\n",
        "print(f\"Size of matrix A is {matrix_A.shape} And the matrix A is :\\n{matrix_A}\")\n",
        "print(f\"Size of matrix B is {matrix_B.shape} And the matrix B is :\\n{matrix_B}\")\n",
        "print(f\"Real matrix product is :\\n{np.dot(matrix_A,matrix_B)}\")"
      ]
    },
    {
      "cell_type": "markdown",
      "id": "994c25df",
      "metadata": {
        "id": "994c25df"
      },
      "source": [
        "#### 25. Given a 1D array, negate all elements which are between 3 and 8, in place. (★☆☆)"
      ]
    },
    {
      "cell_type": "code",
      "execution_count": null,
      "id": "e4b39c03",
      "metadata": {
        "id": "e4b39c03",
        "colab": {
          "base_uri": "https://localhost:8080/"
        },
        "outputId": "97adf94a-f58a-4076-b85e-a9516e92845d"
      },
      "outputs": [
        {
          "output_type": "stream",
          "name": "stdout",
          "text": [
            "The array is [ 1  4  6  9  2  7  5 11  3  8]\n",
            "The array after negate all elements which are between 3 and 8 is [ 1 -4 -6  9  2 -7 -5 11  3  8]\n"
          ]
        }
      ],
      "source": [
        "vector = np.array([1,4,6,9,2,7,5,11,3,8])\n",
        "print(f\"The array is {vector}\")\n",
        "for i in range(vector.size):\n",
        "  if 3 < vector[i] <8:\n",
        "    vector[i]*=-1\n",
        "print(f\"The array after negate all elements which are between 3 and 8 is {vector}\")"
      ]
    },
    {
      "cell_type": "markdown",
      "id": "b7d15d1a",
      "metadata": {
        "id": "b7d15d1a"
      },
      "source": [
        "#### 26. What is the output of the following script? (★☆☆)\n",
        "```python\n",
        "# Author: Jake VanderPlas\n",
        "\n",
        "print(sum(range(5),-1))\n",
        "from numpy import *\n",
        "print(sum(range(5),-1))\n",
        "```"
      ]
    },
    {
      "cell_type": "code",
      "execution_count": null,
      "id": "4c95bc3f",
      "metadata": {
        "id": "4c95bc3f"
      },
      "outputs": [],
      "source": [
        "9\n",
        "10"
      ]
    },
    {
      "cell_type": "markdown",
      "id": "a34f0d08",
      "metadata": {
        "id": "a34f0d08"
      },
      "source": [
        "#### 27. Consider an integer vector Z, which of these expressions are legal? (★☆☆)\n",
        "```python\n",
        "Z**Z\n",
        "2 << Z >> 2\n",
        "Z <- Z\n",
        "1j*Z\n",
        "Z/1/1\n",
        "Z<Z>Z\n",
        "```"
      ]
    },
    {
      "cell_type": "code",
      "execution_count": null,
      "id": "564658fc",
      "metadata": {
        "id": "564658fc"
      },
      "outputs": [],
      "source": [
        "Z**Z         #legal\n",
        "2 << Z >> 2  #legal\n",
        "Z <- Z       #legal\n",
        "1j*Z         #legal\n",
        "Z/1/1        #legal\n",
        "Z<Z>Z        #Not legal"
      ]
    },
    {
      "cell_type": "markdown",
      "id": "c34e94bf",
      "metadata": {
        "id": "c34e94bf"
      },
      "source": [
        "#### 28. What are the result of the following expressions? (★☆☆)\n",
        "```python\n",
        "np.array(0) / np.array(0)\n",
        "np.array(0) // np.array(0)\n",
        "np.array([np.nan]).astype(int).astype(float)\n",
        "```"
      ]
    },
    {
      "cell_type": "code",
      "execution_count": null,
      "id": "56663562",
      "metadata": {
        "id": "56663562"
      },
      "outputs": [],
      "source": [
        "0.0"
      ]
    },
    {
      "cell_type": "markdown",
      "id": "546f5e7b",
      "metadata": {
        "id": "546f5e7b"
      },
      "source": [
        "#### 29. How to round away from zero a float array ? (★☆☆)"
      ]
    },
    {
      "cell_type": "code",
      "execution_count": null,
      "id": "f725a6d2",
      "metadata": {
        "id": "f725a6d2",
        "colab": {
          "base_uri": "https://localhost:8080/"
        },
        "outputId": "8b976e10-f94d-4cf1-8b2c-550796135cbe"
      },
      "outputs": [
        {
          "output_type": "stream",
          "name": "stdout",
          "text": [
            "[1. 2. 2.]\n",
            "[0.3 0.5 0.6]\n"
          ]
        }
      ],
      "source": [
        "x = np.round([1.45, 1.50, 1.55])\n",
        "print(x)\n",
        "x = np.round([0.28, .50, .64],decimals=1)\n",
        "print(x)"
      ]
    },
    {
      "cell_type": "markdown",
      "id": "eadca856",
      "metadata": {
        "id": "eadca856"
      },
      "source": [
        "#### 30. How to find common values between two arrays? (★☆☆)"
      ]
    },
    {
      "cell_type": "code",
      "execution_count": null,
      "id": "e0270b5b",
      "metadata": {
        "id": "e0270b5b",
        "colab": {
          "base_uri": "https://localhost:8080/"
        },
        "outputId": "83fb8e55-a84c-45c4-bfeb-02825b2b3167"
      },
      "outputs": [
        {
          "output_type": "stream",
          "name": "stdout",
          "text": [
            "Matrix one is \n",
            "[[10  5  1]\n",
            " [ 2 10  1]\n",
            " [ 2  9 10]]\n",
            "Matrix two is \n",
            "[[1 9 7]\n",
            " [5 4 1]\n",
            " [5 7 9]]\n",
            "Common values between two arrays is [5. 1. 9.]\n"
          ]
        }
      ],
      "source": [
        "np.random.seed(10)\n",
        "matrix_A = np.random.randint(1,11,9).reshape(3,3)\n",
        "matrix_B = np.random.randint(1,11,9).reshape(3,3)\n",
        "vector = np.array([])\n",
        "for row in range(3):\n",
        "  for col in range(3):\n",
        "    if matrix_A[row,col] in matrix_B:\n",
        "      if matrix_A[row,col] in vector:\n",
        "        break\n",
        "      else:\n",
        "        vector = np.append(vector,matrix_A[row,col])\n",
        "print(f\"Matrix one is \\n{matrix_A}\")\n",
        "print(f\"Matrix two is \\n{matrix_B}\")\n",
        "print(f\"Common values between two arrays is {vector}\")"
      ]
    },
    {
      "cell_type": "markdown",
      "id": "ca16ca22",
      "metadata": {
        "id": "ca16ca22"
      },
      "source": [
        "#### 31. How to ignore all numpy warnings (not recommended)? (★☆☆)"
      ]
    },
    {
      "cell_type": "code",
      "execution_count": null,
      "id": "7d7208ef",
      "metadata": {
        "id": "7d7208ef",
        "colab": {
          "base_uri": "https://localhost:8080/"
        },
        "outputId": "1e4406b4-d81f-454c-8bee-6e607a85c895"
      },
      "outputs": [
        {
          "output_type": "stream",
          "name": "stdout",
          "text": [
            "vector divide by 0 without warning is [inf inf inf inf inf]\n"
          ]
        }
      ],
      "source": [
        "warn = np.seterr(all=\"ignore\")\n",
        "z = np.ones(5) / 0\n",
        "print(f\"vector divide by 0 without warning is {z}\")"
      ]
    },
    {
      "cell_type": "markdown",
      "id": "c7871d0d",
      "metadata": {
        "id": "c7871d0d"
      },
      "source": [
        "#### 32. Is the following expressions true? (★☆☆)\n",
        "```python\n",
        "np.sqrt(-1) == np.emath.sqrt(-1)\n",
        "```"
      ]
    },
    {
      "cell_type": "code",
      "execution_count": null,
      "id": "acc3701a",
      "metadata": {
        "id": "acc3701a"
      },
      "outputs": [],
      "source": [
        "True"
      ]
    },
    {
      "cell_type": "markdown",
      "id": "e0433e30",
      "metadata": {
        "id": "e0433e30"
      },
      "source": [
        "#### 33. How to get the dates of yesterday, today and tomorrow? (★☆☆)"
      ]
    },
    {
      "cell_type": "code",
      "execution_count": null,
      "id": "9c4d2152",
      "metadata": {
        "id": "9c4d2152",
        "colab": {
          "base_uri": "https://localhost:8080/"
        },
        "outputId": "7a35ea27-7e04-49e8-8b62-b8771684c835"
      },
      "outputs": [
        {
          "output_type": "stream",
          "name": "stdout",
          "text": [
            "Date of yesterday is 2023-09-24\n",
            "Date of today is 2023-09-25\n",
            "Date of tomorrow is 2023-09-26\n"
          ]
        }
      ],
      "source": [
        "yesterday = np.datetime64(\"today\",\"D\") - np.timedelta64(1,'D')\n",
        "print(f\"Date of yesterday is {yesterday}\")\n",
        "today = np.datetime64(\"today\",'D')\n",
        "print(f\"Date of today is {today}\")\n",
        "tomorrow = np.datetime64(\"today\",'D') + np.timedelta64(1,'D')\n",
        "print(f\"Date of tomorrow is {tomorrow}\")"
      ]
    },
    {
      "cell_type": "markdown",
      "id": "9f52a2ef",
      "metadata": {
        "id": "9f52a2ef"
      },
      "source": [
        "#### 34. How to get all the dates corresponding to the month of July 2016? (★★☆)"
      ]
    },
    {
      "cell_type": "code",
      "execution_count": null,
      "id": "d6c34dec",
      "metadata": {
        "id": "d6c34dec",
        "colab": {
          "base_uri": "https://localhost:8080/"
        },
        "outputId": "096e0e4f-4242-4385-990f-869c072ccc3a"
      },
      "outputs": [
        {
          "output_type": "stream",
          "name": "stdout",
          "text": [
            "All dates corresponding to the month of July 2016 \n",
            " ['2016-07-01' '2016-07-02' '2016-07-03' '2016-07-04' '2016-07-05'\n",
            " '2016-07-06' '2016-07-07' '2016-07-08' '2016-07-09' '2016-07-10'\n",
            " '2016-07-11' '2016-07-12' '2016-07-13' '2016-07-14' '2016-07-15'\n",
            " '2016-07-16' '2016-07-17' '2016-07-18' '2016-07-19' '2016-07-20'\n",
            " '2016-07-21' '2016-07-22' '2016-07-23' '2016-07-24' '2016-07-25'\n",
            " '2016-07-26' '2016-07-27' '2016-07-28' '2016-07-29' '2016-07-30'\n",
            " '2016-07-31']\n"
          ]
        }
      ],
      "source": [
        "m = np.arange('2016-07' , '2016-08' , dtype = 'datetime64[D]')\n",
        "print(f\"All dates corresponding to the month of July 2016 \\n {m}\")"
      ]
    },
    {
      "cell_type": "markdown",
      "id": "4a64e059",
      "metadata": {
        "id": "4a64e059"
      },
      "source": [
        "#### 35. How to compute ((A+B)*(-A/2)) in place (without copy)? (★★☆)"
      ]
    },
    {
      "cell_type": "code",
      "execution_count": null,
      "id": "49267f60",
      "metadata": {
        "id": "49267f60",
        "colab": {
          "base_uri": "https://localhost:8080/"
        },
        "outputId": "63836be0-6b0f-403f-9448-d51a1f991ac0"
      },
      "outputs": [
        {
          "output_type": "stream",
          "name": "stdout",
          "text": [
            "Compute ((A+B)*(-A/2)) in place (without copy) is [-12.5 -24.5 -40.5]\n"
          ]
        }
      ],
      "source": [
        "A = np.array([1, 2, 3])\n",
        "B = np.array([4, 5, 6])\n",
        "A = A + B\n",
        "A = A * (-A / 2)\n",
        "print(f\"Compute ((A+B)*(-A/2)) in place (without copy) is {A}\")"
      ]
    },
    {
      "cell_type": "markdown",
      "id": "8a98c2a8",
      "metadata": {
        "id": "8a98c2a8"
      },
      "source": [
        "#### 36. Extract the integer part of a random array of positive numbers using 4 different methods (★★☆)"
      ]
    },
    {
      "cell_type": "code",
      "execution_count": null,
      "id": "368130b3",
      "metadata": {
        "id": "368130b3",
        "colab": {
          "base_uri": "https://localhost:8080/"
        },
        "outputId": "349cb486-4f2f-4c9c-b0d4-3279d500998f"
      },
      "outputs": [
        {
          "output_type": "stream",
          "name": "stdout",
          "text": [
            "Random array is \n",
            " [7.71320643 0.20751949 6.33648235 7.48803883 4.98507012 2.24796646\n",
            " 1.98062865 7.60530712 1.69110837 0.88339814]\n",
            "Method number one to extract the integer part of array is [7. 0. 6. 7. 4. 2. 1. 7. 1. 0.]\n",
            "Method number two to extract the integer part of array is [7. 0. 6. 7. 4. 2. 1. 7. 1. 0.]\n",
            "Method number three to extract the integer part of array is [7 0 6 7 4 2 1 7 1 0]\n",
            "Method number four to extract the integer part of array is [7. 0. 6. 7. 4. 2. 1. 7. 1. 0.]\n"
          ]
        }
      ],
      "source": [
        "n = np.random.uniform(0,10,10)\n",
        "np.random.seed(10)\n",
        "print(f\"Random array is \\n {n}\")\n",
        "print(f\"Method number one to extract the integer part of array is {n - n%1}\")\n",
        "print(f\"Method number two to extract the integer part of array is {np.floor(n)}\")\n",
        "print(f\"Method number three to extract the integer part of array is {n.astype(int)}\")\n",
        "print(f\"Method number four to extract the integer part of array is {np.trunc(n)}\")"
      ]
    },
    {
      "cell_type": "markdown",
      "id": "5a2e3d85",
      "metadata": {
        "id": "5a2e3d85"
      },
      "source": [
        "#### 37. Create a 5x5 matrix with row values ranging from 0 to 4 (★★☆)"
      ]
    },
    {
      "cell_type": "code",
      "execution_count": null,
      "id": "1d974e8f",
      "metadata": {
        "id": "1d974e8f",
        "colab": {
          "base_uri": "https://localhost:8080/"
        },
        "outputId": "1b3ed61d-5847-4179-9c78-af6f0b19b732"
      },
      "outputs": [
        {
          "output_type": "stream",
          "name": "stdout",
          "text": [
            "5x5 matrix with row ranging 0 to 4 is \n",
            "[[0 1 2 3 4]\n",
            " [0 1 2 3 4]\n",
            " [0 1 2 3 4]\n",
            " [0 1 2 3 4]\n",
            " [0 1 2 3 4]]\n"
          ]
        }
      ],
      "source": [
        "vector = np.array(range(5))\n",
        "matrix = np.tile(vector,(5,1))\n",
        "print(f\"5x5 matrix with row ranging 0 to 4 is \\n{matrix}\")"
      ]
    },
    {
      "cell_type": "markdown",
      "id": "9720e2d5",
      "metadata": {
        "id": "9720e2d5"
      },
      "source": [
        "#### 38. Consider a generator function that generates 10 integers and use it to build an array (★☆☆)"
      ]
    },
    {
      "cell_type": "code",
      "execution_count": null,
      "id": "e5dd8fc9",
      "metadata": {
        "id": "e5dd8fc9",
        "colab": {
          "base_uri": "https://localhost:8080/"
        },
        "outputId": "4d7538b8-98dd-405c-c936-e4c318ce7360"
      },
      "outputs": [
        {
          "output_type": "stream",
          "name": "stdout",
          "text": [
            "Array with generator function [ 1.  2.  3.  4.  5.  6.  7.  8.  9. 10.]\n"
          ]
        }
      ],
      "source": [
        "def generator():\n",
        "  vector = np.array([])\n",
        "  for n in range(1,11):\n",
        "    vector = np.append(vector,n)\n",
        "  return vector\n",
        "array = generator()\n",
        "print(f\"Array with generator function {array}\")"
      ]
    },
    {
      "cell_type": "code",
      "source": [
        "def generator():\n",
        "  vector = np.random.randint(1,100,10)\n",
        "  return vector\n",
        "array = list(generator())\n",
        "print(f\"Array with random generator function {array}\")"
      ],
      "metadata": {
        "colab": {
          "base_uri": "https://localhost:8080/"
        },
        "id": "urTNZ4ZM-ou1",
        "outputId": "69061d67-e1a2-4a20-88c5-9d1188af3054"
      },
      "id": "urTNZ4ZM-ou1",
      "execution_count": null,
      "outputs": [
        {
          "output_type": "stream",
          "name": "stdout",
          "text": [
            "Array with random generator function [50, 52, 55, 78, 70, 14, 26, 14, 93, 87]\n"
          ]
        }
      ]
    },
    {
      "cell_type": "markdown",
      "id": "c6f2c912",
      "metadata": {
        "id": "c6f2c912"
      },
      "source": [
        "#### 39. Create a vector of size 10 with values ranging from 0 to 1, both excluded (★★☆)"
      ]
    },
    {
      "cell_type": "code",
      "execution_count": null,
      "id": "6aaa27d3",
      "metadata": {
        "id": "6aaa27d3",
        "colab": {
          "base_uri": "https://localhost:8080/"
        },
        "outputId": "f4629aa6-a553-4603-d77f-83852f143ed0"
      },
      "outputs": [
        {
          "output_type": "stream",
          "name": "stdout",
          "text": [
            "Vector of size 10 with values from 0 to 1 is \n",
            "[[0.         0.11111111 0.22222222 0.33333333 0.44444444 0.55555556\n",
            "  0.66666667 0.77777778 0.88888889 1.        ]]\n"
          ]
        }
      ],
      "source": [
        "vector = np.linspace(0, 1, 10).reshape(1,-1)\n",
        "print(f\"Vector of size 10 with values from 0 to 1 is \\n{vector}\")"
      ]
    },
    {
      "cell_type": "markdown",
      "id": "a36d6ee4",
      "metadata": {
        "id": "a36d6ee4"
      },
      "source": [
        "#### 40. Create a random vector of size 10 and sort it (★★☆)"
      ]
    },
    {
      "cell_type": "code",
      "execution_count": null,
      "id": "e589d216",
      "metadata": {
        "id": "e589d216",
        "colab": {
          "base_uri": "https://localhost:8080/"
        },
        "outputId": "30069a54-6d1f-4889-eaf7-0a2736367b71"
      },
      "outputs": [
        {
          "output_type": "stream",
          "name": "stdout",
          "text": [
            "Vector before sorting is [10 37 16  1 29 26 30 49 30  9]\n",
            "Vector after sorting is [ 1  9 10 16 26 29 30 30 37 49]\n"
          ]
        }
      ],
      "source": [
        "np.random.seed(10)\n",
        "vector = np.random.randint(1,50,10)\n",
        "vector_sorted = np.sort(vector)\n",
        "print(f\"Vector before sorting is {vector}\")\n",
        "print(f\"Vector after sorting is {vector_sorted}\")"
      ]
    },
    {
      "cell_type": "markdown",
      "id": "0fb4ad68",
      "metadata": {
        "id": "0fb4ad68"
      },
      "source": [
        "#### 41. How to sum a small array faster than np.sum? (★★☆)"
      ]
    },
    {
      "cell_type": "code",
      "execution_count": null,
      "id": "a1ba05a0",
      "metadata": {
        "id": "a1ba05a0",
        "colab": {
          "base_uri": "https://localhost:8080/"
        },
        "outputId": "05914263-eed2-4ad6-d951-b22ce2616207"
      },
      "outputs": [
        {
          "output_type": "stream",
          "name": "stdout",
          "text": [
            "Array is [0 1 2 3 4 5 6 7 8 9]\n",
            "Sum a small array faster than np.sum is np.add.reduce(array) 45\n"
          ]
        }
      ],
      "source": [
        "z = np.arange(10)\n",
        "sum = np.add.reduce(z)\n",
        "print(f\"Array is {z}\")\n",
        "print(f\"Sum a small array faster than np.sum is np.add.reduce(array) {sum}\")"
      ]
    },
    {
      "cell_type": "markdown",
      "id": "024ac365",
      "metadata": {
        "id": "024ac365"
      },
      "source": [
        "#### 42. Consider two random array A and B, check if they are equal (★★☆)"
      ]
    },
    {
      "cell_type": "code",
      "execution_count": null,
      "id": "7db3846d",
      "metadata": {
        "id": "7db3846d",
        "colab": {
          "base_uri": "https://localhost:8080/"
        },
        "outputId": "9cf47044-3633-4bc4-aae9-8b5ea970e6f0"
      },
      "outputs": [
        {
          "output_type": "stream",
          "name": "stdout",
          "text": [
            "Two random array A and B is equal\n"
          ]
        }
      ],
      "source": [
        "A = np.array([1, 2, 3, 4, 5])\n",
        "B = np.array([1, 2, 3, 4, 5])\n",
        "if np.array_equal(A,B):\n",
        "  print(\"Two random array A and B is equal\")\n",
        "else:\n",
        "  print(\"Two random array A and B is Not equal\")"
      ]
    },
    {
      "cell_type": "code",
      "source": [
        "A = np.array([[1, 2, 3],\n",
        "              [4, 5, 6],\n",
        "              [7, 8, 9]])\n",
        "B = np.array([[1, 2, 3],\n",
        "              [4, 5, 6],\n",
        "              [7, 8, 9]])\n",
        "f = 1\n",
        "for row in range(3):\n",
        "  for col in range(3):\n",
        "    if A[row,col] != B[row,col]:\n",
        "      f = 0\n",
        "      break\n",
        "if f == 1:\n",
        "  print(\"Two random array A and B is equal\")\n",
        "else:\n",
        "  print(\"Two random array A and B is Not equal\")"
      ],
      "metadata": {
        "colab": {
          "base_uri": "https://localhost:8080/"
        },
        "id": "KAuW3oD1xEPC",
        "outputId": "7a17adae-56e5-4341-865b-c62d22f39cf7"
      },
      "id": "KAuW3oD1xEPC",
      "execution_count": null,
      "outputs": [
        {
          "output_type": "stream",
          "name": "stdout",
          "text": [
            "Two random array A and B is equal\n"
          ]
        }
      ]
    },
    {
      "cell_type": "markdown",
      "id": "c68d2401",
      "metadata": {
        "id": "c68d2401"
      },
      "source": [
        "#### 43. Make an array immutable (read-only) (★★☆)"
      ]
    },
    {
      "cell_type": "code",
      "execution_count": null,
      "id": "7828539d",
      "metadata": {
        "id": "7828539d",
        "colab": {
          "base_uri": "https://localhost:8080/"
        },
        "outputId": "46c3b882-3aae-4b5f-8eff-beb52de9c735"
      },
      "outputs": [
        {
          "output_type": "stream",
          "name": "stdout",
          "text": [
            "Array can be read-only is frozenset({1, 2, 3, 4, 5})\n",
            "Array can be read-only without 'frozenset' is [1, 2, 3, 4, 5]\n"
          ]
        }
      ],
      "source": [
        "A = frozenset(np.array([1, 2, 3, 4, 5]))\n",
        "print(f\"Array can be read-only is {A}\")\n",
        "print(f\"Array can be read-only without 'frozenset' is {list(A)}\")"
      ]
    },
    {
      "cell_type": "code",
      "source": [
        "A = np.array([1, 2, 3, 4, 5])\n",
        "A.flags.writeable = False\n",
        "print(f\"Array can be read-only is {A}\")"
      ],
      "metadata": {
        "colab": {
          "base_uri": "https://localhost:8080/"
        },
        "id": "s2ATOuiIzFgX",
        "outputId": "0af6a9f8-f736-44ab-dfad-9e2d1028f238"
      },
      "id": "s2ATOuiIzFgX",
      "execution_count": null,
      "outputs": [
        {
          "output_type": "stream",
          "name": "stdout",
          "text": [
            "Array can be read-only is [1 2 3 4 5]\n"
          ]
        }
      ]
    },
    {
      "cell_type": "markdown",
      "id": "55df6280",
      "metadata": {
        "id": "55df6280"
      },
      "source": [
        "#### 44. Consider a random 10x2 matrix representing cartesian coordinates, convert them to polar coordinates (★★☆)"
      ]
    },
    {
      "cell_type": "code",
      "execution_count": null,
      "id": "f1c86ea0",
      "metadata": {
        "id": "f1c86ea0",
        "colab": {
          "base_uri": "https://localhost:8080/"
        },
        "outputId": "82bba530-9885-4c0c-dbc8-486a9d511021"
      },
      "outputs": [
        {
          "output_type": "stream",
          "name": "stdout",
          "text": [
            "The random 10x2 matrix is \n",
            " [[0.77132064 0.02075195]\n",
            " [0.63364823 0.74880388]\n",
            " [0.49850701 0.22479665]\n",
            " [0.19806286 0.76053071]\n",
            " [0.16911084 0.08833981]\n",
            " [0.68535982 0.95339335]\n",
            " [0.00394827 0.51219226]\n",
            " [0.81262096 0.61252607]\n",
            " [0.72175532 0.29187607]\n",
            " [0.91777412 0.71457578]] \n",
            "\n",
            "[0.77159975 0.98092678 0.54684803 0.78589812 0.19079412 1.17417075\n",
            " 0.51220748 1.01761535 0.77853862 1.16315428]\n",
            "\n",
            "[0.02689795 0.86850441 0.42363518 1.31602818 0.48138948 0.94752207\n",
            " 1.56308792 0.64590701 0.38429159 0.66155314]\n"
          ]
        }
      ],
      "source": [
        "np.random.seed(10)\n",
        "matrix = np.random.random((10,2))\n",
        "print(f\"The random 10x2 matrix is \\n {matrix} \\n\")\n",
        "x = matrix[:,0]\n",
        "y = matrix[:,1]\n",
        "r = np.sqrt(x**2+y**2)\n",
        "t = np.arctan2(y,x)\n",
        "print(r)\n",
        "print()\n",
        "print(t)"
      ]
    },
    {
      "cell_type": "markdown",
      "id": "2f60f1ec",
      "metadata": {
        "id": "2f60f1ec"
      },
      "source": [
        "#### 45. Create random vector of size 10 and replace the maximum value by 0 (★★☆)"
      ]
    },
    {
      "cell_type": "code",
      "execution_count": null,
      "id": "d9f48f1c",
      "metadata": {
        "id": "d9f48f1c",
        "colab": {
          "base_uri": "https://localhost:8080/"
        },
        "outputId": "4b4f5637-ff98-4334-94af-f06515e48606"
      },
      "outputs": [
        {
          "output_type": "stream",
          "name": "stdout",
          "text": [
            "Random vector of size 10 is [10 16 65 29 90 94 30  9 74  1]\n",
            "Random vector after remove maximum value '94' is [10 16 65 29 90  0 30  9 74  1]\n"
          ]
        }
      ],
      "source": [
        "np.random.seed(10)\n",
        "vector = np.random.randint(1,99,10)\n",
        "print(f\"Random vector of size 10 is {vector}\")\n",
        "max_value = vector.max()\n",
        "max_index = np.argmax(vector)\n",
        "vector[max_index] = 0\n",
        "print(f\"Random vector after remove maximum value '{max_value}' is {vector}\")"
      ]
    },
    {
      "cell_type": "markdown",
      "id": "084e8ad4",
      "metadata": {
        "id": "084e8ad4"
      },
      "source": [
        "#### 46. Create a structured array with `x` and `y` coordinates covering the [0,1]x[0,1] area (★★☆)"
      ]
    },
    {
      "cell_type": "code",
      "execution_count": null,
      "id": "58b47c13",
      "metadata": {
        "id": "58b47c13",
        "colab": {
          "base_uri": "https://localhost:8080/"
        },
        "outputId": "c9fb49d8-dfa7-48ac-a907-ad7e23d45c72"
      },
      "outputs": [
        {
          "output_type": "stream",
          "name": "stdout",
          "text": [
            "Array is \n",
            "[[(0., 0.) (0., 0.) (0., 0.) (0., 0.) (0., 0.)]\n",
            " [(0., 0.) (0., 0.) (0., 0.) (0., 0.) (0., 0.)]\n",
            " [(0., 0.) (0., 0.) (0., 0.) (0., 0.) (0., 0.)]\n",
            " [(0., 0.) (0., 0.) (0., 0.) (0., 0.) (0., 0.)]\n",
            " [(0., 0.) (0., 0.) (0., 0.) (0., 0.) (0., 0.)]]\n",
            "Array is \n",
            "[[(0.  , 0.  ) (0.25, 0.  ) (0.5 , 0.  ) (0.75, 0.  ) (1.  , 0.  )]\n",
            " [(0.  , 0.25) (0.25, 0.25) (0.5 , 0.25) (0.75, 0.25) (1.  , 0.25)]\n",
            " [(0.  , 0.5 ) (0.25, 0.5 ) (0.5 , 0.5 ) (0.75, 0.5 ) (1.  , 0.5 )]\n",
            " [(0.  , 0.75) (0.25, 0.75) (0.5 , 0.75) (0.75, 0.75) (1.  , 0.75)]\n",
            " [(0.  , 1.  ) (0.25, 1.  ) (0.5 , 1.  ) (0.75, 1.  ) (1.  , 1.  )]]\n"
          ]
        }
      ],
      "source": [
        "array = np.zeros((5,5), [('x',float),('y',float)])\n",
        "print(f\"Array is \\n{array}\")\n",
        "array['x'],array['y'] = np.meshgrid(np.linspace(0,1,5),np.linspace(0,1,5))\n",
        "print(f\"Array is \\n{array}\")"
      ]
    },
    {
      "cell_type": "markdown",
      "id": "d7b9bc42",
      "metadata": {
        "id": "d7b9bc42"
      },
      "source": [
        "#### 47. Given two arrays, X and Y, construct the Cauchy matrix C (Cij =1/(xi - yj)) (★★☆)"
      ]
    },
    {
      "cell_type": "code",
      "execution_count": null,
      "id": "a24824fb",
      "metadata": {
        "id": "a24824fb",
        "colab": {
          "base_uri": "https://localhost:8080/"
        },
        "outputId": "be09568b-406a-4f4d-8709-224dda6a3c0c"
      },
      "outputs": [
        {
          "output_type": "stream",
          "name": "stdout",
          "text": [
            "Cauchy Matrix is \n",
            "[[-0.33333333 -0.25       -0.2       ]\n",
            " [-0.5        -0.33333333 -0.25      ]\n",
            " [-1.         -0.5        -0.33333333]]\n"
          ]
        }
      ],
      "source": [
        "X = np.array([1, 2, 3])\n",
        "Y = np.array([4, 5, 6])\n",
        "C = np.empty((len(X),len(Y)))\n",
        "for i in range(len(X)):\n",
        "  for j in range(len(Y)):\n",
        "    C[i,j] = 1 / (X[i] - Y[j])\n",
        "print(f\"Cauchy Matrix is \\n{C}\")"
      ]
    },
    {
      "cell_type": "markdown",
      "id": "65ebc11b",
      "metadata": {
        "id": "65ebc11b"
      },
      "source": [
        "#### 48. Print the minimum and maximum representable value for each numpy scalar type (★★☆)"
      ]
    },
    {
      "cell_type": "code",
      "execution_count": null,
      "id": "e45d38fb",
      "metadata": {
        "id": "e45d38fb",
        "colab": {
          "base_uri": "https://localhost:8080/"
        },
        "outputId": "a4fad30d-57e7-4f93-d230-9344ed7edebc"
      },
      "outputs": [
        {
          "output_type": "stream",
          "name": "stdout",
          "text": [
            "<class 'numpy.int8'>: Max = 127 , Min = -128\n",
            "<class 'numpy.int16'>: Max = 32767 , Min = -32768\n",
            "<class 'numpy.int32'>: Max = 2147483647 , Min = -2147483648\n",
            "<class 'numpy.int64'>: Max = 9223372036854775807 , Min = -9223372036854775808\n",
            "<class 'numpy.uint8'>: Max = 255 , Min = 0\n",
            "<class 'numpy.uint16'>: Max = 65535 , Min = 0\n",
            "<class 'numpy.uint32'>: Max = 4294967295 , Min = 0\n",
            "<class 'numpy.uint64'>: Max = 18446744073709551615 , Min = 0\n",
            "<class 'numpy.float16'>: Max = 65504.0 , Min = -65504.0\n",
            "<class 'numpy.float32'>: Max = 3.4028234663852886e+38 , Min = -3.4028234663852886e+38\n",
            "<class 'numpy.float64'>: Max = 1.7976931348623157e+308 , Min = -1.7976931348623157e+308\n"
          ]
        }
      ],
      "source": [
        "int_type = [np.int8,np.int16,np.int32,np.int64]\n",
        "for i in int_type:\n",
        "  info = np.iinfo(i)\n",
        "  print(f\"{i}: Max = {info.max} , Min = {info.min}\")\n",
        "\n",
        "uint_type = [np.uint8,np.uint16,np.uint32,np.uint64]\n",
        "for i in uint_type:\n",
        "  info = np.iinfo(i)\n",
        "  print(f\"{i}: Max = {info.max} , Min = {info.min}\")\n",
        "\n",
        "float_type = [np.float16,np.float32,np.float64]\n",
        "for i in float_type:\n",
        "  info = np.finfo(i)\n",
        "  print(f\"{i}: Max = {info.max} , Min = {info.min}\")"
      ]
    },
    {
      "cell_type": "markdown",
      "id": "9b317a98",
      "metadata": {
        "id": "9b317a98"
      },
      "source": [
        "#### 49. How to print all the values of an array? (★★☆)"
      ]
    },
    {
      "cell_type": "code",
      "execution_count": null,
      "id": "309cdeb9",
      "metadata": {
        "id": "309cdeb9",
        "colab": {
          "base_uri": "https://localhost:8080/"
        },
        "outputId": "a6631083-70ca-4be6-dd48-8d48c5e7bedb"
      },
      "outputs": [
        {
          "output_type": "stream",
          "name": "stdout",
          "text": [
            "Array is \n",
            "[[10 16 65]\n",
            " [29 90 94]\n",
            " [30  9 74]]\n",
            "10  16  65  29  90  94  30  9  74  "
          ]
        }
      ],
      "source": [
        "np.random.seed(10)\n",
        "array = np.random.randint(1,100,9).reshape(3,3)\n",
        "print(f\"Array is \\n{array}\")\n",
        "for row in range(3):\n",
        "  for col in range(3):\n",
        "    print(array[row,col],end=\"  \")"
      ]
    },
    {
      "cell_type": "code",
      "source": [
        "array = np.array([1, 2, 3, 4, 5])\n",
        "print(f\"Array is \\n{array}\")\n",
        "for i in range(len(array)):\n",
        "  print(array[i],end=\" \")"
      ],
      "metadata": {
        "colab": {
          "base_uri": "https://localhost:8080/"
        },
        "id": "epJ59lDsejxw",
        "outputId": "c7273bcc-9f6e-4ad6-f00b-c367f0f4ae68"
      },
      "id": "epJ59lDsejxw",
      "execution_count": null,
      "outputs": [
        {
          "output_type": "stream",
          "name": "stdout",
          "text": [
            "Array is \n",
            "[1 2 3 4 5]\n",
            "1 2 3 4 5 "
          ]
        }
      ]
    },
    {
      "cell_type": "markdown",
      "id": "b580f9d0",
      "metadata": {
        "id": "b580f9d0"
      },
      "source": [
        "#### 50. How to find the closest value (to a given scalar) in a vector? (★★☆)"
      ]
    },
    {
      "cell_type": "code",
      "execution_count": null,
      "id": "ebfb6714",
      "metadata": {
        "id": "ebfb6714",
        "colab": {
          "base_uri": "https://localhost:8080/"
        },
        "outputId": "f4e75a01-2355-4f35-f5c8-52873e1c255e"
      },
      "outputs": [
        {
          "output_type": "stream",
          "name": "stdout",
          "text": [
            "Vector is [1.2 2.5 3.8 4.1 5.7]\n",
            "Enter your target : 3.0\n",
            "The closet value to your target '3.0' is 2.5 of index '1'\n"
          ]
        }
      ],
      "source": [
        "vector = np.array([1.2, 2.5, 3.8, 4.1, 5.7])\n",
        "print(f\"Vector is {vector}\")\n",
        "target = float(input(\"Enter your target : \"))\n",
        "difference_array = np.array([])\n",
        "for i in range(len(vector)):\n",
        "  difference = np.abs(target-vector[i])\n",
        "  difference_array = np.append(difference_array,difference)\n",
        "smallest_value_index = np.argmin(difference_array)\n",
        "print(f\"The closet value to your target '{target}' is {vector[smallest_value_index]} of index '{smallest_value_index}'\")"
      ]
    },
    {
      "cell_type": "markdown",
      "id": "602e6252",
      "metadata": {
        "id": "602e6252"
      },
      "source": [
        "#### 51. Create a structured array representing a position (x,y) and a color (r,g,b) (★★☆)"
      ]
    },
    {
      "cell_type": "code",
      "execution_count": null,
      "id": "cf002b3a",
      "metadata": {
        "id": "cf002b3a",
        "colab": {
          "base_uri": "https://localhost:8080/"
        },
        "outputId": "a9ff2c97-f951-47b5-f13d-4dc9ebe2f606"
      },
      "outputs": [
        {
          "output_type": "stream",
          "name": "stdout",
          "text": [
            "Structured Array : \n",
            "[((1., 2.), (255,   0,   0)) ((3., 4.), (  0, 255,   0))\n",
            " ((5., 6.), (  0,   0, 255))]\n",
            "Position (x,y) at index 0 is : (1., 2.)\n",
            "Color (r,g,b) at index 0 is : (255, 0, 0)\n"
          ]
        }
      ],
      "source": [
        "dtype = np.dtype([('position',[('x',float),('y',float)]) , ('color',[('r',int),('g',int),('b',int)])])\n",
        "structured_array = np.array([((1.0, 2.0), (255, 0, 0)),\n",
        "                             ((3.0, 4.0), (0, 255, 0)),\n",
        "                             ((5.0, 6.0), (0, 0, 255))], dtype=dtype)\n",
        "print(f\"Structured Array : \\n{structured_array}\")\n",
        "print(f\"Position (x,y) at index 0 is : {structured_array['position'][0]}\")\n",
        "print(f\"Color (r,g,b) at index 0 is : {structured_array['color'][0]}\")"
      ]
    },
    {
      "cell_type": "markdown",
      "id": "78bcd92f",
      "metadata": {
        "id": "78bcd92f"
      },
      "source": [
        "#### 52. Consider a random vector with shape (100,2) representing coordinates, find point by point distances (★★☆)"
      ]
    },
    {
      "cell_type": "code",
      "execution_count": null,
      "id": "fea7f9a6",
      "metadata": {
        "id": "fea7f9a6",
        "colab": {
          "base_uri": "https://localhost:8080/"
        },
        "outputId": "7ada6132-1ef9-4f99-9cce-dd64588a3812"
      },
      "outputs": [
        {
          "output_type": "stream",
          "name": "stdout",
          "text": [
            "Pairwise distances \n",
            "[[0.         0.20424853 0.62572149 ... 0.70447177 0.17485561 0.11346428]\n",
            " [0.20424853 0.         0.58959645 ... 0.57852758 0.09731291 0.29786734]\n",
            " [0.62572149 0.58959645 0.         ... 0.30211407 0.50943054 0.59069253]\n",
            " ...\n",
            " [0.70447177 0.57852758 0.30211407 ... 0.         0.53926345 0.71818052]\n",
            " [0.17485561 0.09731291 0.50943054 ... 0.53926345 0.         0.23743441]\n",
            " [0.11346428 0.29786734 0.59069253 ... 0.71818052 0.23743441 0.        ]]\n"
          ]
        }
      ],
      "source": [
        "vector = np.random.rand(100, 2)\n",
        "n = vector.shape[0]\n",
        "distances = np.zeros((n, n))\n",
        "for i in range(n):\n",
        "    for j in range(n):\n",
        "       distances[i, j] = np.linalg.norm(vector[i] - vector[j])\n",
        "print(f\"Pairwise distances \\n{distances}\")"
      ]
    },
    {
      "cell_type": "markdown",
      "id": "343c5a85",
      "metadata": {
        "id": "343c5a85"
      },
      "source": [
        "#### 53. How to convert a float (32 bits) array into an integer (32 bits) in place?"
      ]
    },
    {
      "cell_type": "code",
      "execution_count": null,
      "id": "fc1b687b",
      "metadata": {
        "id": "fc1b687b",
        "colab": {
          "base_uri": "https://localhost:8080/"
        },
        "outputId": "ad66f64c-118f-4f44-c352-cf988459fd80"
      },
      "outputs": [
        {
          "output_type": "stream",
          "name": "stdout",
          "text": [
            "Array with float (32 bits) is [1.5 2.7 3.3 4.8]\n",
            "Array with int (32 bits) is [1069547520 1076677837 1079194419 1083808154]\n"
          ]
        }
      ],
      "source": [
        "array = np.array([1.5, 2.7, 3.3, 4.8],dtype = np.float32)\n",
        "print(f\"Array with float (32 bits) is {array}\")\n",
        "int_array = array.view(np.int32)\n",
        "print(f\"Array with int (32 bits) is {int_array}\")"
      ]
    },
    {
      "cell_type": "markdown",
      "id": "a69e1ace",
      "metadata": {
        "id": "a69e1ace"
      },
      "source": [
        "#### 54. How to read the following file? (★★☆)\n",
        "```\n",
        "1, 2, 3, 4, 5\n",
        "6,  ,  , 7, 8\n",
        " ,  , 9,10,11\n",
        "```"
      ]
    },
    {
      "cell_type": "code",
      "execution_count": null,
      "id": "1c7957d4",
      "metadata": {
        "id": "1c7957d4",
        "colab": {
          "base_uri": "https://localhost:8080/"
        },
        "outputId": "6dd1df2e-153d-4b92-a70c-52c51eac59c2"
      },
      "outputs": [
        {
          "output_type": "stream",
          "name": "stdout",
          "text": [
            "[[ 1  2  3  4  5]\n",
            " [ 6 -1 -1  7  8]\n",
            " [-1 -1  9 10 11]]\n"
          ]
        },
        {
          "output_type": "stream",
          "name": "stderr",
          "text": [
            "<ipython-input-78-7ba6b0e7042d>:5: DeprecationWarning: `np.int` is a deprecated alias for the builtin `int`. To silence this warning, use `int` by itself. Doing this will not modify any behavior and is safe. When replacing `np.int`, you may wish to use e.g. `np.int64` or `np.int32` to specify the precision. If you wish to review your current use, check the release note link for additional information.\n",
            "Deprecated in NumPy 1.20; for more details and guidance: https://numpy.org/devdocs/release/1.20.0-notes.html#deprecations\n",
            "  z = np.genfromtxt(s, delimiter=\",\", dtype=np.int)\n"
          ]
        }
      ],
      "source": [
        "from io import StringIO\n",
        "s = StringIO(\"\"\"1, 2, 3, 4, 5\\n\n",
        "                6,  ,  , 7, 8\\n\n",
        "                 ,  , 9,10,11\\n\"\"\")\n",
        "z = np.genfromtxt(s, delimiter=\",\", dtype=np.int)\n",
        "print(z)"
      ]
    },
    {
      "cell_type": "markdown",
      "id": "c23bd80d",
      "metadata": {
        "id": "c23bd80d"
      },
      "source": [
        "#### 55. What is the equivalent of enumerate for numpy arrays? (★★☆)"
      ]
    },
    {
      "cell_type": "code",
      "execution_count": null,
      "id": "d95d9578",
      "metadata": {
        "id": "d95d9578",
        "colab": {
          "base_uri": "https://localhost:8080/"
        },
        "outputId": "8083d6db-7227-462b-ba37-b1ed5852f18b"
      },
      "outputs": [
        {
          "output_type": "stream",
          "name": "stdout",
          "text": [
            "Array is \n",
            "[[1 2 3]\n",
            " [4 5 6]\n",
            " [7 8 9]]\n",
            "Index : (0, 0) value : 1\n",
            "Index : (0, 1) value : 2\n",
            "Index : (0, 2) value : 3\n",
            "Index : (1, 0) value : 4\n",
            "Index : (1, 1) value : 5\n",
            "Index : (1, 2) value : 6\n",
            "Index : (2, 0) value : 7\n",
            "Index : (2, 1) value : 8\n",
            "Index : (2, 2) value : 9\n"
          ]
        }
      ],
      "source": [
        "array = np.array(range(1,10)).reshape(3,3)\n",
        "print(f\"Array is \\n{array}\")\n",
        "for row in range(3):\n",
        "  for col in range(3):\n",
        "    position = (row,col)\n",
        "    print(f\"Index : {position} value : {array[row,col]}\")"
      ]
    },
    {
      "cell_type": "markdown",
      "id": "2153a5ec",
      "metadata": {
        "id": "2153a5ec"
      },
      "source": [
        "#### 56. Generate a generic 2D Gaussian-like array (★★☆)"
      ]
    },
    {
      "cell_type": "code",
      "execution_count": null,
      "id": "61122d1e",
      "metadata": {
        "id": "61122d1e",
        "colab": {
          "base_uri": "https://localhost:8080/"
        },
        "outputId": "4952bc4d-b73c-4ba5-cfbe-7b5d316ba51b"
      },
      "outputs": [
        {
          "output_type": "stream",
          "name": "stdout",
          "text": [
            "2D Gaussian-like array is \n",
            "[[0.36787944 0.44822088 0.51979489 0.57375342 0.60279818 0.60279818\n",
            "  0.57375342 0.51979489 0.44822088 0.36787944]\n",
            " [0.44822088 0.54610814 0.63331324 0.69905581 0.73444367 0.73444367\n",
            "  0.69905581 0.63331324 0.54610814 0.44822088]\n",
            " [0.51979489 0.63331324 0.73444367 0.81068432 0.85172308 0.85172308\n",
            "  0.81068432 0.73444367 0.63331324 0.51979489]\n",
            " [0.57375342 0.69905581 0.81068432 0.89483932 0.9401382  0.9401382\n",
            "  0.89483932 0.81068432 0.69905581 0.57375342]\n",
            " [0.60279818 0.73444367 0.85172308 0.9401382  0.98773022 0.98773022\n",
            "  0.9401382  0.85172308 0.73444367 0.60279818]\n",
            " [0.60279818 0.73444367 0.85172308 0.9401382  0.98773022 0.98773022\n",
            "  0.9401382  0.85172308 0.73444367 0.60279818]\n",
            " [0.57375342 0.69905581 0.81068432 0.89483932 0.9401382  0.9401382\n",
            "  0.89483932 0.81068432 0.69905581 0.57375342]\n",
            " [0.51979489 0.63331324 0.73444367 0.81068432 0.85172308 0.85172308\n",
            "  0.81068432 0.73444367 0.63331324 0.51979489]\n",
            " [0.44822088 0.54610814 0.63331324 0.69905581 0.73444367 0.73444367\n",
            "  0.69905581 0.63331324 0.54610814 0.44822088]\n",
            " [0.36787944 0.44822088 0.51979489 0.57375342 0.60279818 0.60279818\n",
            "  0.57375342 0.51979489 0.44822088 0.36787944]]\n"
          ]
        }
      ],
      "source": [
        "x,y=np.meshgrid(np.linspace(-1,1,10),np.linspace(-1,1,10))\n",
        "d = np.sqrt(x*x+y*y)\n",
        "sigma,mu = 1.0,0.0\n",
        "g = np.exp(-((d-mu)**2/(2.0*sigma**2)))\n",
        "print(f\"2D Gaussian-like array is \\n{g}\")"
      ]
    },
    {
      "cell_type": "markdown",
      "id": "2e76d589",
      "metadata": {
        "id": "2e76d589"
      },
      "source": [
        "#### 57. How to randomly place p elements in a 2D array? (★★☆)"
      ]
    },
    {
      "cell_type": "code",
      "execution_count": null,
      "id": "0c2e4fcc",
      "metadata": {
        "id": "0c2e4fcc",
        "colab": {
          "base_uri": "https://localhost:8080/"
        },
        "outputId": "db7b3f14-2320-4e23-b205-4850aaea67de"
      },
      "outputs": [
        {
          "output_type": "stream",
          "name": "stdout",
          "text": [
            "[0. 0. 0. 0. 0. 0. 0. 0. 0. 0. 0. 0. 0. 0. 0. 0. 0. 0. 0. 0. 0. 0. 0. 0.\n",
            " 0. 0. 0. 0. 0. 0. 0. 1. 0. 0. 0. 0. 0. 0. 0. 0. 0. 0. 0. 0. 0. 0. 0. 0.\n",
            " 0. 0. 0. 0. 0. 0. 0. 0. 0. 0. 0. 0. 0. 0. 0. 0. 0. 0. 0. 0. 0. 0. 0. 0.\n",
            " 0. 0. 0. 0. 0. 0. 0. 0. 0. 0. 0. 0. 0. 0. 0. 0. 1. 0. 0. 0. 1. 0. 0. 0.\n",
            " 0. 0. 0. 0.]\n"
          ]
        }
      ],
      "source": [
        "from os import replace\n",
        "n = 10\n",
        "p = 3\n",
        "z = np.zeros((n*n))\n",
        "np.put(z,np.random.choice(range(n*n),p,replace=False),1)\n",
        "print(z)"
      ]
    },
    {
      "cell_type": "markdown",
      "id": "8b3933eb",
      "metadata": {
        "id": "8b3933eb"
      },
      "source": [
        "#### 58. Subtract the mean of each row of a matrix (★★☆)"
      ]
    },
    {
      "cell_type": "code",
      "execution_count": null,
      "id": "a306c9ef",
      "metadata": {
        "id": "a306c9ef",
        "colab": {
          "base_uri": "https://localhost:8080/"
        },
        "outputId": "61b4f86b-a264-44ed-98c5-1110c182df4f"
      },
      "outputs": [
        {
          "output_type": "stream",
          "name": "stdout",
          "text": [
            "Original matrix : \n",
            "[[1 2 3]\n",
            " [4 5 6]\n",
            " [7 8 9]]\n",
            "Mean row is [2. 5. 8.]\n",
            "Matrix with row means subtracted:\n",
            "[[-1  0  1]\n",
            " [-1  0  1]\n",
            " [-1  0  1]]\n"
          ]
        }
      ],
      "source": [
        "matrix = np.array(range(1,10)).reshape(3,3)\n",
        "print(f\"Original matrix : \\n{matrix}\")\n",
        "mean_row = np.mean(matrix,axis=1)\n",
        "print(f\"Mean row is {mean_row}\")\n",
        "result = np.empty_like(matrix)\n",
        "for row in range(3):\n",
        "   result[row, :] = matrix[row, :] - mean_row[row]\n",
        "print(f\"Matrix with row means subtracted:\\n{result}\")"
      ]
    },
    {
      "cell_type": "markdown",
      "id": "ea8807c0",
      "metadata": {
        "id": "ea8807c0"
      },
      "source": [
        "#### 59. How to sort an array by the nth column? (★★☆)"
      ]
    },
    {
      "cell_type": "code",
      "execution_count": null,
      "id": "cc89a699",
      "metadata": {
        "id": "cc89a699",
        "colab": {
          "base_uri": "https://localhost:8080/"
        },
        "outputId": "efecc39c-e375-4080-b526-4600af0471dd"
      },
      "outputs": [
        {
          "output_type": "stream",
          "name": "stdout",
          "text": [
            "Array before sorting is \n",
            "[[9 4 0]\n",
            " [1 9 0]\n",
            " [1 8 9]]\n",
            "\n",
            "Array after sorting is \n",
            "[9 4 0]\n",
            "[1 8 9]\n",
            "[1 9 0]\n"
          ]
        }
      ],
      "source": [
        "np.random.seed(10)\n",
        "z = np.random.randint(0,10,(3,3))\n",
        "print(f\"Array before sorting is \\n{z}\\n\")\n",
        "sorted_data = sorted(z, key=lambda z: z[1])\n",
        "print(\"Array after sorting is \")\n",
        "for row in sorted_data:\n",
        "    print(row)"
      ]
    },
    {
      "cell_type": "markdown",
      "id": "00fa00a1",
      "metadata": {
        "id": "00fa00a1"
      },
      "source": [
        "#### 60. How to tell if a given 2D array has null columns? (★★☆)"
      ]
    },
    {
      "cell_type": "code",
      "execution_count": null,
      "id": "3436e165",
      "metadata": {
        "id": "3436e165",
        "colab": {
          "base_uri": "https://localhost:8080/"
        },
        "outputId": "977ff2e6-f09e-4140-bb9d-cd32c52bc1e7"
      },
      "outputs": [
        {
          "output_type": "stream",
          "name": "stdout",
          "text": [
            "The array has null columns.\n"
          ]
        }
      ],
      "source": [
        "data = [\n",
        "    [1, None, 3],\n",
        "    [None, None, None],\n",
        "    [4, None, 6]\n",
        "]\n",
        "f = 0\n",
        "for col in range(len(data[0])):\n",
        "  column_value = [row[col] for row in data]\n",
        "  if all(value is None for value in column_values):\n",
        "    f = 1\n",
        "    break\n",
        "if f == 1:\n",
        "   print(\"The array has null columns.\")\n",
        "else:\n",
        "   print(\"The array does not have null columns.\")"
      ]
    },
    {
      "cell_type": "markdown",
      "id": "5a65c7a2",
      "metadata": {
        "id": "5a65c7a2"
      },
      "source": [
        "#### 61. Find the nearest value from a given value in an array (★★☆)"
      ]
    },
    {
      "cell_type": "code",
      "execution_count": null,
      "id": "73f149d6",
      "metadata": {
        "id": "73f149d6",
        "colab": {
          "base_uri": "https://localhost:8080/"
        },
        "outputId": "d96c3bd9-aa91-44a0-e018-ffa3e7644f8a"
      },
      "outputs": [
        {
          "output_type": "stream",
          "name": "stdout",
          "text": [
            "Vector is [ 1  3  8 12 15]\n",
            "Enter your target : 7\n",
            "The closet value to your target '7' is 8 of index '2'\n"
          ]
        }
      ],
      "source": [
        "vector = np.array([1, 3, 8, 12, 15])\n",
        "print(f\"Vector is {vector}\")\n",
        "target = int(input(\"Enter your target : \"))\n",
        "difference_array = np.array([])\n",
        "for i in range(len(vector)):\n",
        "  difference = np.abs(target-vector[i])\n",
        "  difference_array = np.append(difference_array,difference)\n",
        "smallest_value_index = np.argmin(difference_array)\n",
        "print(f\"The closet value to your target '{target}' is {vector[smallest_value_index]} of index '{smallest_value_index}'\")"
      ]
    },
    {
      "cell_type": "markdown",
      "id": "dd83e8af",
      "metadata": {
        "id": "dd83e8af"
      },
      "source": [
        "#### 62. Considering two arrays with shape (1,3) and (3,1), how to compute their sum using an iterator? (★★☆)"
      ]
    },
    {
      "cell_type": "code",
      "execution_count": null,
      "id": "29a709a1",
      "metadata": {
        "id": "29a709a1",
        "colab": {
          "base_uri": "https://localhost:8080/"
        },
        "outputId": "0109005f-0941-4e77-9085-787a10bd09cc"
      },
      "outputs": [
        {
          "output_type": "stream",
          "name": "stdout",
          "text": [
            "Matrix A is \n",
            "[[5 1 2]]\n",
            "Matrix B is \n",
            "[[1]\n",
            " [2]\n",
            " [8]]\n",
            "Sum of two matrix with shape (1,3) is [[ 6  3 10]]\n",
            "Sum of two matrix with shape (3,1) is \n",
            "[[ 6]\n",
            " [ 3]\n",
            " [10]]\n"
          ]
        }
      ],
      "source": [
        "np.random.seed(10)\n",
        "matrix_A = np.random.randint(1,10,(1,3))\n",
        "print(f\"Matrix A is \\n{matrix_A}\")\n",
        "np.random.seed(11)\n",
        "matrix_B = np.random.randint(1,10,(3,1))\n",
        "print(f\"Matrix B is \\n{matrix_B}\")\n",
        "matrix_B_copy = matrix_B.flatten()\n",
        "matrix_sum = np.empty_like(matrix_A)\n",
        "for row in range(1):\n",
        "  for col in range(3):\n",
        "    matrix_sum[row,col] = matrix_A[row,col] + matrix_B_copy[col]\n",
        "print(f\"Sum of two matrix with shape (1,3) is {matrix_sum}\")\n",
        "print(f\"Sum of two matrix with shape (3,1) is \\n{matrix_sum.reshape(3,1)}\")"
      ]
    },
    {
      "cell_type": "markdown",
      "id": "6c042efa",
      "metadata": {
        "id": "6c042efa"
      },
      "source": [
        "#### 63. Create an array class that has a name attribute (★★☆)"
      ]
    },
    {
      "cell_type": "code",
      "execution_count": null,
      "id": "45b3d2e0",
      "metadata": {
        "id": "45b3d2e0",
        "colab": {
          "base_uri": "https://localhost:8080/"
        },
        "outputId": "6f41ae8d-fe58-42b3-e040-1a71c25c57d4"
      },
      "outputs": [
        {
          "output_type": "stream",
          "name": "stdout",
          "text": [
            "Array Array one is [1. 2. 3. 4. 5.]\n",
            "Array Array two is [ 6.  7.  8.  9. 10.]\n"
          ]
        }
      ],
      "source": [
        "class array_named:\n",
        "  __name = None\n",
        "  __array = np.array([])\n",
        "  def __init__(self,name,data):\n",
        "    self.__array = np.append(self.__array,data)\n",
        "    self.__name = name\n",
        "  def display(self):\n",
        "    print(f\"Array {self.__name} is {self.__array}\")\n",
        "array1 = array_named(\"Array one\",[1,2,3,4,5])\n",
        "array1.display()\n",
        "array2 = array_named(\"Array two\",[6,7,8,9,10])\n",
        "array2.display()"
      ]
    },
    {
      "cell_type": "markdown",
      "id": "0a075c3d",
      "metadata": {
        "id": "0a075c3d"
      },
      "source": [
        "#### 64. Consider a given vector, how to add 1 to each element indexed by a second vector (be careful with repeated indices)? (★★★)"
      ]
    },
    {
      "cell_type": "code",
      "execution_count": null,
      "id": "36c50470",
      "metadata": {
        "id": "36c50470",
        "colab": {
          "base_uri": "https://localhost:8080/"
        },
        "outputId": "e7f002d1-65fc-4a65-cc8c-b6aba6a22191"
      },
      "outputs": [
        {
          "output_type": "stream",
          "name": "stdout",
          "text": [
            "Main Vector: [1 2 3 4 5]\n",
            "Indices Vector: [1 3 1 4]\n",
            "Result Vector: [1 3 3 5 6]\n"
          ]
        }
      ],
      "source": [
        "main_vector = np.array([1, 2, 3, 4, 5])\n",
        "indices_to_add = np.array([1, 3, 1, 4])\n",
        "result_vector = main_vector.copy()\n",
        "new_indices = np.array([])\n",
        "for i in range(len(indices_to_add)):\n",
        "  if indices_to_add[i] in new_indices:\n",
        "    continue\n",
        "  else:\n",
        "    new_indices = np.append(new_indices,indices_to_add[i])\n",
        "new_indices_int = np.array(new_indices,dtype=np.int0)\n",
        "new_indices_int = list(new_indices_int)\n",
        "\n",
        "for i in new_indices_int:\n",
        "  result_vector[i] +=1\n",
        "print(\"Main Vector:\", main_vector)\n",
        "print(\"Indices Vector:\", indices_to_add)\n",
        "print(\"Result Vector:\", result_vector)"
      ]
    },
    {
      "cell_type": "markdown",
      "id": "0fb2f0c5",
      "metadata": {
        "id": "0fb2f0c5"
      },
      "source": [
        "#### 65. How to accumulate elements of a vector (X) to an array (F) based on an index list (I)? (★★★)"
      ]
    },
    {
      "cell_type": "code",
      "execution_count": null,
      "id": "58aa5f82",
      "metadata": {
        "id": "58aa5f82",
        "colab": {
          "base_uri": "https://localhost:8080/"
        },
        "outputId": "7b67ac68-57c1-442a-f299-48af9d298893"
      },
      "outputs": [
        {
          "output_type": "stream",
          "name": "stdout",
          "text": [
            "Vector X: [1, 2, 3, 4, 5, 6]\n",
            "Index List I: [1, 3, 9, 3, 4, 1]\n",
            "Result Array F: [0. 7. 0. 6. 5. 0. 0. 0. 0. 3.]\n"
          ]
        }
      ],
      "source": [
        "X = [1,2,3,4,5,6]\n",
        "I = [1,3,9,3,4,1]\n",
        "F = np.bincount(I,X)\n",
        "print(\"Vector X:\", X)\n",
        "print(\"Index List I:\", I)\n",
        "print(\"Result Array F:\", F)"
      ]
    },
    {
      "cell_type": "code",
      "source": [
        "X = [9, 4, 5, 8, 10, 14]\n",
        "I = [1, 3, 4]\n",
        "F = [X[i] for i in I]\n",
        "print(\"Vector X:\", X)\n",
        "print(\"Index List I:\", I)\n",
        "print(\"Result Array F:\", F)"
      ],
      "metadata": {
        "colab": {
          "base_uri": "https://localhost:8080/"
        },
        "id": "MANyvdYg0Yaj",
        "outputId": "e7894302-0425-4666-9644-9bd54412ff69"
      },
      "id": "MANyvdYg0Yaj",
      "execution_count": null,
      "outputs": [
        {
          "output_type": "stream",
          "name": "stdout",
          "text": [
            "Vector X: [9, 4, 5, 8, 10, 14]\n",
            "Index List I: [1, 3, 4]\n",
            "Result Array F: [4, 8, 10]\n"
          ]
        }
      ]
    },
    {
      "cell_type": "markdown",
      "id": "d89dc506",
      "metadata": {
        "id": "d89dc506"
      },
      "source": [
        "#### 66. Considering a (w,h,3) image of (dtype=ubyte), compute the number of unique colors (★★☆)"
      ]
    },
    {
      "cell_type": "code",
      "execution_count": null,
      "id": "8fb43a49",
      "metadata": {
        "id": "8fb43a49",
        "colab": {
          "base_uri": "https://localhost:8080/"
        },
        "outputId": "1423f6d6-5827-47af-f017-78e3928184bb"
      },
      "outputs": [
        {
          "output_type": "stream",
          "name": "stdout",
          "text": [
            "The number of unique colors in the image is: 16\n"
          ]
        }
      ],
      "source": [
        "w,h=4,4\n",
        "image = np.random.randint(0,256,size=(w,h,3),dtype=np.uint8)\n",
        "r_image = image.reshape(-1,3)\n",
        "u_color = np.unique(r_image,axis=0)\n",
        "n_u_color = u_color.shape[0]\n",
        "print(f\"The number of unique colors in the image is: {n_u_color}\")"
      ]
    },
    {
      "cell_type": "markdown",
      "id": "535a5d81",
      "metadata": {
        "id": "535a5d81"
      },
      "source": [
        "#### 67. Considering a four dimensions array, how to get sum over the last two axis at once? (★★★)"
      ]
    },
    {
      "cell_type": "code",
      "execution_count": null,
      "id": "f954ab9d",
      "metadata": {
        "id": "f954ab9d",
        "colab": {
          "base_uri": "https://localhost:8080/"
        },
        "outputId": "6fedd513-0f07-4d5e-fd45-d74c70ddd26b"
      },
      "outputs": [
        {
          "output_type": "stream",
          "name": "stdout",
          "text": [
            "Original Array Shape: (4, 3, 2, 5)\n",
            "Sum Over Last Two Axes Shape: (4, 3)\n",
            "Sum Over Last Two Axes:\n",
            "[[49 45 54]\n",
            " [49 49 44]\n",
            " [53 37 54]\n",
            " [49 34 31]]\n"
          ]
        }
      ],
      "source": [
        "arr = np.random.randint(0, 10, size=(4, 3, 2, 5))\n",
        "sum = np.sum(arr, axis=(-2, -1))\n",
        "print(\"Original Array Shape:\", arr.shape)\n",
        "print(\"Sum Over Last Two Axes Shape:\", sum.shape)\n",
        "print(f\"Sum Over Last Two Axes:\\n{sum}\")"
      ]
    },
    {
      "cell_type": "markdown",
      "id": "eee66d3c",
      "metadata": {
        "id": "eee66d3c"
      },
      "source": [
        "#### 68. Considering a one-dimensional vector D, how to compute means of subsets of D using a vector S of same size describing subset  indices? (★★★)"
      ]
    },
    {
      "cell_type": "code",
      "execution_count": null,
      "id": "8929773a",
      "metadata": {
        "id": "8929773a",
        "colab": {
          "base_uri": "https://localhost:8080/"
        },
        "outputId": "42ed75fb-2503-4611-e2d9-07477427b41f"
      },
      "outputs": [
        {
          "output_type": "stream",
          "name": "stdout",
          "text": [
            "Vector D: [1 2 3 4 5 6 7 8 9]\n",
            "Vector S: [0 0 1 1 2 2 2 3 3]\n",
            "Subset Means: [1.5, 3.5, 6.0, 8.5]\n"
          ]
        }
      ],
      "source": [
        "D = np.array([1, 2, 3, 4, 5, 6, 7, 8, 9])\n",
        "S = np.array([0, 0, 1, 1, 2, 2, 2, 3, 3])\n",
        "unique_indices = np.unique(S)\n",
        "subset_means = [np.mean(D[S == idx]) for idx in unique_indices]\n",
        "print(\"Vector D:\", D)\n",
        "print(\"Vector S:\", S)\n",
        "print(\"Subset Means:\", subset_means)"
      ]
    },
    {
      "cell_type": "markdown",
      "id": "f90d4c40",
      "metadata": {
        "id": "f90d4c40"
      },
      "source": [
        "#### 69. How to get the diagonal of a dot product? (★★★)"
      ]
    },
    {
      "cell_type": "code",
      "execution_count": null,
      "id": "b47d392d",
      "metadata": {
        "id": "b47d392d",
        "colab": {
          "base_uri": "https://localhost:8080/"
        },
        "outputId": "a9046f0f-3a2d-4060-d67c-e8997281067d"
      },
      "outputs": [
        {
          "output_type": "stream",
          "name": "stdout",
          "text": [
            "Diagonal of a dot product is [1.37664693 1.44282578 2.4650455  1.30748001 0.78018046]\n"
          ]
        }
      ],
      "source": [
        "A = np.random.uniform(0,1,(5,5))\n",
        "B = np.random.uniform(0,1,(5,5))\n",
        "D = np.diag(np.dot(A, B))\n",
        "print(f\"Diagonal of a dot product is {D}\")"
      ]
    },
    {
      "cell_type": "markdown",
      "id": "a8a97e7d",
      "metadata": {
        "id": "a8a97e7d"
      },
      "source": [
        "#### 70. Consider the vector [1, 2, 3, 4, 5], how to build a new vector with 3 consecutive zeros interleaved between each value? (★★★)"
      ]
    },
    {
      "cell_type": "code",
      "execution_count": null,
      "id": "ee6c6c37",
      "metadata": {
        "id": "ee6c6c37",
        "colab": {
          "base_uri": "https://localhost:8080/"
        },
        "outputId": "6f28ca52-14c0-4014-c82a-96af34ce2445"
      },
      "outputs": [
        {
          "output_type": "execute_result",
          "data": {
            "text/plain": [
              "[1, 0, 0, 0, 2, 0, 0, 0, 3, 0, 0, 0, 4, 0, 0, 0, 5, 0, 0, 0]"
            ]
          },
          "metadata": {},
          "execution_count": 128
        }
      ],
      "source": [
        "array = np.array([1, 2, 3, 4, 5])\n",
        "array_zero = np.zeros(3,dtype=array.dtype)\n",
        "result = []\n",
        "for i in array:\n",
        "  result.extend([i]+list(array_zero))\n",
        "result"
      ]
    },
    {
      "cell_type": "markdown",
      "id": "d6a30d60",
      "metadata": {
        "id": "d6a30d60"
      },
      "source": [
        "#### 71. Consider an array of dimension (5,5,3), how to mulitply it by an array with dimensions (5,5)? (★★★)"
      ]
    },
    {
      "cell_type": "code",
      "execution_count": null,
      "id": "e9703f2e",
      "metadata": {
        "id": "e9703f2e",
        "colab": {
          "base_uri": "https://localhost:8080/"
        },
        "outputId": "1933f829-fa60-4df6-ff6a-cdda4f1579bf"
      },
      "outputs": [
        {
          "output_type": "stream",
          "name": "stdout",
          "text": [
            "[[[90 40  0]\n",
            "  [ 9 81  0]\n",
            "  [ 1 10  8]\n",
            "  [18  0 20]\n",
            "  [64 48 32]]\n",
            "\n",
            " [[27  0 36]\n",
            "  [54 72 90]\n",
            "  [ 5 40 20]\n",
            "  [ 0  0  0]\n",
            "  [10  6 18]]\n",
            "\n",
            " [[42 63  7]\n",
            "  [27 12  6]\n",
            "  [ 0  0  0]\n",
            "  [40 32 36]\n",
            "  [ 4  0 12]]\n",
            "\n",
            " [[ 0  0  0]\n",
            "  [21  3 12]\n",
            "  [30  0 24]\n",
            "  [ 5  4  7]\n",
            "  [16 16  4]]\n",
            "\n",
            " [[30 10 40]\n",
            "  [72 54 54]\n",
            "  [ 0  0  0]\n",
            "  [ 0  0 60]\n",
            "  [ 9  1  8]]]\n"
          ]
        }
      ],
      "source": [
        "np.random.seed(10)\n",
        "matrix_A = np.random.randint(0,11,(5,5,3))\n",
        "matrix_B = np.random.randint(0,11,(5,5))\n",
        "print(matrix_A*matrix_B[:,:,None])"
      ]
    },
    {
      "cell_type": "markdown",
      "id": "bac359a9",
      "metadata": {
        "id": "bac359a9"
      },
      "source": [
        "#### 72. How to swap two rows of an array? (★★★)"
      ]
    },
    {
      "cell_type": "code",
      "execution_count": null,
      "id": "f1b432b1",
      "metadata": {
        "id": "f1b432b1",
        "colab": {
          "base_uri": "https://localhost:8080/"
        },
        "outputId": "8f132742-44d5-4866-8263-1811557d8c3c"
      },
      "outputs": [
        {
          "output_type": "stream",
          "name": "stdout",
          "text": [
            "Array before swapping \n",
            "[[ 4 10  5]\n",
            " [ 7  8  3]\n",
            " [ 1  7  9]]\n",
            "Array after swapping \n",
            "[[ 4 10  5]\n",
            " [ 1  7  9]\n",
            " [ 7  8  3]]\n"
          ]
        }
      ],
      "source": [
        "np.random.seed(20)\n",
        "array = np.random.randint(1,11,(3,3))\n",
        "print(f\"Array before swapping \\n{array}\")\n",
        "array_row_A = array[-1,:].copy()\n",
        "array_row_B = array[-2,:].copy()\n",
        "array[-1,:] = array_row_B\n",
        "array[-2,:] = array_row_A\n",
        "print(f\"Array after swapping \\n{array}\")"
      ]
    },
    {
      "cell_type": "code",
      "source": [
        "np.random.seed(20)\n",
        "array = np.random.randint(1,11,(3,3))\n",
        "print(f\"Array before swapping \\n{array}\")\n",
        "array[[0,1]] = array[[1,0]]\n",
        "print(f\"Array after swapping \\n{array}\")"
      ],
      "metadata": {
        "colab": {
          "base_uri": "https://localhost:8080/"
        },
        "id": "RVxH5fEwfBxW",
        "outputId": "8d20d771-30e1-47de-d357-0539a9eddd3b"
      },
      "id": "RVxH5fEwfBxW",
      "execution_count": null,
      "outputs": [
        {
          "output_type": "stream",
          "name": "stdout",
          "text": [
            "Array before swapping \n",
            "[[ 4 10  5]\n",
            " [ 7  8  3]\n",
            " [ 1  7  9]]\n",
            "Array after swapping \n",
            "[[ 7  8  3]\n",
            " [ 4 10  5]\n",
            " [ 1  7  9]]\n"
          ]
        }
      ]
    },
    {
      "cell_type": "markdown",
      "id": "620c9f83",
      "metadata": {
        "id": "620c9f83"
      },
      "source": [
        "#### 73. Consider a set of 10 triplets describing 10 triangles (with shared vertices), find the set of unique line segments composing all the  triangles (★★★)"
      ]
    },
    {
      "cell_type": "code",
      "execution_count": null,
      "id": "4e595ffc",
      "metadata": {
        "id": "4e595ffc",
        "colab": {
          "base_uri": "https://localhost:8080/"
        },
        "outputId": "86c604cc-0546-4aa1-89e0-7a2472a8d3bd"
      },
      "outputs": [
        {
          "output_type": "stream",
          "name": "stdout",
          "text": [
            "List of tuple\n",
            "[[ 8  6]\n",
            " [ 6 26]\n",
            " [26  8]\n",
            " [79 82]\n",
            " [82 78]\n",
            " [78 79]\n",
            " [10 33]\n",
            " [33 85]\n",
            " [85 10]\n",
            " [17 40]\n",
            " [40 82]\n",
            " [82 17]\n",
            " [42 60]\n",
            " [60 84]\n",
            " [84 42]\n",
            " [30 36]\n",
            " [36  8]\n",
            " [ 8 30]\n",
            " [48 19]\n",
            " [19 48]\n",
            " [48 48]\n",
            " [95 53]\n",
            " [53 10]\n",
            " [10 95]\n",
            " [38  9]\n",
            " [ 9 60]\n",
            " [60 38]\n",
            " [60 23]\n",
            " [23 52]\n",
            " [52 60]]\n",
            "[( 6,  8) ( 6, 26) ( 8, 26) ( 8, 30) ( 8, 36) ( 9, 38) ( 9, 60) (10, 33)\n",
            " (10, 53) (10, 85) (10, 95) (17, 40) (17, 82) (19, 48) (23, 52) (23, 60)\n",
            " (30, 36) (33, 85) (38, 60) (40, 82) (42, 60) (42, 84) (48, 48) (52, 60)\n",
            " (53, 95) (60, 84) (78, 79) (78, 82) (79, 82)]\n"
          ]
        }
      ],
      "source": [
        "faces = np.random.randint(0,100,(10,3))\n",
        "F = np.roll(faces.repeat(2,axis=1),-1,axis=1)\n",
        "F = F.reshape(len(F)*3,2)\n",
        "print(f\"List of tuple\\n{F}\")\n",
        "F = np.sort(F,axis=1)\n",
        "G = F.view(dtype=[('p0',F.dtype),('p1',F.dtype)])\n",
        "G = np.unique(G)\n",
        "print(G)"
      ]
    },
    {
      "cell_type": "markdown",
      "id": "a76c55a2",
      "metadata": {
        "id": "a76c55a2"
      },
      "source": [
        "#### 74. Given a sorted array C that corresponds to a bincount, how to produce an array A such that np.bincount(A) == C? (★★★)"
      ]
    },
    {
      "cell_type": "code",
      "execution_count": null,
      "id": "2d2ae65a",
      "metadata": {
        "id": "2d2ae65a",
        "colab": {
          "base_uri": "https://localhost:8080/"
        },
        "outputId": "735af0ec-f676-4d1c-c7ff-e0054391d884"
      },
      "outputs": [
        {
          "output_type": "stream",
          "name": "stdout",
          "text": [
            "[1 1 2 3 4 4 6]\n"
          ]
        }
      ],
      "source": [
        "C = np.bincount([1,1,2,3,4,4,6])\n",
        "A = np.repeat(np.arange(len(C)), C)\n",
        "print(A)"
      ]
    },
    {
      "cell_type": "markdown",
      "id": "d550c8e2",
      "metadata": {
        "id": "d550c8e2"
      },
      "source": [
        "#### 75. How to compute averages using a sliding window over an array? (★★★)"
      ]
    },
    {
      "cell_type": "code",
      "execution_count": null,
      "id": "841c457c",
      "metadata": {
        "id": "841c457c",
        "colab": {
          "base_uri": "https://localhost:8080/"
        },
        "outputId": "da187939-9546-4eec-9768-7fd47d23ac57"
      },
      "outputs": [
        {
          "output_type": "stream",
          "name": "stdout",
          "text": [
            "[ 1.  2.  3.  4.  5.  6.  7.  8.  9. 10. 11. 12. 13. 14. 15. 16. 17. 18.]\n"
          ]
        }
      ],
      "source": [
        "a = np.arange(20)\n",
        "n = 3\n",
        "ret = np.cumsum(a, dtype=float)\n",
        "ret[n:] = ret[n:] - ret[:-n]\n",
        "result = ret[n - 1:] / n\n",
        "print(result)"
      ]
    },
    {
      "cell_type": "markdown",
      "id": "6b170b00",
      "metadata": {
        "id": "6b170b00"
      },
      "source": [
        "#### 76. Consider a one-dimensional array Z, build a two-dimensional array whose first row is (Z[0],Z[1],Z[2]) and each subsequent row is  shifted by 1 (last row should be (Z[-3],Z[-2],Z[-1]) (★★★)"
      ]
    },
    {
      "cell_type": "code",
      "execution_count": null,
      "id": "d9a0cf4e",
      "metadata": {
        "id": "d9a0cf4e",
        "colab": {
          "base_uri": "https://localhost:8080/"
        },
        "outputId": "67cb45de-2ece-443e-f11c-159f0b792276"
      },
      "outputs": [
        {
          "output_type": "stream",
          "name": "stdout",
          "text": [
            "[[1. 2. 3.]\n",
            " [2. 3. 4.]\n",
            " [3. 4. 5.]\n",
            " [4. 5. 6.]\n",
            " [5. 6. 7.]\n",
            " [6. 7. 8.]\n",
            " [7. 8. 9.]]\n"
          ]
        }
      ],
      "source": [
        "z = np.array([1, 2, 3, 4, 5, 6, 7, 8, 9])\n",
        "row_length = 3\n",
        "num_rows = len(z) - row_length + 1\n",
        "result = np.zeros((num_rows, row_length))\n",
        "for i in range(num_rows):\n",
        "    result[i, :] = z[i:i + row_length]\n",
        "print(result)"
      ]
    },
    {
      "cell_type": "markdown",
      "id": "e94a5c1d",
      "metadata": {
        "id": "e94a5c1d"
      },
      "source": [
        "#### 77. How to negate a boolean, or to change the sign of a float inplace? (★★★)"
      ]
    },
    {
      "cell_type": "code",
      "execution_count": null,
      "id": "c0f9504f",
      "metadata": {
        "id": "c0f9504f",
        "colab": {
          "base_uri": "https://localhost:8080/"
        },
        "outputId": "c4ff7c57-8522-43b4-8e32-2b27b46a96f7"
      },
      "outputs": [
        {
          "output_type": "stream",
          "name": "stdout",
          "text": [
            "Array before negate a boolean is [0 0 0 1 0 1 0 0]\n",
            "Array after negate a boolean is [1 1 1 0 1 0 1 1]\n",
            "Array before change sign is [ -4   6   8  -7 -10   9]\n",
            "Array after changesign is [ 4 -6 -8  7 10 -9]\n"
          ]
        }
      ],
      "source": [
        "z = np.array([0,0,0,1,0,1,0,0])\n",
        "x = np.array([-4,6,8,-7,-10,9])\n",
        "print(f\"Array before negate a boolean is {z}\")\n",
        "print(f\"Array after negate a boolean is {np.logical_not(z, out=z)}\")\n",
        "print(f\"Array before change sign is {x}\")\n",
        "print(f\"Array after changesign is {np.negative(x, out=x)}\")"
      ]
    },
    {
      "cell_type": "markdown",
      "id": "4eb8b5c1",
      "metadata": {
        "id": "4eb8b5c1"
      },
      "source": [
        "#### 78. Consider 2 sets of points P0,P1 describing lines (2d) and a point p, how to compute distance from p to each line i (P0[i],P1[i])? (★★★)"
      ]
    },
    {
      "cell_type": "code",
      "execution_count": null,
      "id": "487f47ec",
      "metadata": {
        "id": "487f47ec",
        "colab": {
          "base_uri": "https://localhost:8080/"
        },
        "outputId": "86199dc6-3bdc-4bd9-8033-5702ee1002d0"
      },
      "outputs": [
        {
          "output_type": "stream",
          "name": "stdout",
          "text": [
            "[0.0, 0.0, 0.2773500981126146]\n"
          ]
        }
      ],
      "source": [
        "P0 = np.array([[1, 1], [2, 2], [3, 3]])\n",
        "P1 = np.array([[4, 1], [2, 3], [5, 6]])\n",
        "p = np.array([2, 1])\n",
        "\n",
        "distances = []\n",
        "\n",
        "for i in range(len(P0)):\n",
        "    v = P1[i] - P0[i]\n",
        "    w = p - P0[i]\n",
        "    projection = np.dot(w, v) / np.dot(v, v)\n",
        "    perpendicular = w - projection * v\n",
        "    distance = np.linalg.norm(perpendicular)\n",
        "    distances.append(distance)\n",
        "\n",
        "print(distances)\n"
      ]
    },
    {
      "cell_type": "markdown",
      "id": "3df99948",
      "metadata": {
        "id": "3df99948"
      },
      "source": [
        "#### 79. Consider 2 sets of points P0,P1 describing lines (2d) and a set of points P, how to compute distance from each point j (P[j]) to each line i (P0[i],P1[i])? (★★★)"
      ]
    },
    {
      "cell_type": "code",
      "execution_count": null,
      "id": "dc2df37b",
      "metadata": {
        "id": "dc2df37b",
        "colab": {
          "base_uri": "https://localhost:8080/"
        },
        "outputId": "6dd5e344-c77c-45e7-ea62-2bf1ae00f99b"
      },
      "outputs": [
        {
          "output_type": "stream",
          "name": "stdout",
          "text": [
            "[0.0, 0.0, 0.2773500981126146]\n"
          ]
        }
      ],
      "source": [
        "P0 = np.array([[1, 1], [2, 2], [3, 3]])\n",
        "P1 = np.array([[4, 1], [2, 3], [5, 6]])\n",
        "p = np.array([2, 1])\n",
        "\n",
        "distances = []\n",
        "\n",
        "for i in range(len(P0)):\n",
        "    v = P1[i] - P0[i]\n",
        "    w = p - P0[i]\n",
        "    projection = np.dot(w, v) / np.dot(v, v)\n",
        "    perpendicular = w - projection * v\n",
        "    distance = np.linalg.norm(perpendicular)\n",
        "    distances.append(distance)\n",
        "\n",
        "print(distances)\n"
      ]
    },
    {
      "cell_type": "markdown",
      "id": "11e972c2",
      "metadata": {
        "id": "11e972c2"
      },
      "source": [
        "#### 80. Consider an arbitrary array, write a function that extract a subpart with a fixed shape and centered on a given element (pad with a `fill` value when necessary) (★★★)"
      ]
    },
    {
      "cell_type": "code",
      "execution_count": null,
      "id": "0291247f",
      "metadata": {
        "id": "0291247f"
      },
      "outputs": [],
      "source": [
        "def extract_centered_subarray(arr, shape, center, fill_value=0):\n",
        "    half_shape = (shape[0] // 2, shape[1] // 2)\n",
        "    row_start = max(center[0] - half_shape[0], 0)\n",
        "    row_end = min(center[0] + half_shape[0] + 1, arr.shape[0])\n",
        "    col_start = max(center[1] - half_shape[1], 0)\n",
        "    col_end = min(center[1] + half_shape[1] + 1, arr.shape[1])\n",
        "    subarray = np.full(shape, fill_value, dtype=arr.dtype)\n",
        "    subarray[subarray.shape[0]//2-(center[0]-row_start):subarray.shape[0]//2-(center[0]-row_start)+(row_end-row_start),\n",
        "             subarray.shape[1]//2-(center[1]-col_start):subarray.shape[1]//2-(center[1]-col_start)+(col_end-col_start)] = arr[row_start:row_end, col_start:col_end]\n",
        "    return subarray\n",
        "\n",
        "arr = np.array([[1, 2, 3, 4, 5],\n",
        "                [6, 7, 8, 9, 10],\n",
        "                [11, 12, 13, 14, 15]])\n",
        "\n",
        "shape = (3, 3)\n",
        "center = (1, 2)\n",
        "fill_value = 0\n",
        "\n",
        "subarray = extract_centered_subarray(arr, shape, center, fill_value)\n",
        "print(subarray)\n"
      ]
    },
    {
      "cell_type": "code",
      "source": [
        "def extract(arr):\n",
        "  new_arr = np.array([])\n",
        "  new_arr = arr[:,1:]\n",
        "  new_arr = new_arr[:,:-1]\n",
        "  return new_arr\n",
        "arr = np.array([[1, 2, 3, 4, 5],\n",
        "                [6, 7, 8, 9, 10],\n",
        "                [11, 12, 13, 14, 15]])\n",
        "\n",
        "print(extract(arr))"
      ],
      "metadata": {
        "colab": {
          "base_uri": "https://localhost:8080/"
        },
        "id": "jkTtDxxRqaDX",
        "outputId": "82bb5828-0130-42d2-89c4-47f273fb99f0"
      },
      "id": "jkTtDxxRqaDX",
      "execution_count": null,
      "outputs": [
        {
          "output_type": "stream",
          "name": "stdout",
          "text": [
            "[[ 2  3  4]\n",
            " [ 7  8  9]\n",
            " [12 13 14]]\n"
          ]
        }
      ]
    },
    {
      "cell_type": "markdown",
      "id": "93cfeab3",
      "metadata": {
        "id": "93cfeab3"
      },
      "source": [
        "#### 81. Consider an array Z = [1,2,3,4,5,6,7,8,9,10,11,12,13,14], how to generate an array R = [[1,2,3,4], [2,3,4,5], [3,4,5,6], ..., [11,12,13,14]]? (★★★)"
      ]
    },
    {
      "cell_type": "code",
      "execution_count": null,
      "id": "360de791",
      "metadata": {
        "id": "360de791",
        "colab": {
          "base_uri": "https://localhost:8080/"
        },
        "outputId": "25a4932f-6109-439f-cf73-b0b16c3b34df"
      },
      "outputs": [
        {
          "output_type": "execute_result",
          "data": {
            "text/plain": [
              "[[1, 2, 3, 4],\n",
              " [2, 3, 4, 5],\n",
              " [3, 4, 5, 6],\n",
              " [4, 5, 6, 7],\n",
              " [5, 6, 7, 8],\n",
              " [6, 7, 8, 9],\n",
              " [7, 8, 9, 10],\n",
              " [8, 9, 10, 11],\n",
              " [9, 10, 11, 12],\n",
              " [10, 11, 12, 13],\n",
              " [11, 12, 13, 14]]"
            ]
          },
          "metadata": {},
          "execution_count": 28
        }
      ],
      "source": [
        "Z = [1,2,3,4,5,6,7,8,9,10,11,12,13,14]\n",
        "R = []\n",
        "count = 4\n",
        "for i in range(len(Z)):\n",
        "  if count == 15:\n",
        "    break\n",
        "  else:\n",
        "   R.append(Z[i:count])\n",
        "   count +=1\n",
        "R"
      ]
    },
    {
      "cell_type": "markdown",
      "id": "4c15ceff",
      "metadata": {
        "id": "4c15ceff"
      },
      "source": [
        "#### 82. Compute a matrix rank (★★★)"
      ]
    },
    {
      "cell_type": "code",
      "execution_count": null,
      "id": "9a4272d2",
      "metadata": {
        "id": "9a4272d2",
        "colab": {
          "base_uri": "https://localhost:8080/"
        },
        "outputId": "70ee867e-2b8e-4b29-92f4-996ef1515cef"
      },
      "outputs": [
        {
          "output_type": "stream",
          "name": "stdout",
          "text": [
            "Rank of the matrix: 2\n"
          ]
        }
      ],
      "source": [
        "matrix = np.array([[1, 2, 3],\n",
        "                   [4, 5, 6],\n",
        "                   [7, 8, 9]])\n",
        "rank = np.linalg.matrix_rank(matrix)\n",
        "print(\"Rank of the matrix:\", rank)"
      ]
    },
    {
      "cell_type": "markdown",
      "id": "1171cb84",
      "metadata": {
        "id": "1171cb84"
      },
      "source": [
        "#### 83. How to find the most frequent value in an array?"
      ]
    },
    {
      "cell_type": "code",
      "execution_count": null,
      "id": "33e951c8",
      "metadata": {
        "id": "33e951c8",
        "colab": {
          "base_uri": "https://localhost:8080/"
        },
        "outputId": "70d027fd-baf8-4690-b728-ec963cc27f4f"
      },
      "outputs": [
        {
          "output_type": "execute_result",
          "data": {
            "text/plain": [
              "5"
            ]
          },
          "metadata": {},
          "execution_count": 68
        }
      ],
      "source": [
        "matrix = np.array([1,3,5,5,4,8,6,5])\n",
        "np.bincount(matrix).argmax()"
      ]
    },
    {
      "cell_type": "code",
      "source": [
        "matrix = np.array([1, 3, 5, 5, 4, 8, 6, 5])\n",
        "counts = np.bincount(matrix)\n",
        "most_frequent_number = np.argmax(counts)\n",
        "frequency = counts[most_frequent_number]\n",
        "print(\"Most frequent number:\", most_frequent_number)\n",
        "print(\"Frequency:\", frequency)"
      ],
      "metadata": {
        "colab": {
          "base_uri": "https://localhost:8080/"
        },
        "id": "Ol-61VWW1kVb",
        "outputId": "635637db-d12b-4010-fd15-3ab01fb1fa54"
      },
      "id": "Ol-61VWW1kVb",
      "execution_count": null,
      "outputs": [
        {
          "output_type": "stream",
          "name": "stdout",
          "text": [
            "Most frequent number: 5\n",
            "Frequency: 3\n"
          ]
        }
      ]
    },
    {
      "cell_type": "markdown",
      "id": "04f472aa",
      "metadata": {
        "id": "04f472aa"
      },
      "source": [
        "#### 84. Extract all the contiguous 3x3 blocks from a random 10x10 matrix (★★★)"
      ]
    },
    {
      "cell_type": "code",
      "execution_count": null,
      "id": "7aade14a",
      "metadata": {
        "id": "7aade14a",
        "colab": {
          "base_uri": "https://localhost:8080/"
        },
        "outputId": "7ca0fffe-104b-4a71-b1ea-e1a91e65b327"
      },
      "outputs": [
        {
          "output_type": "stream",
          "name": "stdout",
          "text": [
            "Block 1:\n",
            "[[45  6 56]\n",
            " [75 11 31]\n",
            " [42  1  6]]\n",
            "\n",
            "Block 2:\n",
            "[[ 6 56 20]\n",
            " [11 31 80]\n",
            " [ 1  6 98]]\n",
            "\n",
            "Block 3:\n",
            "[[56 20 72]\n",
            " [31 80 24]\n",
            " [ 6 98 26]]\n",
            "\n",
            "Block 4:\n",
            "[[20 72 76]\n",
            " [80 24 68]\n",
            " [98 26 54]]\n",
            "\n",
            "Block 5:\n",
            "[[72 76 87]\n",
            " [24 68 51]\n",
            " [26 54 98]]\n",
            "\n",
            "Block 6:\n",
            "[[76 87 84]\n",
            " [68 51 69]\n",
            " [54 98 69]]\n",
            "\n",
            "Block 7:\n",
            "[[87 84 82]\n",
            " [51 69 89]\n",
            " [98 69 94]]\n",
            "\n",
            "Block 8:\n",
            "[[84 82 70]\n",
            " [69 89 69]\n",
            " [69 94 68]]\n",
            "\n",
            "Block 9:\n",
            "[[75 11 31]\n",
            " [42  1  6]\n",
            " [10 15 96]]\n",
            "\n",
            "Block 10:\n",
            "[[11 31 80]\n",
            " [ 1  6 98]\n",
            " [15 96 91]]\n",
            "\n",
            "Block 11:\n",
            "[[31 80 24]\n",
            " [ 6 98 26]\n",
            " [96 91  2]]\n",
            "\n",
            "Block 12:\n",
            "[[80 24 68]\n",
            " [98 26 54]\n",
            " [91  2 14]]\n",
            "\n",
            "Block 13:\n",
            "[[24 68 51]\n",
            " [26 54 98]\n",
            " [ 2 14 52]]\n",
            "\n",
            "Block 14:\n",
            "[[68 51 69]\n",
            " [54 98 69]\n",
            " [14 52 78]]\n",
            "\n",
            "Block 15:\n",
            "[[51 69 89]\n",
            " [98 69 94]\n",
            " [52 78  4]]\n",
            "\n",
            "Block 16:\n",
            "[[69 89 69]\n",
            " [69 94 68]\n",
            " [78  4 61]]\n",
            "\n",
            "Block 17:\n",
            "[[42  1  6]\n",
            " [10 15 96]\n",
            " [98 99  6]]\n",
            "\n",
            "Block 18:\n",
            "[[ 1  6 98]\n",
            " [15 96 91]\n",
            " [99  6 51]]\n",
            "\n",
            "Block 19:\n",
            "[[ 6 98 26]\n",
            " [96 91  2]\n",
            " [ 6 51 93]]\n",
            "\n",
            "Block 20:\n",
            "[[98 26 54]\n",
            " [91  2 14]\n",
            " [51 93 48]]\n",
            "\n",
            "Block 21:\n",
            "[[26 54 98]\n",
            " [ 2 14 52]\n",
            " [93 48 50]]\n",
            "\n",
            "Block 22:\n",
            "[[54 98 69]\n",
            " [14 52 78]\n",
            " [48 50 36]]\n",
            "\n",
            "Block 23:\n",
            "[[98 69 94]\n",
            " [52 78  4]\n",
            " [50 36 62]]\n",
            "\n",
            "Block 24:\n",
            "[[69 94 68]\n",
            " [78  4 61]\n",
            " [36 62 38]]\n",
            "\n",
            "Block 25:\n",
            "[[10 15 96]\n",
            " [98 99  6]\n",
            " [96 93 52]]\n",
            "\n",
            "Block 26:\n",
            "[[15 96 91]\n",
            " [99  6 51]\n",
            " [93 52 20]]\n",
            "\n",
            "Block 27:\n",
            "[[96 91  2]\n",
            " [ 6 51 93]\n",
            " [52 20 71]]\n",
            "\n",
            "Block 28:\n",
            "[[91  2 14]\n",
            " [51 93 48]\n",
            " [20 71 96]]\n",
            "\n",
            "Block 29:\n",
            "[[ 2 14 52]\n",
            " [93 48 50]\n",
            " [71 96 78]]\n",
            "\n",
            "Block 30:\n",
            "[[14 52 78]\n",
            " [48 50 36]\n",
            " [96 78 12]]\n",
            "\n",
            "Block 31:\n",
            "[[52 78  4]\n",
            " [50 36 62]\n",
            " [78 12 32]]\n",
            "\n",
            "Block 32:\n",
            "[[78  4 61]\n",
            " [36 62 38]\n",
            " [12 32 81]]\n",
            "\n",
            "Block 33:\n",
            "[[98 99  6]\n",
            " [96 93 52]\n",
            " [35 10 77]]\n",
            "\n",
            "Block 34:\n",
            "[[99  6 51]\n",
            " [93 52 20]\n",
            " [10 77 80]]\n",
            "\n",
            "Block 35:\n",
            "[[ 6 51 93]\n",
            " [52 20 71]\n",
            " [77 80 71]]\n",
            "\n",
            "Block 36:\n",
            "[[51 93 48]\n",
            " [20 71 96]\n",
            " [80 71 67]]\n",
            "\n",
            "Block 37:\n",
            "[[93 48 50]\n",
            " [71 96 78]\n",
            " [71 67 22]]\n",
            "\n",
            "Block 38:\n",
            "[[48 50 36]\n",
            " [96 78 12]\n",
            " [67 22 89]]\n",
            "\n",
            "Block 39:\n",
            "[[50 36 62]\n",
            " [78 12 32]\n",
            " [22 89 14]]\n",
            "\n",
            "Block 40:\n",
            "[[36 62 38]\n",
            " [12 32 81]\n",
            " [89 14 22]]\n",
            "\n",
            "Block 41:\n",
            "[[96 93 52]\n",
            " [35 10 77]\n",
            " [40 58 40]]\n",
            "\n",
            "Block 42:\n",
            "[[93 52 20]\n",
            " [10 77 80]\n",
            " [58 40 47]]\n",
            "\n",
            "Block 43:\n",
            "[[52 20 71]\n",
            " [77 80 71]\n",
            " [40 47 23]]\n",
            "\n",
            "Block 44:\n",
            "[[20 71 96]\n",
            " [80 71 67]\n",
            " [47 23  1]]\n",
            "\n",
            "Block 45:\n",
            "[[71 96 78]\n",
            " [71 67 22]\n",
            " [23  1 48]]\n",
            "\n",
            "Block 46:\n",
            "[[96 78 12]\n",
            " [67 22 89]\n",
            " [ 1 48 68]]\n",
            "\n",
            "Block 47:\n",
            "[[78 12 32]\n",
            " [22 89 14]\n",
            " [48 68 93]]\n",
            "\n",
            "Block 48:\n",
            "[[12 32 81]\n",
            " [89 14 22]\n",
            " [68 93 77]]\n",
            "\n",
            "Block 49:\n",
            "[[35 10 77]\n",
            " [40 58 40]\n",
            " [ 0 90 75]]\n",
            "\n",
            "Block 50:\n",
            "[[10 77 80]\n",
            " [58 40 47]\n",
            " [90 75  7]]\n",
            "\n",
            "Block 51:\n",
            "[[77 80 71]\n",
            " [40 47 23]\n",
            " [75  7 66]]\n",
            "\n",
            "Block 52:\n",
            "[[80 71 67]\n",
            " [47 23  1]\n",
            " [ 7 66 13]]\n",
            "\n",
            "Block 53:\n",
            "[[71 67 22]\n",
            " [23  1 48]\n",
            " [66 13 41]]\n",
            "\n",
            "Block 54:\n",
            "[[67 22 89]\n",
            " [ 1 48 68]\n",
            " [13 41 42]]\n",
            "\n",
            "Block 55:\n",
            "[[22 89 14]\n",
            " [48 68 93]\n",
            " [41 42  7]]\n",
            "\n",
            "Block 56:\n",
            "[[89 14 22]\n",
            " [68 93 77]\n",
            " [42  7 20]]\n",
            "\n",
            "Block 57:\n",
            "[[40 58 40]\n",
            " [ 0 90 75]\n",
            " [39  9  1]]\n",
            "\n",
            "Block 58:\n",
            "[[58 40 47]\n",
            " [90 75  7]\n",
            " [ 9  1 64]]\n",
            "\n",
            "Block 59:\n",
            "[[40 47 23]\n",
            " [75  7 66]\n",
            " [ 1 64 26]]\n",
            "\n",
            "Block 60:\n",
            "[[47 23  1]\n",
            " [ 7 66 13]\n",
            " [64 26  0]]\n",
            "\n",
            "Block 61:\n",
            "[[23  1 48]\n",
            " [66 13 41]\n",
            " [26  0 77]]\n",
            "\n",
            "Block 62:\n",
            "[[ 1 48 68]\n",
            " [13 41 42]\n",
            " [ 0 77 21]]\n",
            "\n",
            "Block 63:\n",
            "[[48 68 93]\n",
            " [41 42  7]\n",
            " [77 21 76]]\n",
            "\n",
            "Block 64:\n",
            "[[68 93 77]\n",
            " [42  7 20]\n",
            " [21 76  4]]\n",
            "\n"
          ]
        }
      ],
      "source": [
        "matrix = np.random.randint(0, 100, (10, 10))\n",
        "blooks = []\n",
        "for i in range(8):\n",
        "  for j in range(8):\n",
        "    blooks.append(matrix[i:i+3,j:j+3])\n",
        "count = 1\n",
        "for block in blooks:\n",
        "    print(f\"Block {count}:\\n{block}\\n\")\n",
        "    count +=1"
      ]
    },
    {
      "cell_type": "markdown",
      "id": "52836346",
      "metadata": {
        "id": "52836346"
      },
      "source": [
        "#### 85. Create a 2D array subclass such that Z[i,j] == Z[j,i] (★★★)"
      ]
    },
    {
      "cell_type": "code",
      "execution_count": null,
      "id": "4df70318",
      "metadata": {
        "id": "4df70318"
      },
      "outputs": [],
      "source": [
        "class Symetric(np.ndarray):\n",
        "    def __setitem__(self, index, value):\n",
        "        i,j = index\n",
        "        super(Symetric, self).__setitem__((i,j), value)\n",
        "        super(Symetric, self).__setitem__((j,i), value)\n",
        "\n",
        "def symetric(Z):\n",
        "    return np.asarray(Z + Z.T - np.diag(Z.diagonal())).view(Symetric)\n",
        "\n",
        "S = symetric(np.random.randint(0,10,(5,5)))\n",
        "S[2,3] = 42\n",
        "print(S)"
      ]
    },
    {
      "cell_type": "markdown",
      "id": "78c43ee5",
      "metadata": {
        "id": "78c43ee5"
      },
      "source": [
        "#### 86. Consider a set of p matrices with shape (n,n) and a set of p vectors with shape (n,1). How to compute the sum of of the p matrix products at once? (result has shape (n,1)) (★★★)"
      ]
    },
    {
      "cell_type": "code",
      "execution_count": null,
      "id": "32fd2c3b",
      "metadata": {
        "id": "32fd2c3b",
        "colab": {
          "base_uri": "https://localhost:8080/"
        },
        "outputId": "72774af6-2f40-4922-8f03-07a7b7349a33"
      },
      "outputs": [
        {
          "output_type": "stream",
          "name": "stdout",
          "text": [
            "[[3.41104378]\n",
            " [2.22065113]\n",
            " [2.56096987]\n",
            " [2.18498814]]\n"
          ]
        }
      ],
      "source": [
        "p = 3\n",
        "n = 4\n",
        "matrices = []\n",
        "vectors = []\n",
        "for i in range(p):\n",
        "    matrix = np.random.rand(n, n)\n",
        "    matrices.append(matrix)\n",
        "    vector = np.random.rand(n, 1)\n",
        "    vectors.append(vector)\n",
        "\n",
        "result = np.zeros((n, 1))\n",
        "\n",
        "for i in range(p):\n",
        "    for j in range(n):\n",
        "        for k in range(n):\n",
        "            result[j, 0] += matrices[i][j, k] * vectors[i][k, 0]\n",
        "print(result)"
      ]
    },
    {
      "cell_type": "markdown",
      "id": "158f9945",
      "metadata": {
        "id": "158f9945"
      },
      "source": [
        "#### 87. Consider a 16x16 array, how to get the block-sum (block size is 4x4)? (★★★)"
      ]
    },
    {
      "cell_type": "code",
      "execution_count": null,
      "id": "5a9b808f",
      "metadata": {
        "id": "5a9b808f",
        "colab": {
          "base_uri": "https://localhost:8080/"
        },
        "outputId": "3a991d47-ced6-4dff-c6dc-1b2baf302e18"
      },
      "outputs": [
        {
          "output_type": "stream",
          "name": "stdout",
          "text": [
            "Block Sums: \n",
            "[[ 424  488  552  616]\n",
            " [1448 1512 1576 1640]\n",
            " [2472 2536 2600 2664]\n",
            " [3496 3560 3624 3688]]\n"
          ]
        }
      ],
      "source": [
        "array_16x16 = np.arange(1, 257).reshape(16, 16)\n",
        "\n",
        "block_sums = np.zeros((4,4), dtype=int)\n",
        "\n",
        "for i in range(4):\n",
        "    for j in range(4):\n",
        "        block = array_16x16[i * 4:(i + 1) * 4, j * 4:(j + 1) * 4]\n",
        "        block_sums[i, j] = np.sum(block)\n",
        "\n",
        "print(f\"Block Sums: \\n{block_sums}\")"
      ]
    },
    {
      "cell_type": "markdown",
      "id": "2e0ad860",
      "metadata": {
        "id": "2e0ad860"
      },
      "source": [
        "#### 88. How to implement the Game of Life using numpy arrays? (★★★)"
      ]
    },
    {
      "cell_type": "code",
      "execution_count": null,
      "id": "574acff5",
      "metadata": {
        "id": "574acff5",
        "colab": {
          "base_uri": "https://localhost:8080/"
        },
        "outputId": "259c779d-c81f-48d8-f480-062d764fa1fc"
      },
      "outputs": [
        {
          "output_type": "stream",
          "name": "stdout",
          "text": [
            "[[0 0 0 ... 0 0 0]\n",
            " [0 0 0 ... 0 0 0]\n",
            " [0 0 0 ... 0 0 0]\n",
            " ...\n",
            " [0 0 0 ... 0 0 0]\n",
            " [0 0 0 ... 0 0 0]\n",
            " [0 0 0 ... 0 0 0]]\n"
          ]
        }
      ],
      "source": [
        "def iterate(Z):\n",
        "\n",
        "    N = (Z[0:-2,0:-2] + Z[0:-2,1:-1] + Z[0:-2,2:] +\n",
        "         Z[1:-1,0:-2]                + Z[1:-1,2:] +\n",
        "         Z[2:  ,0:-2] + Z[2:  ,1:-1] + Z[2:  ,2:])\n",
        "\n",
        "    birth = (N==3) & (Z[1:-1,1:-1]==0)\n",
        "    survive = ((N==2) | (N==3)) & (Z[1:-1,1:-1]==1)\n",
        "    Z[...] = 0\n",
        "    Z[1:-1,1:-1][birth | survive] = 1\n",
        "    return Z\n",
        "\n",
        "Z = np.random.randint(0,2,(50,50))\n",
        "for i in range(100): Z = iterate(Z)\n",
        "print(Z)"
      ]
    },
    {
      "cell_type": "markdown",
      "id": "69a892fa",
      "metadata": {
        "id": "69a892fa"
      },
      "source": [
        "#### 89. How to get the n largest values of an array (★★★)"
      ]
    },
    {
      "cell_type": "code",
      "execution_count": null,
      "id": "21b2bd48",
      "metadata": {
        "id": "21b2bd48",
        "colab": {
          "base_uri": "https://localhost:8080/"
        },
        "outputId": "8cbfe770-b7bf-44a7-a21f-081b001686a4"
      },
      "outputs": [
        {
          "output_type": "stream",
          "name": "stdout",
          "text": [
            "[9995 9996 9997 9998 9999]\n"
          ]
        }
      ],
      "source": [
        "Z = np.arange(10000)\n",
        "print(Z[np.argsort(Z)[-5:]])"
      ]
    },
    {
      "cell_type": "code",
      "source": [
        "Z = np.array([4,6,22,12,34,51,55,99])\n",
        "print(Z[np.argsort(Z)[-5:]])"
      ],
      "metadata": {
        "colab": {
          "base_uri": "https://localhost:8080/"
        },
        "id": "iwWwku1CUxYz",
        "outputId": "9484b8a7-5d75-428e-ed27-bb3af44e7136"
      },
      "id": "iwWwku1CUxYz",
      "execution_count": null,
      "outputs": [
        {
          "output_type": "stream",
          "name": "stdout",
          "text": [
            "[22 34 51 55 99]\n"
          ]
        }
      ]
    },
    {
      "cell_type": "markdown",
      "id": "b55ccacc",
      "metadata": {
        "id": "b55ccacc"
      },
      "source": [
        "#### 90. Given an arbitrary number of vectors, build the cartesian product (every combinations of every item) (★★★)"
      ]
    },
    {
      "cell_type": "code",
      "execution_count": null,
      "id": "4b645da4",
      "metadata": {
        "id": "4b645da4",
        "colab": {
          "base_uri": "https://localhost:8080/"
        },
        "outputId": "1a071197-5396-4c25-e50e-dd29c637271f"
      },
      "outputs": [
        {
          "output_type": "stream",
          "name": "stdout",
          "text": [
            "[(1, 'A', 10), (1, 'A', 20), (1, 'B', 10), (1, 'B', 20), (2, 'A', 10), (2, 'A', 20), (2, 'B', 10), (2, 'B', 20)]\n"
          ]
        }
      ],
      "source": [
        "from itertools import product\n",
        "\n",
        "vector1 = [1, 2]\n",
        "vector2 = ['A', 'B']\n",
        "vector3 = [10, 20]\n",
        "\n",
        "cartesian_product = list(product(vector1, vector2, vector3))\n",
        "\n",
        "print(cartesian_product)\n"
      ]
    },
    {
      "cell_type": "code",
      "source": [
        "vector1 = [1, 2]\n",
        "vector2 = ['A', 'B']\n",
        "vector3 = [10, 20]\n",
        "\n",
        "result = []\n",
        "\n",
        "for i in range(2):\n",
        "  for j in range(2):\n",
        "    for k in range(2):\n",
        "      result.append((vector1[i],vector2[j],vector3[k]))\n",
        "print(result)"
      ],
      "metadata": {
        "colab": {
          "base_uri": "https://localhost:8080/"
        },
        "id": "Gt8PtdkXVxsu",
        "outputId": "bdacfca5-d142-4b31-e0cf-f0a7d5499360"
      },
      "id": "Gt8PtdkXVxsu",
      "execution_count": null,
      "outputs": [
        {
          "output_type": "stream",
          "name": "stdout",
          "text": [
            "[(1, 'A', 10), (1, 'A', 20), (1, 'B', 10), (1, 'B', 20), (2, 'A', 10), (2, 'A', 20), (2, 'B', 10), (2, 'B', 20)]\n"
          ]
        }
      ]
    },
    {
      "cell_type": "markdown",
      "id": "89187a23",
      "metadata": {
        "id": "89187a23"
      },
      "source": [
        "#### 91. How to create a record array from a regular array? (★★★)"
      ]
    },
    {
      "cell_type": "code",
      "execution_count": null,
      "id": "da94c71a",
      "metadata": {
        "id": "da94c71a",
        "colab": {
          "base_uri": "https://localhost:8080/"
        },
        "outputId": "31d6dad6-f591-4c7d-9eff-78539a1f41b1"
      },
      "outputs": [
        {
          "output_type": "stream",
          "name": "stdout",
          "text": [
            "((1, 'Alice', 25), (2, 'Bob', 30), (3, 'Charlie', 35))\n"
          ]
        }
      ],
      "source": [
        "regular_array = np.array([(1, 'Alice', 25),\n",
        "                           (2, 'Bob', 30),\n",
        "                           (3, 'Charlie', 35)],\n",
        "                          dtype=[('id', int), ('name', 'U10'), ('age', int)])\n",
        "\n",
        "record_array = np.rec.fromarrays(regular_array.T, names=regular_array.dtype.names)\n",
        "\n",
        "print(record_array)"
      ]
    },
    {
      "cell_type": "code",
      "source": [
        "Z = np.array([(\"Hello\", 2.5, 3),\n",
        "              (\"World\", 3.6, 2)])\n",
        "R = np.core.records.fromarrays(Z.T,\n",
        "                               names='col1, col2, col3',\n",
        "                               formats = 'S8, f8, i8')\n",
        "print(R)"
      ],
      "metadata": {
        "colab": {
          "base_uri": "https://localhost:8080/"
        },
        "id": "qJp9wFg0dFzv",
        "outputId": "3b46688a-b33b-4c46-ebcf-9e37800c6fdd"
      },
      "id": "qJp9wFg0dFzv",
      "execution_count": null,
      "outputs": [
        {
          "output_type": "stream",
          "name": "stdout",
          "text": [
            "[(b'Hello', 2.5, 3) (b'World', 3.6, 2)]\n"
          ]
        }
      ]
    },
    {
      "cell_type": "markdown",
      "id": "aa70d4ca",
      "metadata": {
        "id": "aa70d4ca"
      },
      "source": [
        "#### 92. Consider a large vector Z, compute Z to the power of 3 using 3 different methods (★★★)"
      ]
    },
    {
      "cell_type": "code",
      "execution_count": null,
      "id": "7cff1bf5",
      "metadata": {
        "id": "7cff1bf5",
        "colab": {
          "base_uri": "https://localhost:8080/"
        },
        "outputId": "0c8e8106-2796-4a67-9c3e-f5e84bb93e57"
      },
      "outputs": [
        {
          "output_type": "stream",
          "name": "stdout",
          "text": [
            "[  8  27  64 125 216]\n",
            "[  8  27  64 125 216]\n",
            "[  8  27  64 125 216]\n"
          ]
        }
      ],
      "source": [
        "Z = np.array([2,3,4,5,6])\n",
        "result1 = np.power(Z, 3)\n",
        "print(result1)\n",
        "result2 = Z ** 3\n",
        "print(result2)\n",
        "result3 = np.empty_like(Z)\n",
        "for i in range(len(Z)):\n",
        "    result3[i] = Z[i] **3\n",
        "print(result3)"
      ]
    },
    {
      "cell_type": "markdown",
      "id": "5f79dd00",
      "metadata": {
        "id": "5f79dd00"
      },
      "source": [
        "#### 93. Consider two arrays A and B of shape (8,3) and (2,2). How to find rows of A that contain elements of each row of B regardless of the order of the elements in B? (★★★)"
      ]
    },
    {
      "cell_type": "code",
      "execution_count": null,
      "id": "20c105b2",
      "metadata": {
        "id": "20c105b2",
        "colab": {
          "base_uri": "https://localhost:8080/"
        },
        "outputId": "9742555b-ee30-46f3-c778-4d6ed63cb4fd"
      },
      "outputs": [
        {
          "output_type": "stream",
          "name": "stdout",
          "text": [
            "[0 1 2 4 6]\n"
          ]
        }
      ],
      "source": [
        "A = np.random.randint(0,5,(8,3))\n",
        "B = np.random.randint(0,5,(2,2))\n",
        "\n",
        "C = (A[..., np.newaxis, np.newaxis] == B)\n",
        "rows = np.where(C.any((3,1)).all(1))[0]\n",
        "print(rows)"
      ]
    },
    {
      "cell_type": "markdown",
      "id": "a80570cd",
      "metadata": {
        "id": "a80570cd"
      },
      "source": [
        "#### 94. Considering a 10x3 matrix, extract rows with unequal values (e.g. [2,2,3]) (★★★)"
      ]
    },
    {
      "cell_type": "code",
      "execution_count": null,
      "id": "84db8de1",
      "metadata": {
        "id": "84db8de1",
        "colab": {
          "base_uri": "https://localhost:8080/"
        },
        "outputId": "25e83761-f9da-4ba4-9cb9-d19baefb3c71"
      },
      "outputs": [
        {
          "output_type": "stream",
          "name": "stdout",
          "text": [
            "[[2 2 3]\n",
            " [4 5 6]\n",
            " [7 8 9]\n",
            " [1 2 3]\n",
            " [1 2 3]\n",
            " [3 4 3]\n",
            " [1 2 2]]\n"
          ]
        }
      ],
      "source": [
        "matrix = np.array([[2, 2, 3],\n",
        "                   [1, 1, 1],\n",
        "                   [4, 5, 6],\n",
        "                   [2, 2, 2],\n",
        "                   [7, 8, 9],\n",
        "                   [1, 2, 3],\n",
        "                   [1, 2, 3],\n",
        "                   [5, 5, 5],\n",
        "                   [3, 4, 3],\n",
        "                   [1, 2, 2]])\n",
        "U = matrix[matrix.max(axis=1) != matrix.min(axis=1) , : ]\n",
        "print(U)             #as if"
      ]
    },
    {
      "cell_type": "markdown",
      "id": "ba154f43",
      "metadata": {
        "id": "ba154f43"
      },
      "source": [
        "#### 95. Convert a vector of ints into a matrix binary representation (★★★)"
      ]
    },
    {
      "cell_type": "code",
      "execution_count": null,
      "id": "cfa96e1b",
      "metadata": {
        "id": "cfa96e1b",
        "colab": {
          "base_uri": "https://localhost:8080/"
        },
        "outputId": "5cbf3a9a-7aae-40ea-fe62-1b14f0ba7e55"
      },
      "outputs": [
        {
          "output_type": "stream",
          "name": "stdout",
          "text": [
            "[[0 0 0 0 0 1 0 1]\n",
            " [0 0 0 0 0 0 1 0]\n",
            " [0 0 0 0 1 0 1 0]\n",
            " [0 0 0 0 0 1 1 1]]\n"
          ]
        }
      ],
      "source": [
        "vector = np.array([5, 2, 10, 7], dtype=np.uint8)\n",
        "binary_matrix = np.unpackbits(vector[:, np.newaxis], axis=1)\n",
        "print(binary_matrix)"
      ]
    },
    {
      "cell_type": "markdown",
      "id": "420e2343",
      "metadata": {
        "id": "420e2343"
      },
      "source": [
        "#### 96. Given a two dimensional array, how to extract unique rows? (★★★)"
      ]
    },
    {
      "cell_type": "code",
      "execution_count": null,
      "id": "4680dfd0",
      "metadata": {
        "id": "4680dfd0",
        "colab": {
          "base_uri": "https://localhost:8080/"
        },
        "outputId": "f0d47d2e-cc68-4881-cf3e-1fb0bfe9d85f"
      },
      "outputs": [
        {
          "output_type": "stream",
          "name": "stdout",
          "text": [
            "[[1 2 3]\n",
            " [4 5 6]\n",
            " [7 8 9]]\n"
          ]
        }
      ],
      "source": [
        "array = np.array([[1, 2, 3],\n",
        "                  [4, 5, 6],\n",
        "                  [1, 2, 3],\n",
        "                  [7, 8, 9],\n",
        "                  [4, 5, 6]])\n",
        "unique_rows = np.unique(array, axis=0)\n",
        "print(unique_rows)"
      ]
    },
    {
      "cell_type": "markdown",
      "id": "89fef2f3",
      "metadata": {
        "id": "89fef2f3"
      },
      "source": [
        "#### 97. Considering 2 vectors A & B, write the einsum equivalent of inner, outer, sum, and mul function (★★★)"
      ]
    },
    {
      "cell_type": "code",
      "execution_count": null,
      "id": "bb9c14b2",
      "metadata": {
        "id": "bb9c14b2",
        "colab": {
          "base_uri": "https://localhost:8080/"
        },
        "outputId": "cd6f2538-a7fb-418a-9533-7d85d4e37b3b"
      },
      "outputs": [
        {
          "output_type": "stream",
          "name": "stdout",
          "text": [
            "Summation: 6\n",
            "Element-wise Multiplication: [ 4 10 18]\n",
            "Inner Product (Dot Product): 32\n",
            "Outer Product: [[ 4  5  6]\n",
            " [ 8 10 12]\n",
            " [12 15 18]]\n"
          ]
        }
      ],
      "source": [
        "A = np.array([1, 2, 3])\n",
        "B = np.array([4, 5, 6])\n",
        "sum_result = np.einsum('i->', A)\n",
        "elementwise_product = np.einsum('i,i->i', A, B)\n",
        "inner_product = np.einsum('i,i', A, B)\n",
        "outer_product = np.einsum('i,j->ij', A, B)\n",
        "\n",
        "print(\"Summation:\", sum_result)\n",
        "print(\"Element-wise Multiplication:\", elementwise_product)\n",
        "print(\"Inner Product (Dot Product):\", inner_product)\n",
        "print(\"Outer Product:\", outer_product)"
      ]
    },
    {
      "cell_type": "markdown",
      "id": "7ad5cc5f",
      "metadata": {
        "id": "7ad5cc5f"
      },
      "source": [
        "#### 98. Considering a path described by two vectors (X,Y), how to sample it using equidistant samples (★★★)?"
      ]
    },
    {
      "cell_type": "code",
      "execution_count": null,
      "id": "0899d1d5",
      "metadata": {
        "id": "0899d1d5",
        "colab": {
          "base_uri": "https://localhost:8080/"
        },
        "outputId": "081359ab-f7aa-4d2d-a2f6-ed00dcd26bb3"
      },
      "outputs": [
        {
          "output_type": "stream",
          "name": "stdout",
          "text": [
            "[[ 0.          0.        ]\n",
            " [ 1.18995277  0.59497639]\n",
            " [ 2.3003417   1.3003417 ]\n",
            " [ 4.8222208   3.8222208 ]\n",
            " [ 7.76296107  6.76296107]\n",
            " [11.89011961 10.4450598 ]\n",
            " [17.91481354 13.95740677]\n",
            " [ 0.          0.        ]\n",
            " [ 0.          0.        ]\n",
            " [ 0.          0.        ]\n",
            " [ 0.          0.        ]\n",
            " [ 0.          0.        ]\n",
            " [ 0.          0.        ]\n",
            " [ 0.          0.        ]\n",
            " [ 0.          0.        ]\n",
            " [ 0.          0.        ]\n",
            " [ 0.          0.        ]\n",
            " [ 0.          0.        ]\n",
            " [ 0.          0.        ]\n",
            " [ 0.          0.        ]]\n"
          ]
        }
      ],
      "source": [
        "X = np.array([0, 2, 4, 7, 9, 11, 13, 16, 18, 20])\n",
        "Y = np.array([0, 1, 3, 6, 8, 10, 11, 13, 14, 15])\n",
        "\n",
        "path_length = np.sum(np.sqrt(np.diff(X)**2 + np.diff(Y)**2))\n",
        "\n",
        "num_samples = 20\n",
        "\n",
        "step_size = path_length / (num_samples - 1)\n",
        "\n",
        "sampled_points = np.zeros((num_samples, 2))\n",
        "\n",
        "sampled_points[0] = [X[0], Y[0]]\n",
        "current_position = 0\n",
        "\n",
        "for i in range(1, num_samples):\n",
        "    remaining_distance = i * step_size\n",
        "\n",
        "    while current_position < len(X) - 1:\n",
        "        dx = X[current_position + 1] - X[current_position]\n",
        "        dy = Y[current_position + 1] - Y[current_position]\n",
        "        segment_length = np.sqrt(dx**2 + dy**2)\n",
        "\n",
        "        if remaining_distance <= segment_length:\n",
        "            sampled_points[i] = [X[current_position] + remaining_distance * (dx / segment_length),\n",
        "                                 Y[current_position] + remaining_distance * (dy / segment_length)]\n",
        "            break\n",
        "        else:\n",
        "            remaining_distance -= segment_length\n",
        "            current_position += 1\n",
        "\n",
        "print(sampled_points)"
      ]
    },
    {
      "cell_type": "markdown",
      "id": "2b69272e",
      "metadata": {
        "id": "2b69272e"
      },
      "source": [
        "#### 99. Given an integer n and a 2D array X, select from X the rows which can be interpreted as draws from a multinomial distribution with n degrees, i.e., the rows which only contain integers and which sum to n. (★★★)"
      ]
    },
    {
      "cell_type": "code",
      "execution_count": null,
      "id": "55c8b034",
      "metadata": {
        "id": "55c8b034",
        "colab": {
          "base_uri": "https://localhost:8080/"
        },
        "outputId": "ce71a101-7d39-44f6-e2e4-5d92f5c56a99"
      },
      "outputs": [
        {
          "output_type": "stream",
          "name": "stdout",
          "text": [
            "[[2 3 0]\n",
            " [0 1 4]\n",
            " [1 1 3]\n",
            " [0 4 1]]\n"
          ]
        }
      ],
      "source": [
        "X = np.array([[1, 2, 3],\n",
        "              [2, 3, 0],\n",
        "              [0, 1, 4],\n",
        "              [1, 1, 3],\n",
        "              [0, 4, 1]])\n",
        "n = 5\n",
        "valid_rows = []\n",
        "for row in X:\n",
        "    if np.sum(row) == n:\n",
        "        valid_rows.append(row)\n",
        "\n",
        "selected_rows = np.array(valid_rows)\n",
        "\n",
        "print(selected_rows)"
      ]
    },
    {
      "cell_type": "markdown",
      "id": "59ab5516",
      "metadata": {
        "id": "59ab5516"
      },
      "source": [
        "#### 100. Compute bootstrapped 95% confidence intervals for the mean of a 1D array X (i.e., resample the elements of an array with replacement N times, compute the mean of each sample, and then compute percentiles over the means). (★★★)"
      ]
    },
    {
      "cell_type": "code",
      "execution_count": null,
      "id": "450877d8",
      "metadata": {
        "id": "450877d8",
        "colab": {
          "base_uri": "https://localhost:8080/"
        },
        "outputId": "56641a1e-abec-4369-ce8b-f9e3764bb388"
      },
      "outputs": [
        {
          "output_type": "stream",
          "name": "stdout",
          "text": [
            "[-0.12922975  0.27963554]\n"
          ]
        }
      ],
      "source": [
        "X = np.random.randn(100)\n",
        "N = 1000\n",
        "idx = np.random.randint(0, X.size, (N, X.size))\n",
        "means = X[idx].mean(axis=1)\n",
        "confint = np.percentile(means, [2.5, 97.5])\n",
        "print(confint)"
      ]
    }
  ],
  "metadata": {
    "colab": {
      "provenance": []
    },
    "language_info": {
      "name": "python"
    },
    "kernelspec": {
      "name": "python3",
      "display_name": "Python 3"
    }
  },
  "nbformat": 4,
  "nbformat_minor": 5
}