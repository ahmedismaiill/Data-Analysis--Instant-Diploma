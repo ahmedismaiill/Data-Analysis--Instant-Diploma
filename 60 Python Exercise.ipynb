{
  "cells": [
    {
      "cell_type": "markdown",
      "id": "759d04ba",
      "metadata": {
        "id": "759d04ba"
      },
      "source": [
        "**1-Write a Python program to calculate the length of a string using 2 ways"
      ]
    },
    {
      "cell_type": "code",
      "execution_count": null,
      "id": "e434c950",
      "metadata": {
        "id": "e434c950",
        "colab": {
          "base_uri": "https://localhost:8080/"
        },
        "outputId": "f90fd5fa-c1a9-4e31-c687-103dcdcc0285"
      },
      "outputs": [
        {
          "output_type": "stream",
          "name": "stdout",
          "text": [
            "Enter string : A h med\n",
            "Length the string is 5\n",
            "Length the spaces in string 2\n",
            "Length of total string with spaces 7\n"
          ]
        }
      ],
      "source": [
        "s = input(\"Enter string : \")\n",
        "s+=\".\"\n",
        "count = 0\n",
        "spaces = 0\n",
        "for i in s:\n",
        " if i == \" \":\n",
        "  spaces +=1\n",
        " else:\n",
        "  if i != \".\":\n",
        "    count+=1\n",
        "print(f\"Length the string is {count}\")\n",
        "print(f\"Length the spaces in string {spaces}\")\n",
        "print(f\"Length of total string with spaces {count+spaces}\")"
      ]
    },
    {
      "cell_type": "code",
      "execution_count": null,
      "id": "7a2dfa32",
      "metadata": {
        "id": "7a2dfa32",
        "colab": {
          "base_uri": "https://localhost:8080/"
        },
        "outputId": "11245804-2b88-450a-d3cc-a9b901f41c70"
      },
      "outputs": [
        {
          "output_type": "stream",
          "name": "stdout",
          "text": [
            "Ahmed\n",
            "Length of string is 5\n"
          ]
        }
      ],
      "source": [
        "string = input()\n",
        "print(\"Length of string is\",len(string))"
      ]
    },
    {
      "cell_type": "markdown",
      "id": "d7cc9da7",
      "metadata": {
        "id": "d7cc9da7"
      },
      "source": [
        "**2-Write a Python program to get a string made of the first 2 and last 2 characters of a given string. If the string length is less than 2, return the empty string instead (\"##Sample String : 'w3resource'\n",
        "Expected Result : 'w3ce'\n",
        "##Sample String : 'w3'\n",
        "Expected Result : 'w3w3'\n",
        "##Sample String : ' w'\n",
        "Expected Result : Empty String)"
      ]
    },
    {
      "cell_type": "code",
      "execution_count": null,
      "id": "dafa9dd8",
      "metadata": {
        "id": "dafa9dd8",
        "colab": {
          "base_uri": "https://localhost:8080/"
        },
        "outputId": "45a191ec-735a-4612-faeb-2f7cab87b81a"
      },
      "outputs": [
        {
          "output_type": "stream",
          "name": "stdout",
          "text": [
            "Enter the string : w3resource\n",
            "The string is w3ce\n"
          ]
        }
      ],
      "source": [
        "string = input(\"Enter the string : \")\n",
        "if len(string) <2:\n",
        "  print(\"Empty String\")\n",
        "elif len(string) == 2:\n",
        "  print(f\"The string is {string*2}\")\n",
        "else:\n",
        "  new_string = string[:2] + string[-2:]\n",
        "  print(f\"The string is {new_string}\")"
      ]
    },
    {
      "cell_type": "markdown",
      "id": "1534f956",
      "metadata": {
        "id": "1534f956"
      },
      "source": [
        "**3-Write a Python program to add 'ing' at the end of a given string (length should be at least 3). If the given string already ends with 'ing', add 'ly' instead. If the string length of the given string is less than 3, leave it unchanged. (Sample String : 'abc'\n",
        "Expected Result : 'abcing')"
      ]
    },
    {
      "cell_type": "code",
      "execution_count": null,
      "id": "7ff8cec4",
      "metadata": {
        "id": "7ff8cec4",
        "colab": {
          "base_uri": "https://localhost:8080/"
        },
        "outputId": "b2c08faa-847b-4cad-a429-43bc3af6c554"
      },
      "outputs": [
        {
          "output_type": "stream",
          "name": "stdout",
          "text": [
            "Enter the string : abc\n",
            "The string is abcing\n"
          ]
        }
      ],
      "source": [
        "s = input(\"Enter the string : \")\n",
        "if len(s) < 3:\n",
        "  print(f\"Not changed cause length of string less than 3 {s}\")\n",
        "elif s[-3:] == \"ing\":\n",
        "  new_s = s[:-3] + \"ly\"\n",
        "  print(f\"The string already ends with 'ing' so the string is {new_s}\")\n",
        "else:\n",
        "  s += \"ing\"\n",
        "  print(f\"The string is {s}\")\n"
      ]
    },
    {
      "cell_type": "markdown",
      "id": "1c0a6627",
      "metadata": {
        "id": "1c0a6627"
      },
      "source": [
        "**4-Write a Python function that takes a list of words and return the longest word and the length of the longest one\n",
        "(Longest word: Exercises\n",
        "Length of the longest word: 9)"
      ]
    },
    {
      "cell_type": "code",
      "execution_count": null,
      "id": "397341d9",
      "metadata": {
        "id": "397341d9",
        "colab": {
          "base_uri": "https://localhost:8080/"
        },
        "outputId": "a0de3fef-4aa2-479e-a22f-850b3762d541"
      },
      "outputs": [
        {
          "output_type": "stream",
          "name": "stdout",
          "text": [
            "Enter size of list : 4\n",
            "Enter 1 element : Ahmed\n",
            "Enter 2 element : Ismail\n",
            "Enter 3 element : Exercises\n",
            "Enter 4 element : Azzam\n",
            "The list is ['Ahmed', 'Ismail', 'Exercises', 'Azzam']\n",
            "The longest word is Exercises and length of the longest word = 9\n"
          ]
        }
      ],
      "source": [
        "l = []\n",
        "max = 0\n",
        "l_size = int(input(\"Enter size of list : \"))\n",
        "for i in range(l_size):\n",
        "  e = input(f\"Enter {i+1} element : \")\n",
        "  l.append(e)\n",
        "print(f\"The list is {l}\")\n",
        "for i in l:\n",
        "   if len(i) > max:\n",
        "     max = len(i)\n",
        "     max_size = i\n",
        "print(f\"The longest word is {max_size} and length of the longest word = {len(max_size)}\")"
      ]
    },
    {
      "cell_type": "markdown",
      "id": "53a03a6a",
      "metadata": {
        "id": "53a03a6a"
      },
      "source": [
        "**5-Write a Python program to change a given string to a newly string where the first and last chars have been exchanged using 2 ways (Sample String:abca  Expected Result:ebce)"
      ]
    },
    {
      "cell_type": "code",
      "execution_count": null,
      "id": "fd327d2a",
      "metadata": {
        "id": "fd327d2a",
        "colab": {
          "base_uri": "https://localhost:8080/"
        },
        "outputId": "a2d77c94-f88b-441a-aeb5-a29553c73c7d"
      },
      "outputs": [
        {
          "output_type": "stream",
          "name": "stdout",
          "text": [
            "Enter string : abca\n",
            "The string is abca\n",
            "Enter character you want to set in the first char : e\n",
            "Enter character you want to set in the last char : e\n",
            "New string is ebce\n"
          ]
        }
      ],
      "source": [
        "s = input(\"Enter string : \")\n",
        "if len(s)>1:\n",
        " print(f\"The string is {s}\")\n",
        " char_first = input(\"Enter character you want to set in the first char : \")\n",
        " char_last = input(\"Enter character you want to set in the last char : \")\n",
        " new_string = char_first + s[1:-1] + char_last\n",
        " print(f\"New string is {new_string}\")\n",
        "else:\n",
        "  print(\"The string is one character\")"
      ]
    },
    {
      "cell_type": "code",
      "source": [
        "s = input(\"Enter string : \")\n",
        "if len(s) > 1:\n",
        " print(f\"The string is {s}\")\n",
        " new_s = s[-1] + s[1:-1] + s[0]\n",
        " print(f\"The new string is {new_s}\")\n",
        "else:\n",
        "  print(\"The string is one character\")"
      ],
      "metadata": {
        "colab": {
          "base_uri": "https://localhost:8080/"
        },
        "id": "zi1W-NAXnzR3",
        "outputId": "fa2b9871-18bd-4c51-81bc-4d4faaab8a66"
      },
      "id": "zi1W-NAXnzR3",
      "execution_count": null,
      "outputs": [
        {
          "output_type": "stream",
          "name": "stdout",
          "text": [
            "Enter string : dhmea\n",
            "The string is dhmea\n",
            "The new string is ahmed\n"
          ]
        }
      ]
    },
    {
      "cell_type": "code",
      "execution_count": null,
      "id": "285788b4",
      "metadata": {
        "id": "285788b4",
        "colab": {
          "base_uri": "https://localhost:8080/"
        },
        "outputId": "b17b0475-611b-4bef-adf8-bf14ba392378"
      },
      "outputs": [
        {
          "output_type": "stream",
          "name": "stdout",
          "text": [
            "Enter string : abca\n",
            "The string is abca\n",
            "Enter character you want to set in the string : e\n",
            "The new string is ebce\n"
          ]
        }
      ],
      "source": [
        "s = input(\"Enter string : \")\n",
        "if len(s) > 1:\n",
        " print(f\"The string is {s}\")\n",
        " char = input(\"Enter character you want to set in the string : \")\n",
        " new_s = char + s[1:-1] + char\n",
        " print(f\"The new string is {new_s}\")\n",
        "else:\n",
        "  print(\"The string is one character\")"
      ]
    },
    {
      "cell_type": "markdown",
      "id": "25f89808",
      "metadata": {
        "id": "25f89808"
      },
      "source": [
        "**6-Write a Python program to remove characters that have odd index values in a given string (Sample String:abca Expected Result:ac)"
      ]
    },
    {
      "cell_type": "code",
      "execution_count": null,
      "id": "05959bd7",
      "metadata": {
        "id": "05959bd7",
        "colab": {
          "base_uri": "https://localhost:8080/"
        },
        "outputId": "0d97e4e5-aac6-4a79-cdca-8c10422ac080"
      },
      "outputs": [
        {
          "output_type": "stream",
          "name": "stdout",
          "text": [
            "Enter string : abca\n",
            "The new strig is ac\n"
          ]
        }
      ],
      "source": [
        "s = input(\"Enter string : \")\n",
        "new_s = \"\"\n",
        "if len(s) > 1:\n",
        "  for i in range(len(s)):\n",
        "    if i %2 == 0:\n",
        "      new_s += s[i]\n",
        "  print(f\"The new strig is {new_s}\")\n",
        "else:\n",
        "  print(\"The string is one character\")"
      ]
    },
    {
      "cell_type": "markdown",
      "id": "eb16e898",
      "metadata": {
        "id": "eb16e898"
      },
      "source": [
        "**7-Write a Python program to count the occurrences of each word in a given sentence (Sample String:amr and ahmed are frindes but amr is the tallest Expected Result:2)"
      ]
    },
    {
      "cell_type": "code",
      "execution_count": null,
      "id": "01ce6cf5",
      "metadata": {
        "id": "01ce6cf5",
        "colab": {
          "base_uri": "https://localhost:8080/"
        },
        "outputId": "2b04dad7-ccc8-4089-e58f-0b809298cd0e"
      },
      "outputs": [
        {
          "output_type": "stream",
          "name": "stdout",
          "text": [
            "Enter string : amr and ahmed are frindes but amr is the tallest\n",
            "Result 2\n"
          ]
        }
      ],
      "source": [
        "s = input(\"Enter string : \")\n",
        "new_s = s.split()\n",
        "c = 0\n",
        "for i in range(len(new_s)):\n",
        "  count = 0\n",
        "  for j in range(len(new_s)):\n",
        "    if new_s[i] == new_s[j]:\n",
        "      count +=1\n",
        "    if count > c:\n",
        "      c = count\n",
        "print(f\"Result {c}\")"
      ]
    },
    {
      "cell_type": "markdown",
      "id": "4e8125f1",
      "metadata": {
        "id": "4e8125f1"
      },
      "source": [
        "**8-Write a Python script that takes input from the user and displays that input back in upper and lower cases"
      ]
    },
    {
      "cell_type": "code",
      "execution_count": null,
      "id": "66c8f778",
      "metadata": {
        "id": "66c8f778",
        "colab": {
          "base_uri": "https://localhost:8080/"
        },
        "outputId": "c6f5c5a5-0aca-4231-a10c-b4e535299b78"
      },
      "outputs": [
        {
          "output_type": "stream",
          "name": "stdout",
          "text": [
            "Enter string : Ahmed\n",
            "upper of string is AHMED\n",
            "lower of string is ahmed\n"
          ]
        }
      ],
      "source": [
        "s = input(\"Enter string : \")\n",
        "print(f\"upper of string is {s.upper()}\")\n",
        "print(f\"lower of string is {s.lower()}\")"
      ]
    },
    {
      "cell_type": "markdown",
      "id": "fcd68aa1",
      "metadata": {
        "id": "fcd68aa1"
      },
      "source": [
        "**9-Write a Python function to reverse a string if its length is a multiple of 4"
      ]
    },
    {
      "cell_type": "code",
      "execution_count": null,
      "id": "0671a931",
      "metadata": {
        "id": "0671a931",
        "colab": {
          "base_uri": "https://localhost:8080/"
        },
        "outputId": "189e78e6-27b3-4130-b484-e5efa75a8fca"
      },
      "outputs": [
        {
          "output_type": "stream",
          "name": "stdout",
          "text": [
            "Enter string : Mark\n",
            "Reverse of string is kraM\n"
          ]
        }
      ],
      "source": [
        "s = input(\"Enter string : \")\n",
        "if len(s) % 4 == 0:\n",
        "  new_s = s[::-1]\n",
        "  print(f\"Reverse of string is {new_s}\")\n",
        "else:\n",
        "  print(\"Length of string not multiple of 4 \")"
      ]
    },
    {
      "cell_type": "markdown",
      "id": "b577c68d",
      "metadata": {
        "id": "b577c68d"
      },
      "source": [
        "**10- Write a Python program to remove a newline in Python"
      ]
    },
    {
      "cell_type": "code",
      "execution_count": null,
      "id": "e0c6525a",
      "metadata": {
        "id": "e0c6525a",
        "colab": {
          "base_uri": "https://localhost:8080/"
        },
        "outputId": "63b49d3c-53cf-4292-9280-a8509948df84"
      },
      "outputs": [
        {
          "output_type": "stream",
          "name": "stdout",
          "text": [
            "Before Ahmed \n",
            " Ismail \n",
            " Azzam\n",
            "After Ahmed  Ismail  Azzam\n"
          ]
        }
      ],
      "source": [
        "s = \"Ahmed \\n Ismail \\n Azzam\"\n",
        "print(f\"Before {s}\")\n",
        "new_s = s.replace(\"\\n\",\"\")\n",
        "print(f\"After {new_s}\")"
      ]
    },
    {
      "cell_type": "markdown",
      "id": "80db5ae0",
      "metadata": {
        "id": "80db5ae0"
      },
      "source": [
        "**11-Write a Python program to check whether a string starts with specified characters"
      ]
    },
    {
      "cell_type": "code",
      "execution_count": null,
      "id": "0cc4e03e",
      "metadata": {
        "id": "0cc4e03e",
        "colab": {
          "base_uri": "https://localhost:8080/"
        },
        "outputId": "2581565f-6c5c-4d93-8e7a-7d1ab0eef730"
      },
      "outputs": [
        {
          "output_type": "stream",
          "name": "stdout",
          "text": [
            "whether a string starts with specified characters you want : Ahmed\n",
            "True\n"
          ]
        }
      ],
      "source": [
        "s = \"Ahmed plays football\"\n",
        "new_s = s.split()\n",
        "search = input(\"whether a string starts with specified characters you want : \")\n",
        "if new_s[0] == search:\n",
        "  print(\"True\")\n",
        "else:\n",
        "  print(\"False\")"
      ]
    },
    {
      "cell_type": "markdown",
      "id": "593a68db",
      "metadata": {
        "id": "593a68db"
      },
      "source": [
        "**12- Write a Python program to add prefix text to all of the lines in a string"
      ]
    },
    {
      "cell_type": "code",
      "execution_count": null,
      "id": "d2e46ada",
      "metadata": {
        "id": "d2e46ada",
        "colab": {
          "base_uri": "https://localhost:8080/"
        },
        "outputId": "b080e710-f356-44e5-adcd-ca17f411566e"
      },
      "outputs": [
        {
          "output_type": "stream",
          "name": "stdout",
          "text": [
            "Enter prefix you want: +\n",
            "+cristano\n",
            "+is\n",
            "+my\n",
            "+adore\n"
          ]
        }
      ],
      "source": [
        "s = \"cristano \\n is my \\n adore\"\n",
        "pref = input(\"Enter prefix you want: \")\n",
        "new_s = s.split()\n",
        "size = len(new_s)\n",
        "for i in range(size):\n",
        "    print(pref + new_s[i])"
      ]
    },
    {
      "cell_type": "markdown",
      "id": "86fa1543",
      "metadata": {
        "id": "86fa1543"
      },
      "source": [
        "**13-Write a Python program to print the following numbers up to 2 decimal places"
      ]
    },
    {
      "cell_type": "code",
      "execution_count": null,
      "id": "cd4a9d89",
      "metadata": {
        "id": "cd4a9d89",
        "colab": {
          "base_uri": "https://localhost:8080/"
        },
        "outputId": "e74b462c-4496-4207-eff7-dd50655e2c4a"
      },
      "outputs": [
        {
          "output_type": "stream",
          "name": "stdout",
          "text": [
            "Enter the number : 144.187\n",
            "Number up to two decimal places = 144.19\n"
          ]
        }
      ],
      "source": [
        "number = float(input(\"Enter the number : \"))\n",
        "r = round(number, 2)\n",
        "print(\"Number up to two decimal places =\",r)"
      ]
    },
    {
      "cell_type": "markdown",
      "id": "452c0ab0",
      "metadata": {
        "id": "452c0ab0"
      },
      "source": [
        "**14-Write a Python program to print the following numbers up to 2 decimal places with a sign"
      ]
    },
    {
      "cell_type": "code",
      "execution_count": null,
      "id": "73e82479",
      "metadata": {
        "id": "73e82479",
        "colab": {
          "base_uri": "https://localhost:8080/"
        },
        "outputId": "e376e068-a64e-4e8a-93ff-98db9debf4ed"
      },
      "outputs": [
        {
          "output_type": "stream",
          "name": "stdout",
          "text": [
            "Enter the number : 179.147\n",
            "The number is +179.15\n"
          ]
        }
      ],
      "source": [
        "number = float(input(\"Enter the number : \"))\n",
        "r = round(number, 2)\n",
        "if r > 0:\n",
        "  print(f\"The number is +{r}\")\n",
        "else:\n",
        "  print(f\"The number is {r}\")"
      ]
    },
    {
      "cell_type": "markdown",
      "id": "32b1811a",
      "metadata": {
        "id": "32b1811a"
      },
      "source": [
        "**15-Write a Python program to display a number with a comma separator"
      ]
    },
    {
      "cell_type": "code",
      "execution_count": null,
      "id": "f30fc0b6",
      "metadata": {
        "id": "f30fc0b6",
        "colab": {
          "base_uri": "https://localhost:8080/"
        },
        "outputId": "6594265e-978e-4a7f-ac11-a670348a4377"
      },
      "outputs": [
        {
          "output_type": "stream",
          "name": "stdout",
          "text": [
            "Enter the number : 6000000\n",
            "6,000,000\n"
          ]
        }
      ],
      "source": [
        "number = int(input(\"Enter the number : \"))\n",
        "print(f\"{number:,d}\")"
      ]
    },
    {
      "cell_type": "markdown",
      "id": "0477f487",
      "metadata": {
        "id": "0477f487"
      },
      "source": [
        "**16-Write a Python program to reverse a string using 2 ways"
      ]
    },
    {
      "cell_type": "code",
      "source": [
        "s = input(\"Enter the string : \")\n",
        "print(f\"The reverse of string : {s[::-1]}\")"
      ],
      "metadata": {
        "colab": {
          "base_uri": "https://localhost:8080/"
        },
        "id": "3NAhXEn-egP3",
        "outputId": "8c927bb9-ff7e-4225-bda3-c2f32691da27"
      },
      "id": "3NAhXEn-egP3",
      "execution_count": null,
      "outputs": [
        {
          "output_type": "stream",
          "name": "stdout",
          "text": [
            "Enter the string : ahmed\n",
            "The reverse of string : demha\n"
          ]
        }
      ]
    },
    {
      "cell_type": "code",
      "execution_count": null,
      "id": "aa8beec8",
      "metadata": {
        "id": "aa8beec8",
        "colab": {
          "base_uri": "https://localhost:8080/"
        },
        "outputId": "302544bb-bbf4-427d-ddc9-42a7e5ccad06"
      },
      "outputs": [
        {
          "output_type": "stream",
          "name": "stdout",
          "text": [
            "Enter the string : ahmed\n",
            "The reverse of string : demha\n"
          ]
        }
      ],
      "source": [
        "s = input(\"Enter the string : \")\n",
        "new_s = \"\".join(reversed(s))\n",
        "print(f\"The reverse of string : {new_s}\")"
      ]
    },
    {
      "cell_type": "markdown",
      "id": "5afc3166",
      "metadata": {
        "id": "5afc3166"
      },
      "source": [
        " **17-Write a Python program to count repeated characters in a string (hint:use dictionary)"
      ]
    },
    {
      "cell_type": "code",
      "execution_count": null,
      "id": "515a469c",
      "metadata": {
        "id": "515a469c",
        "colab": {
          "base_uri": "https://localhost:8080/"
        },
        "outputId": "42e0a6fd-9b60-4e71-f636-2d07257e7a99"
      },
      "outputs": [
        {
          "output_type": "stream",
          "name": "stdout",
          "text": [
            "Enter string : ahhmmmeeeeed\n",
            "The dictionary of string is {'a': 1, 'h': 2, 'm': 3, 'e': 5, 'd': 1}\n",
            "Count repeated charaters e in a string is 5\n"
          ]
        }
      ],
      "source": [
        "string = input(\"Enter string : \")\n",
        "d={}\n",
        "for i in string:\n",
        "  d[i] = string.count(i)\n",
        "max_count = max(d.values())\n",
        "for i in d:\n",
        "  if max_count == d[i]:\n",
        "    key_max = i\n",
        "print(f\"The dictionary of string is {d}\")\n",
        "print(f\"Count repeated charaters {key_max} in a string is {max(d.values())}\")"
      ]
    },
    {
      "cell_type": "markdown",
      "id": "ae14e4e5",
      "metadata": {
        "id": "ae14e4e5"
      },
      "source": [
        "**18-Write a Python program to find the first non-repeating character in a given string"
      ]
    },
    {
      "cell_type": "code",
      "execution_count": null,
      "id": "d73778e5",
      "metadata": {
        "id": "d73778e5",
        "colab": {
          "base_uri": "https://localhost:8080/"
        },
        "outputId": "c6c79d83-686f-48c1-a111-0da8b6287c15"
      },
      "outputs": [
        {
          "output_type": "stream",
          "name": "stdout",
          "text": [
            "Enter string : ahhmeed\n",
            "First non-repeating character is 'a' count = 1\n"
          ]
        }
      ],
      "source": [
        "string = input(\"Enter string : \")\n",
        "d = {}\n",
        "for i in string:\n",
        "  d[i] = string.count(i)\n",
        "for i in d:\n",
        "  if string.count(i) == 1:\n",
        "    max_key = i\n",
        "    break\n",
        "print(f\"First non-repeating character is '{max_key}' count = {1}\")"
      ]
    },
    {
      "cell_type": "markdown",
      "id": "3adf5669",
      "metadata": {
        "id": "3adf5669"
      },
      "source": [
        "**19-Write a Python program to remove spaces from a given string"
      ]
    },
    {
      "cell_type": "code",
      "execution_count": null,
      "id": "b4f22602",
      "metadata": {
        "id": "b4f22602",
        "colab": {
          "base_uri": "https://localhost:8080/"
        },
        "outputId": "cb39d5d4-87a5-45b8-d96a-db6c50872cb2"
      },
      "outputs": [
        {
          "output_type": "stream",
          "name": "stdout",
          "text": [
            "Enter String : A     h  me  d\n",
            "String after remove spaces : Ahmed\n"
          ]
        }
      ],
      "source": [
        "s = input(\"Enter String : \")\n",
        "s_remove = \"\"\n",
        "for i in s:\n",
        "  if i != \" \":\n",
        "   s_remove+=i\n",
        "print(f\"String after remove spaces : {s_remove}\")"
      ]
    },
    {
      "cell_type": "markdown",
      "id": "734de60c",
      "metadata": {
        "id": "734de60c"
      },
      "source": [
        "**20-Write a Python program to count the number of non-empty substrings of a given string"
      ]
    },
    {
      "cell_type": "code",
      "execution_count": null,
      "id": "ef3f2274",
      "metadata": {
        "id": "ef3f2274",
        "colab": {
          "base_uri": "https://localhost:8080/"
        },
        "outputId": "f8043e42-0c07-416e-ee84-0b3fdc4ba1f1"
      },
      "outputs": [
        {
          "output_type": "stream",
          "name": "stdout",
          "text": [
            "Enter string : abc\n",
            "Count the number of non-empty substrings of a given string abc is 6\n"
          ]
        }
      ],
      "source": [
        "string = input(\"Enter string : \")\n",
        "n = len(string)\n",
        "c = int((n * (n + 1) / 2))\n",
        "print(f\"Count the number of non-empty substrings of a given string {string} is {c}\")"
      ]
    },
    {
      "cell_type": "markdown",
      "id": "509998e2",
      "metadata": {
        "id": "509998e2"
      },
      "source": [
        "**21-write a Python program to swap first and last element of any list."
      ]
    },
    {
      "cell_type": "code",
      "execution_count": null,
      "id": "68692d7f",
      "metadata": {
        "id": "68692d7f",
        "colab": {
          "base_uri": "https://localhost:8080/"
        },
        "outputId": "bd8cffb7-1bdc-490c-a8ca-6ae62e297dd0"
      },
      "outputs": [
        {
          "output_type": "stream",
          "name": "stdout",
          "text": [
            "Enter number you want to list : 5\n",
            "Enter numbers 1 to list : 2\n",
            "Enter numbers 2 to list : 4\n",
            "Enter numbers 3 to list : 9\n",
            "Enter numbers 4 to list : 8\n",
            "Enter numbers 5 to list : 7\n",
            "befor swap first and last element the list is [2, 4, 9, 8, 7]\n",
            "after swap first and last element the list is [7, 4, 9, 8, 2]\n"
          ]
        }
      ],
      "source": [
        "number_size = int(input(\"Enter number you want to list : \"))\n",
        "l = []\n",
        "for i in range(number_size):\n",
        "  number = int(input(f\"Enter numbers {i+1} to list : \"))\n",
        "  l.append(number)\n",
        "print(f\"befor swap first and last element the list is {l}\")\n",
        "l[0],l[-1]=l[-1],l[0]\n",
        "print(f\"after swap first and last element the list is {l}\")"
      ]
    },
    {
      "cell_type": "markdown",
      "id": "959e0837",
      "metadata": {
        "id": "959e0837"
      },
      "source": [
        "**22-Given a list in Python and provided the positions of the elements, write a program to swap the two elements in the list. (Input : List = [23, 65, 19, 90], pos1 = 1, pos2 = 3\n",
        "Output : [19, 65, 23, 90])"
      ]
    },
    {
      "cell_type": "code",
      "source": [
        " l = [23, 65, 19, 90]\n",
        " l[0],l[2]=l[2],l[0]\n",
        " print(\"The list is\",l)"
      ],
      "metadata": {
        "colab": {
          "base_uri": "https://localhost:8080/"
        },
        "id": "4DS14MzkOgVH",
        "outputId": "0aa4363f-b0b6-4bb8-ff37-1a87f844ef88"
      },
      "id": "4DS14MzkOgVH",
      "execution_count": null,
      "outputs": [
        {
          "output_type": "stream",
          "name": "stdout",
          "text": [
            "The list is [19, 65, 23, 90]\n"
          ]
        }
      ]
    },
    {
      "cell_type": "markdown",
      "id": "66fc6682",
      "metadata": {
        "id": "66fc6682"
      },
      "source": [
        "**23- search for the all ways to know the length of the list"
      ]
    },
    {
      "cell_type": "code",
      "source": [
        "string = input(\"Enter string : \")\n",
        "count = 0\n",
        "for i in string:\n",
        "  if i != \" \":\n",
        "    count +=1\n",
        "print(f\"The length of string without spaces = {count}\")"
      ],
      "metadata": {
        "colab": {
          "base_uri": "https://localhost:8080/"
        },
        "id": "ospECtp9PrVW",
        "outputId": "383fcedd-1809-4613-93dd-07c93dddd3d7"
      },
      "id": "ospECtp9PrVW",
      "execution_count": null,
      "outputs": [
        {
          "output_type": "stream",
          "name": "stdout",
          "text": [
            "Enter string : Ah  med\n",
            "The length of string without spaces = 5\n"
          ]
        }
      ]
    },
    {
      "cell_type": "markdown",
      "source": [
        "**24-write a Python code to find the Maximum number of list of numbers."
      ],
      "metadata": {
        "id": "UDrDtddhPyv9"
      },
      "id": "UDrDtddhPyv9"
    },
    {
      "cell_type": "code",
      "execution_count": null,
      "id": "15f342de",
      "metadata": {
        "id": "15f342de",
        "colab": {
          "base_uri": "https://localhost:8080/"
        },
        "outputId": "dc262269-57ca-4aca-9195-16b73a401153"
      },
      "outputs": [
        {
          "output_type": "stream",
          "name": "stdout",
          "text": [
            "Enter number you want to list : 5\n",
            "Enter numbers 1 to list : 9\n",
            "Enter numbers 2 to list : 17\n",
            "Enter numbers 3 to list : 22\n",
            "Enter numbers 4 to list : 14\n",
            "Enter numbers 5 to list : 5\n",
            "The list is [9, 17, 22, 14, 5]\n",
            "The maximum number is 22 and you can find in index 2 in list\n"
          ]
        }
      ],
      "source": [
        "number_size = int(input(\"Enter number you want to list : \"))\n",
        "list1 = []\n",
        "max = 0\n",
        "for i in range(number_size):\n",
        "  number = int(input(f\"Enter numbers {i+1} to list : \"))\n",
        "  list1.append(number)\n",
        "for i in range(len(list1)):\n",
        "  if list1[i] > max:\n",
        "    max = list1[i]\n",
        "    max_index = i\n",
        "print(f\"The list is {list1}\")\n",
        "print(f\"The maximum number is {max} and you can find in index {max_index} in list\")"
      ]
    },
    {
      "cell_type": "markdown",
      "source": [
        "**25-write a Python code to find the Minimum number of list of numbers."
      ],
      "metadata": {
        "id": "xDAEl8DJP4ou"
      },
      "id": "xDAEl8DJP4ou"
    },
    {
      "cell_type": "code",
      "execution_count": null,
      "id": "21f8cbd6",
      "metadata": {
        "id": "21f8cbd6",
        "colab": {
          "base_uri": "https://localhost:8080/"
        },
        "outputId": "e921fade-b21d-4132-91f3-08b0550950f7"
      },
      "outputs": [
        {
          "output_type": "stream",
          "name": "stdout",
          "text": [
            "Enter number you want to list : 5\n",
            "Enter numbers 1 to list : 7\n",
            "Enter numbers 2 to list : 4\n",
            "Enter numbers 3 to list : 8\n",
            "Enter numbers 4 to list : 9\n",
            "Enter numbers 5 to list : 3\n",
            "The list is [7, 4, 8, 9, 3]\n",
            "The minimum number of list is 3\n"
          ]
        }
      ],
      "source": [
        "number_size = int(input(\"Enter number you want to list : \"))\n",
        "list1 = []\n",
        "min = 99999\n",
        "for i in range(number_size):\n",
        "  number = int(input(f\"Enter numbers {i+1} to list : \"))\n",
        "  list1.append(number)\n",
        "for i in range(len(list1)):\n",
        "  if list1[i] < min:\n",
        "    min = list1[i]\n",
        "print(f\"The list is {list1}\")\n",
        "print(f\"The minimum number of list is {min}\")"
      ]
    },
    {
      "cell_type": "markdown",
      "id": "96822d96",
      "metadata": {
        "id": "96822d96"
      },
      "source": [
        "**26-search for if an elem is existing in list"
      ]
    },
    {
      "cell_type": "code",
      "execution_count": null,
      "id": "51ca5c9a",
      "metadata": {
        "id": "51ca5c9a",
        "colab": {
          "base_uri": "https://localhost:8080/"
        },
        "outputId": "a61e63d8-73dd-4ce3-844c-4720a2fedd53"
      },
      "outputs": [
        {
          "output_type": "stream",
          "name": "stdout",
          "text": [
            "Enter number you want to list : 5\n",
            "Enter numbers 1 to list : 7\n",
            "Enter numbers 2 to list : 9\n",
            "Enter numbers 3 to list : 5\n",
            "Enter numbers 4 to list : 4\n",
            "Enter numbers 5 to list : 2\n",
            "Enter number you want to search : 4\n",
            "The list is [7, 9, 5, 4, 2]\n",
            "X = 4 exist in 3 index of list\n"
          ]
        }
      ],
      "source": [
        "number_size = int(input(\"Enter number you want to list : \"))\n",
        "list1 = []\n",
        "f = 0\n",
        "for i in range(number_size):\n",
        "  number = int(input(f\"Enter numbers {i+1} to list : \"))\n",
        "  list1.append(number)\n",
        "x = int(input(\"Enter number you want to search : \"))\n",
        "for i in range(len(list1)):\n",
        "  if list1[i] == x:\n",
        "    index = i\n",
        "    f = 1\n",
        "print(f\"The list is {list1}\")\n",
        "if f == 1:\n",
        "  print(f\"X = {x} exist in {index} index of list\")\n",
        "else:\n",
        "  print(f\"X = {x} is not exist in list {list1}\")"
      ]
    },
    {
      "cell_type": "markdown",
      "id": "d9557da7",
      "metadata": {
        "id": "d9557da7"
      },
      "source": [
        "**27- clear python list using different ways"
      ]
    },
    {
      "cell_type": "code",
      "execution_count": null,
      "id": "b69858a3",
      "metadata": {
        "id": "b69858a3",
        "colab": {
          "base_uri": "https://localhost:8080/"
        },
        "outputId": "711a08d2-ffc6-403e-b2e3-d68dbe984e7e"
      },
      "outputs": [
        {
          "output_type": "stream",
          "name": "stdout",
          "text": [
            "List before clear is [2, 3, 5, 6, 7]\n",
            "List atfer clear is []\n"
          ]
        }
      ],
      "source": [
        "l = [2, 3, 5, 6, 7]\n",
        "print(f\"List before clear is {l}\")\n",
        "del l[:]\n",
        "print(f\"List atfer clear is {l}\")"
      ]
    },
    {
      "cell_type": "code",
      "source": [
        "l = [2, 3, 5, 6, 7]\n",
        "print(f\"List before clear is {l}\")\n",
        "while len(l) !=0:\n",
        "  l.pop()\n",
        "print(f\"List atfer clear is {l}\")"
      ],
      "metadata": {
        "colab": {
          "base_uri": "https://localhost:8080/"
        },
        "id": "_9zhJXO3W-Vu",
        "outputId": "cdd42396-8ab1-4742-f607-4ba2d69c90e9"
      },
      "id": "_9zhJXO3W-Vu",
      "execution_count": null,
      "outputs": [
        {
          "output_type": "stream",
          "name": "stdout",
          "text": [
            "List before clear is [2, 3, 5, 6, 7]\n",
            "List atfer clear is []\n"
          ]
        }
      ]
    },
    {
      "cell_type": "markdown",
      "id": "52160e88",
      "metadata": {
        "id": "52160e88"
      },
      "source": [
        "**28-remove duplicated elements from a list"
      ]
    },
    {
      "cell_type": "code",
      "execution_count": null,
      "id": "5e362228",
      "metadata": {
        "id": "5e362228",
        "colab": {
          "base_uri": "https://localhost:8080/"
        },
        "outputId": "48c95f5f-06f7-4512-e7cc-1f04a210f592"
      },
      "outputs": [
        {
          "output_type": "stream",
          "name": "stdout",
          "text": [
            "List before removing duplicated elements is [1, 2, 3, 4, 1, 5, 6, 7, 1, 9]\n",
            "List after removing duplicated element is [1, 2, 3, 4, 5, 6, 7, 9]\n"
          ]
        }
      ],
      "source": [
        "l = [1,2,3,4,1,5,6,7,1,9]\n",
        "print(f\"List before removing duplicated elements is {l}\")\n",
        "l_set = set(l)\n",
        "new_list = list(l_set)\n",
        "print(f\"List after removing duplicated element is {new_list}\")"
      ]
    },
    {
      "cell_type": "code",
      "source": [
        "l = [1,2,3,4,1,5,6,7,1,9]\n",
        "print(f\"List before removing duplicated elements is {l}\")\n",
        "new_list = []\n",
        "for i in l:\n",
        "  if i not in new_list:\n",
        "    new_list.append(i)\n",
        "print(f\"List after removing duplicated element is {new_list}\")"
      ],
      "metadata": {
        "colab": {
          "base_uri": "https://localhost:8080/"
        },
        "id": "3mLj-JaHAaBB",
        "outputId": "a580f043-6d1a-4b36-8471-572c24b1214b"
      },
      "id": "3mLj-JaHAaBB",
      "execution_count": null,
      "outputs": [
        {
          "output_type": "stream",
          "name": "stdout",
          "text": [
            "List before removing duplicated elements is [1, 2, 3, 4, 1, 5, 6, 7, 1, 9]\n",
            "List after removing duplicated element is [1, 2, 3, 4, 5, 6, 7, 9]\n"
          ]
        }
      ]
    },
    {
      "cell_type": "markdown",
      "id": "282337f7",
      "metadata": {
        "id": "282337f7"
      },
      "source": [
        "**29-Given list values and keys list, convert these values to key value pairs in form of list of dictionaries. (Input : test_list = [“Gfg”, 3, “is”, 8], key_list = [“name”, “id”]\n",
        "Output : [{‘name’: ‘Gfg’, ‘id’: 3}, {‘name’: ‘is’, ‘id’: 8}])"
      ]
    },
    {
      "cell_type": "code",
      "execution_count": null,
      "id": "4d4e2d28",
      "metadata": {
        "id": "4d4e2d28",
        "colab": {
          "base_uri": "https://localhost:8080/"
        },
        "outputId": "c11c832e-c99b-4e1f-aac6-d408763f1f22"
      },
      "outputs": [
        {
          "output_type": "stream",
          "name": "stdout",
          "text": [
            "[{'name': 'Gfg', 'id': 3}, {'name': 'is', 'id': 8}]\n"
          ]
        }
      ],
      "source": [
        "test_list = [\"Gfg\", 3, \"is\", 8]\n",
        "key_list = [\"name\", \"id\"]\n",
        "d = []\n",
        "for i in range(0,len(test_list),2):\n",
        "  d.append({key_list[0]:test_list[i],key_list[1]:test_list[i+1]})\n",
        "print(d)"
      ]
    },
    {
      "cell_type": "markdown",
      "id": "c26b6e9f",
      "metadata": {
        "id": "c26b6e9f"
      },
      "source": [
        "**30-write a python program to count unique values inside a list using different ways"
      ]
    },
    {
      "cell_type": "code",
      "execution_count": null,
      "id": "72132667",
      "metadata": {
        "id": "72132667",
        "colab": {
          "base_uri": "https://localhost:8080/"
        },
        "outputId": "10d999e1-29f6-4cc0-d7c7-508500522eb1"
      },
      "outputs": [
        {
          "output_type": "stream",
          "name": "stdout",
          "text": [
            "Count unique values = 5\n"
          ]
        }
      ],
      "source": [
        "l = [1, 2, 2, 5, 8, 4, 4, 8]\n",
        "new_s = []\n",
        "for i in l:\n",
        "  if i not in new_s:\n",
        "    new_s.append(i)\n",
        "print(f\"Count unique values = {len(new_s)}\")"
      ]
    },
    {
      "cell_type": "code",
      "source": [
        "l = [1, 2, 2, 5, 8, 4, 4, 8]\n",
        "set_l = set(l)\n",
        "print(f\"Count unique values = {len(set_l)}\")"
      ],
      "metadata": {
        "colab": {
          "base_uri": "https://localhost:8080/"
        },
        "id": "oUx_Yxt0TbU-",
        "outputId": "67f68c06-e940-4aab-ed16-0683dc09405d"
      },
      "id": "oUx_Yxt0TbU-",
      "execution_count": null,
      "outputs": [
        {
          "output_type": "stream",
          "name": "stdout",
          "text": [
            "Count unique values = 5\n"
          ]
        }
      ]
    },
    {
      "cell_type": "markdown",
      "id": "fed6677c",
      "metadata": {
        "id": "fed6677c"
      },
      "source": [
        "**31-write a python program Extract all elements with Frequency greater than K (Input : test_list = [4, 6, 4, 3, 3, 4, 3, 4, 3, 8], K = 3\n",
        "Output : [4, 3] )"
      ]
    },
    {
      "cell_type": "code",
      "execution_count": null,
      "id": "d81f3f9d",
      "metadata": {
        "id": "d81f3f9d",
        "colab": {
          "base_uri": "https://localhost:8080/"
        },
        "outputId": "0a407192-bbf3-4482-9bad-f12bcd336f85"
      },
      "outputs": [
        {
          "output_type": "stream",
          "name": "stdout",
          "text": [
            "Output = [3, 4]\n"
          ]
        }
      ],
      "source": [
        "test_list = [4, 6, 4, 3, 3, 4, 3, 4, 3, 8]\n",
        "K = 3\n",
        "l = []\n",
        "for i in range(len(test_list)):\n",
        "  if test_list.count(test_list[i]) > 3:\n",
        "    l.append(test_list[i])\n",
        "l_set = set(l)\n",
        "print(f\"Output = {list(l_set)}\")"
      ]
    },
    {
      "cell_type": "markdown",
      "id": "caca5224",
      "metadata": {
        "id": "caca5224"
      },
      "source": [
        "**32-write a python program to find the Strongest Neighbour (Input: 1 2 2 3 4 5\n",
        "Output: 2 2 3 4 5)"
      ]
    },
    {
      "cell_type": "code",
      "execution_count": null,
      "id": "39fbd9b2",
      "metadata": {
        "id": "39fbd9b2",
        "colab": {
          "base_uri": "https://localhost:8080/"
        },
        "outputId": "e0fb5931-6124-45c4-bd1e-0e954aa06edf"
      },
      "outputs": [
        {
          "output_type": "stream",
          "name": "stdout",
          "text": [
            "2 2 3 4 5\n"
          ]
        }
      ],
      "source": [
        "test_list = [1,2,2,3,4,5]\n",
        "l1 = []\n",
        "for i in range(1,len(test_list)):\n",
        "  m = max(test_list[i],test_list[i-1])\n",
        "  l1.append(m)\n",
        "k = \" \".join(map(str,l1))\n",
        "print(k)"
      ]
    },
    {
      "cell_type": "markdown",
      "id": "a9fa8baf",
      "metadata": {
        "id": "a9fa8baf"
      },
      "source": [
        "**33-write a Python Program to print all Possible Combinations from the three Digits (Input: [1, 2, 3]\n",
        "Output:\n",
        "1 2 3 ##\n",
        "1 3 2 ##\n",
        "2 1 3 ##\n",
        "2 3 1 ##\n",
        "3 1 2 ##\n",
        "3 2 1)"
      ]
    },
    {
      "cell_type": "code",
      "execution_count": null,
      "id": "8c520a76",
      "metadata": {
        "id": "8c520a76",
        "colab": {
          "base_uri": "https://localhost:8080/"
        },
        "outputId": "ea85cd24-bb73-4c63-a219-93afbbde8cb6"
      },
      "outputs": [
        {
          "output_type": "stream",
          "name": "stdout",
          "text": [
            "Enter first number : 1\n",
            "Enter second number : 2\n",
            "Enter third number : 3\n",
            "The three digits is [1, 2, 3]\n",
            "All possiple combinantions from three is 123 ## 132 ## 213 ## 231 ## 312 ## 321\n"
          ]
        }
      ],
      "source": [
        "a = int(input(\"Enter first number : \"))\n",
        "b = int(input(\"Enter second number : \"))\n",
        "c = int(input(\"Enter third number : \"))\n",
        "d = []\n",
        "l = []\n",
        "d.append(a)\n",
        "d.append(b)\n",
        "d.append(c)\n",
        "print(f\"The three digits is {d}\")\n",
        "for i in range(1,4):\n",
        "  for j in range(1,4):\n",
        "    for k in range(1,4):\n",
        "      if(i!=j and j!=k and k!=i):\n",
        "        s = str(i) + str(j) + str(k)\n",
        "        l.append(s)\n",
        "l_finish = \" ## \".join(l)\n",
        "print(f\"All possiple combinantions from three is {l_finish}\")"
      ]
    },
    {
      "cell_type": "markdown",
      "id": "5288bb89",
      "metadata": {
        "id": "5288bb89"
      },
      "source": [
        "**34-write a Python program to find all the Combinations in the list with the given condition (Input: test_list = [1,2,3]\n",
        "Output:\n",
        " [1], [1, 2], [1, 2, 3], [1, 3]\n",
        " [2], [2, 3], [3])"
      ]
    },
    {
      "cell_type": "code",
      "source": [
        "test_list = [1, 2, 3]\n",
        "result = []\n",
        "for i in range(len(test_list)):\n",
        "   for j in range(i+1,len(test_list)+1):\n",
        "      result.append(test_list[i:j])\n",
        "print(result)"
      ],
      "metadata": {
        "colab": {
          "base_uri": "https://localhost:8080/"
        },
        "id": "TCaTsSIOJW-g",
        "outputId": "54be7baa-64c5-4aba-b65a-c41c45d9ad07"
      },
      "id": "TCaTsSIOJW-g",
      "execution_count": null,
      "outputs": [
        {
          "output_type": "stream",
          "name": "stdout",
          "text": [
            "[[1], [1, 2], [1, 2, 3], [2], [2, 3], [3]]\n"
          ]
        }
      ]
    },
    {
      "cell_type": "markdown",
      "id": "39973705",
      "metadata": {
        "id": "39973705"
      },
      "source": [
        "**35-write a Python program to get all unique combinations of two Lists (List_1 = [\"a\",\"b\"]\n",
        "List_2 = [1,2]\n",
        "Unique_combination = [[('a',1),('b',2)],[('a',2),('b',1)]] )"
      ]
    },
    {
      "cell_type": "code",
      "execution_count": null,
      "id": "8c4ba22b",
      "metadata": {
        "id": "8c4ba22b",
        "colab": {
          "base_uri": "https://localhost:8080/"
        },
        "outputId": "4f47587e-d894-4614-d88b-048147e4ac30"
      },
      "outputs": [
        {
          "output_type": "stream",
          "name": "stdout",
          "text": [
            "Unique combination = [('a', 1), ('b', 2), ('a', 2), ('b', 1)]\n"
          ]
        }
      ],
      "source": [
        "list_1 = [\"a\",\"b\"]\n",
        "list_2 = [1,2]\n",
        "result = []\n",
        "for i in range(len(list_1)):\n",
        "  for j in range(len(list_2)):\n",
        "    result.append((list_1[i],list_2[j]))\n",
        "result[1],result[2]=result[2],result[1]\n",
        "result[3],result[1]=result[1],result[3]\n",
        "result1 = result[:2]\n",
        "result2 = result[-2:]\n",
        "final_result = result1 + result2\n",
        "print(f\"Unique combination = {final_result}\")"
      ]
    },
    {
      "cell_type": "markdown",
      "id": "25199af5",
      "metadata": {
        "id": "25199af5"
      },
      "source": [
        "**36-Remove all the occurrences of an element from a list in Python (Input : 1 1 2 3 4 5 1 2 1\n",
        "\n",
        "**Output : 2 3 4 5 2)"
      ]
    },
    {
      "cell_type": "code",
      "execution_count": null,
      "id": "6dc4c2ba",
      "metadata": {
        "id": "6dc4c2ba",
        "colab": {
          "base_uri": "https://localhost:8080/"
        },
        "outputId": "bbf9e7a5-5a47-4c9b-9205-106355eff1dc"
      },
      "outputs": [
        {
          "output_type": "stream",
          "name": "stdout",
          "text": [
            "After removing all the occurrences of an element from a list is 2 3 4 5 2\n"
          ]
        }
      ],
      "source": [
        "l = [1,1,2,3,4,5,1,2,1]\n",
        "max = 0\n",
        "for i in range(len(l)):\n",
        "  if l.count(l[i]) > max:\n",
        "    max_count = l.count(l[i])\n",
        "    value_max = l[i]\n",
        "for i in range(max_count):\n",
        "   l.remove(value_max)\n",
        "l = \" \".join(map(str,l))\n",
        "print(f\"After removing all the occurrences of an element from a list is {l}\")"
      ]
    },
    {
      "cell_type": "markdown",
      "id": "bf1a3c93",
      "metadata": {
        "id": "bf1a3c93"
      },
      "source": [
        "**37-write a python program to Replace index elements with elements in Other List (The original list 1 is : [‘Gfg’, ‘is’, ‘best’] The original list 2 is : [0, 1, 2, 1, 0, 0, 0, 2, 1, 1, 2, 0] The lists after index elements replacements is : [‘Gfg’, ‘is’, ‘best’, ‘is’, ‘Gfg’, ‘Gfg’, ‘Gfg’, ‘best’, ‘is’, ‘is’, ‘best’, ‘Gfg’])"
      ]
    },
    {
      "cell_type": "code",
      "execution_count": null,
      "id": "fdd66a71",
      "metadata": {
        "id": "fdd66a71",
        "colab": {
          "base_uri": "https://localhost:8080/"
        },
        "outputId": "289f8d0b-2fae-4af2-95e1-3fceb2c4e622"
      },
      "outputs": [
        {
          "output_type": "stream",
          "name": "stdout",
          "text": [
            "The original list 1 is ['Gfg', 'is', 'best']\n",
            "The original list 2 is [0, 1, 2, 1, 0, 0, 0, 2, 1, 1, 2, 0]\n",
            "The lists after index elements replacements is ['Gfg', 'is', 'best', 'is', 'Gfg', 'Gfg', 'Gfg', 'best', 'is', 'is', 'best', 'Gfg']\n"
          ]
        }
      ],
      "source": [
        "list1 = [\"Gfg\",\"is\",\"best\"]\n",
        "list2 = [0, 1, 2, 1, 0, 0, 0, 2, 1, 1, 2, 0]\n",
        "result = []\n",
        "for i in list2:\n",
        "    result.append(list1[i])\n",
        "print(f\"The original list 1 is {list1}\")\n",
        "print(f\"The original list 2 is {list2}\")\n",
        "print(f\"The lists after index elements replacements is {result}\")"
      ]
    },
    {
      "cell_type": "markdown",
      "id": "af0f56e8",
      "metadata": {
        "id": "af0f56e8"
      },
      "source": [
        "**38- write python program to Retain records with N occurrences of K(Input : test_list = [(4, 5, 5, 4), (5, 4, 3)], K = 5, N = 2\n",
        "Output : [(4, 5, 5, 4)]\n",
        "Input : test_list = [(4, 5, 5, 4), (5, 4, 3)], K = 5, N = 3\n",
        "Output : [] )"
      ]
    },
    {
      "cell_type": "code",
      "execution_count": null,
      "id": "67b06671",
      "metadata": {
        "id": "67b06671",
        "colab": {
          "base_uri": "https://localhost:8080/"
        },
        "outputId": "4ccb0ee1-7769-458d-bf33-1c19aaf259eb"
      },
      "outputs": [
        {
          "output_type": "stream",
          "name": "stdout",
          "text": [
            "Output 1 : [(4, 5, 5, 4)]\n",
            "Output 2 : []\n"
          ]
        }
      ],
      "source": [
        "test_list1 = [(4, 5, 5, 4), (5, 4, 3)]\n",
        "k1 = 5\n",
        "n1 = 2\n",
        "result1 = []\n",
        "test_list2 = [(4, 5, 5, 4), (5, 4, 3)]\n",
        "k2 = 5\n",
        "n2 = 3\n",
        "result2 = []\n",
        "for tup in test_list1:\n",
        "  if tup.count(k1) == n1:\n",
        "    result1.append(tup)\n",
        "for tup in test_list2:\n",
        "  if tup.count(k2) == n2:\n",
        "    result2.append(tup)\n",
        "print(f\"Output 1 : {result1}\")\n",
        "print(f\"Output 2 : {result2}\")"
      ]
    },
    {
      "cell_type": "markdown",
      "id": "de76f183",
      "metadata": {
        "id": "de76f183"
      },
      "source": [
        "**39-write a Python Program to Sort the list according to the column using lambda\n",
        "array = [[1, 3, 3], [2, 1, 2], [3, 2, 1]]\n",
        "Output :\n",
        "Sorted array specific to column 0, [[1, 3, 3], [2, 1, 2], [3, 2, 1]]\n",
        "Sorted array specific to column 1, [[2, 1, 2], [3, 2, 1], [1, 3, 3]]\n",
        "Sorted array specific to column 2, [[3, 2, 1], [2, 1, 2], [1, 3, 3]]"
      ]
    },
    {
      "cell_type": "code",
      "execution_count": null,
      "id": "dc883308",
      "metadata": {
        "id": "dc883308",
        "colab": {
          "base_uri": "https://localhost:8080/"
        },
        "outputId": "5f169b00-9800-4151-b884-19e690a8af5a"
      },
      "outputs": [
        {
          "output_type": "stream",
          "name": "stdout",
          "text": [
            "Sorted array specific to column 0: [[1, 3, 3], [2, 1, 2], [3, 2, 1]]\n",
            "Sorted array specific to column 1: [[2, 1, 2], [3, 2, 1], [1, 3, 3]]\n",
            "Sorted array specific to column 2: [[3, 2, 1], [2, 1, 2], [1, 3, 3]]\n"
          ]
        }
      ],
      "source": [
        "array = [[1, 3, 3], [2, 1, 2], [3, 2, 1]]\n",
        "sort_col0 = sorted(array , key= lambda x:x[0] )\n",
        "print(\"Sorted array specific to column 0:\", sort_col0)\n",
        "sort_col1 = sorted(array , key= lambda x:x[1] )\n",
        "print(\"Sorted array specific to column 1:\", sort_col1)\n",
        "sort_col2 = sorted(array , key= lambda x:x[2] )\n",
        "print(\"Sorted array specific to column 2:\", sort_col2)"
      ]
    },
    {
      "cell_type": "markdown",
      "source": [
        "**40- write a program to Sort Python Dictionaries by Key or Value\n",
        "Input:\n",
        "{'ravi': 10, 'rajnish': 9, 'sanjeev': 15, 'yash': 2, 'suraj': 32}\n",
        "\n",
        "Output:\n",
        "{'rajnish': 9, 'ravi': 10, 'sanjeev': 15, 'suraj': 32, 'yash': 2}"
      ],
      "metadata": {
        "id": "HOWtzrWzr2Qf"
      },
      "id": "HOWtzrWzr2Qf"
    },
    {
      "cell_type": "code",
      "execution_count": null,
      "id": "a96db4a0",
      "metadata": {
        "id": "a96db4a0",
        "colab": {
          "base_uri": "https://localhost:8080/"
        },
        "outputId": "43017f28-3370-4c07-ac35-dd40e1a0686e"
      },
      "outputs": [
        {
          "output_type": "stream",
          "name": "stdout",
          "text": [
            "Before sorting {'ravi': 10, 'rajnish': 9, 'sanjeev': 15, 'yash': 2, 'suraj': 32}\n",
            "After sorting {'rajnish': 9, 'ravi': 10, 'sanjeev': 15, 'suraj': 32, 'yash': 2}\n"
          ]
        }
      ],
      "source": [
        "d = {'ravi': 10, 'rajnish': 9, 'sanjeev': 15, 'yash': 2, 'suraj': 32}\n",
        "new_d = sorted(d.items())\n",
        "final_d=dict(new_d)\n",
        "print(f\"Before sorting {str(d)}\")\n",
        "print(f\"After sorting {str(final_d)}\")"
      ]
    },
    {
      "cell_type": "markdown",
      "id": "ec63c23a",
      "metadata": {
        "id": "ec63c23a"
      },
      "source": [
        "**41-write python program to Remove keys with Values Greater than K ( Including mixed values )\n",
        "nput : test_dict = {‘Gfg’ : 3, ‘is’ : 7, ‘best’ : 10, ‘for’ : 6, ‘geeks’ : ‘CS’},\n",
        "K = 7\n",
        "Output : {‘Gfg’ : 3, ‘for’ : 6, ‘geeks’ : ‘CS’}"
      ]
    },
    {
      "cell_type": "code",
      "execution_count": null,
      "id": "e39c3a40",
      "metadata": {
        "id": "e39c3a40",
        "colab": {
          "base_uri": "https://localhost:8080/"
        },
        "outputId": "a19fb089-fadb-4b6d-b43f-3b88611b16ed"
      },
      "outputs": [
        {
          "output_type": "stream",
          "name": "stdout",
          "text": [
            "Before remove values is {'Gfg': 3, 'is': 7, 'best': 10, 'for': 6, 'geeks': 'CS'}\n",
            "After remove keys with Values Greater than : {'Gfg': 3, 'for': 6, 'geeks': 'CS'}\n"
          ]
        }
      ],
      "source": [
        "d = {\"Gfg\" : 3, \"is\" : 7, \"best\" : 10, \"for\" : 6, \"geeks\" : \"CS\"}\n",
        "k = 7\n",
        "key_found = None\n",
        "key_to_remove = []\n",
        "print(f\"Before remove values is {d}\")\n",
        "for key,value in d.items():\n",
        "  if isinstance(value,int) and value >= k:\n",
        "    key_to_remove.append(key)\n",
        "for key in key_to_remove:\n",
        "  del d[key]\n",
        "print(f\"After remove keys with Values Greater than : {d}\")"
      ]
    },
    {
      "cell_type": "markdown",
      "id": "f143f0fe",
      "metadata": {
        "id": "f143f0fe"
      },
      "source": [
        "**42-Write a Python program to concatenate the following dictionaries to create a new one\n",
        "\n",
        "Sample Dictionary :\n",
        "dic1={1:10, 2:20}\n",
        "dic2={3:30, 4:40}\n",
        "dic3={5:50,6:60}\n",
        "Expected Result : {1: 10, 2: 20, 3: 30, 4: 40, 5: 50, 6: 60}"
      ]
    },
    {
      "cell_type": "code",
      "execution_count": null,
      "id": "74ffdfea",
      "metadata": {
        "id": "74ffdfea",
        "colab": {
          "base_uri": "https://localhost:8080/"
        },
        "outputId": "b4d0194b-5b67-434d-d65d-6363bb6fc540"
      },
      "outputs": [
        {
          "output_type": "stream",
          "name": "stdout",
          "text": [
            "Dictionary 1 is : {1: 10, 2: 20}\n",
            "Dictionary 2 is : {3: 30, 4: 40}\n",
            "Dictionary 3 is : {5: 50, 6: 60}\n",
            "Dicionary after concatenate is {1: 10, 2: 20, 3: 30, 4: 40, 5: 50, 6: 60}\n"
          ]
        }
      ],
      "source": [
        "d1={1:10, 2:20}\n",
        "d2={3:30, 4:40}\n",
        "d3={5:50,6:60}\n",
        "print(f\"Dictionary 1 is : {d1}\")\n",
        "print(f\"Dictionary 2 is : {d2}\")\n",
        "print(f\"Dictionary 3 is : {d3}\")\n",
        "d_final = {}\n",
        "d_final = d1.copy()\n",
        "d_final.update(d2)\n",
        "d_final.update(d3)\n",
        "print(f\"Dicionary after concatenate is {d_final}\")"
      ]
    },
    {
      "cell_type": "markdown",
      "id": "fb04c93c",
      "metadata": {
        "id": "fb04c93c"
      },
      "source": [
        "**43-Write a Python program to iterate over dictionaries using for loops"
      ]
    },
    {
      "cell_type": "code",
      "execution_count": null,
      "id": "6aebc470",
      "metadata": {
        "id": "6aebc470",
        "colab": {
          "base_uri": "https://localhost:8080/"
        },
        "outputId": "d685bebc-7197-494a-d64c-9c437a47cb9e"
      },
      "outputs": [
        {
          "output_type": "stream",
          "name": "stdout",
          "text": [
            "Enter number of dictionary : 4\n",
            "Enter key of 1 item : Name\n",
            "Enter value with key Name : Ahmed\n",
            "Enter key of 2 item : Age\n",
            "Enter value with key Age : 19\n",
            "Enter key of 3 item : Home\n",
            "Enter value with key Home : giza\n",
            "Enter key of 4 item : Gender\n",
            "Enter value with key Gender : Male\n",
            "Dictionary is {'Name': 'Ahmed', 'Age': '19', 'Home': 'giza', 'Gender': 'Male'}\n",
            "Name ---> Ahmed\n",
            "Age ---> 19\n",
            "Home ---> giza\n",
            "Gender ---> Male\n"
          ]
        }
      ],
      "source": [
        "d = {}\n",
        "number_dic = int(input(\"Enter number of dictionary : \"))\n",
        "for i in range(number_dic):\n",
        "  k = input(f\"Enter key of {i+1} item : \")\n",
        "  d[k] = input(f\"Enter value with key {k} : \")\n",
        "print(f\"Dictionary is {d}\")\n",
        "for key,value in d.items():\n",
        "  print(key,'--->',value)"
      ]
    },
    {
      "cell_type": "markdown",
      "id": "5f491a9d",
      "metadata": {
        "id": "5f491a9d"
      },
      "source": [
        "**44- Write a Python script to merge two Python dictionaries"
      ]
    },
    {
      "cell_type": "code",
      "execution_count": null,
      "id": "b8a14028",
      "metadata": {
        "id": "b8a14028",
        "colab": {
          "base_uri": "https://localhost:8080/"
        },
        "outputId": "6f6e8856-323f-4061-e02f-8e786e9a7682"
      },
      "outputs": [
        {
          "output_type": "stream",
          "name": "stdout",
          "text": [
            "Dictionary 1 is {'a': 1, 'b': 2}\n",
            "Dictionary 2 is {'b': 3, 'c': 4}\n",
            "Merged dictionary using is : {'a': 1, 'b': 3, 'c': 4}\n"
          ]
        }
      ],
      "source": [
        "dict1 = {'a': 1, 'b': 2}\n",
        "dict2 = {'b': 3, 'c': 4}\n",
        "print(f\"Dictionary 1 is {dict1}\")\n",
        "print(f\"Dictionary 2 is {dict2}\")\n",
        "dict1.update(dict2)\n",
        "print(f\"Merged dictionary using is : {dict1}\")"
      ]
    },
    {
      "cell_type": "markdown",
      "id": "216fc72d",
      "metadata": {
        "id": "216fc72d"
      },
      "source": [
        "**45-Write a Python program to get the maximum and minimum values of a dictionary values"
      ]
    },
    {
      "cell_type": "code",
      "execution_count": null,
      "id": "d6883f5f",
      "metadata": {
        "id": "d6883f5f",
        "colab": {
          "base_uri": "https://localhost:8080/"
        },
        "outputId": "3e8b0a02-9078-4eb9-969e-4822badf4222"
      },
      "outputs": [
        {
          "output_type": "stream",
          "name": "stdout",
          "text": [
            "Dicionary is {'a': 10, 'b': 5, 'c': 15, 'd': 3}\n",
            "Minimum of values in dictionary 3\n",
            "Maximum of values in dictionary 15\n"
          ]
        }
      ],
      "source": [
        "d = {'a': 10, 'b': 5, 'c': 15, 'd': 3}\n",
        "max = 0\n",
        "min = 9999999999\n",
        "for value in d.values():\n",
        "  if value > max:\n",
        "    max = value\n",
        "  if value < min:\n",
        "    min = value\n",
        "print(f\"Dicionary is {d}\")\n",
        "print(f\"Minimum of values in dictionary {min}\")\n",
        "print(f\"Maximum of values in dictionary {max}\")"
      ]
    },
    {
      "cell_type": "markdown",
      "id": "b6a53011",
      "metadata": {
        "id": "b6a53011"
      },
      "source": [
        "**46- Write a Python program to drop empty items from a given dictionary.\n",
        "Original Dictionary:\n",
        "{'c1': 'Red', 'c2': 'Green', 'c3': None}\n",
        "New Dictionary after dropping empty items:\n",
        "{'c1': 'Red', 'c2': 'Green'}"
      ]
    },
    {
      "cell_type": "code",
      "execution_count": null,
      "id": "b5c6fecf",
      "metadata": {
        "id": "b5c6fecf",
        "colab": {
          "base_uri": "https://localhost:8080/"
        },
        "outputId": "b43843c7-5888-405b-a468-fd047afe79c8"
      },
      "outputs": [
        {
          "output_type": "stream",
          "name": "stdout",
          "text": [
            "Dictionary before remove : {'c1': 'Red', 'c2': 'Green', 'c3': None}\n",
            "Dictionary after remove is : {'c1': 'Red', 'c2': 'Green'}\n"
          ]
        }
      ],
      "source": [
        "d = {'c1': 'Red', 'c2': 'Green', 'c3': None}\n",
        "key_to_remove = []\n",
        "print(f\"Dictionary before remove : {d}\")\n",
        "for key,value in d.items():\n",
        "  if value == None:\n",
        "    key_to_remove.append(key)\n",
        "for i in key_to_remove:\n",
        "  del d[i]\n",
        "print(f\"Dictionary after remove is : {d}\")"
      ]
    },
    {
      "cell_type": "markdown",
      "id": "46d718c7",
      "metadata": {
        "id": "46d718c7"
      },
      "source": [
        "**47-Write a Python program to create a tuple of numbers and print one item"
      ]
    },
    {
      "cell_type": "code",
      "execution_count": null,
      "id": "13216ff5",
      "metadata": {
        "id": "13216ff5",
        "colab": {
          "base_uri": "https://localhost:8080/"
        },
        "outputId": "71f1b121-ba27-4896-96e0-4906aaa97c87"
      },
      "outputs": [
        {
          "output_type": "stream",
          "name": "stdout",
          "text": [
            "Enter size of tuple : 5\n",
            "Enter number 1 you want : 22\n",
            "Enter number 2 you want : 19\n",
            "Enter number 3 you want : 14\n",
            "Enter number 4 you want : 15\n",
            "Enter number 5 you want : 10\n",
            "the tuple of numbers is : (22, 19, 14, 15, 10)\n",
            "Enter index of item you want to print : 3\n",
            "The index 3 of item is 15\n"
          ]
        }
      ],
      "source": [
        "t = ()\n",
        "l = list(t)\n",
        "number_size = int(input(\"Enter size of tuple : \"))\n",
        "for i in range(number_size):\n",
        "  n = int(input(f\"Enter number {i+1} you want : \"))\n",
        "  l.append(n)\n",
        "t = tuple(l)\n",
        "print(f\"the tuple of numbers is : {t}\")\n",
        "item = int(input(\"Enter index of item you want to print : \"))\n",
        "print(f\"The index {item} of item is {t[item]}\")"
      ]
    },
    {
      "cell_type": "markdown",
      "id": "2be5b56b",
      "metadata": {
        "id": "2be5b56b"
      },
      "source": [
        "**48-Write a Python program to unpack a tuple into several variables"
      ]
    },
    {
      "cell_type": "code",
      "execution_count": null,
      "id": "595f44be",
      "metadata": {
        "id": "595f44be",
        "colab": {
          "base_uri": "https://localhost:8080/"
        },
        "outputId": "b38ec345-a288-4f96-dae2-8fb0b8ef390b"
      },
      "outputs": [
        {
          "output_type": "stream",
          "name": "stdout",
          "text": [
            "19\n",
            "apple\n",
            "3.14\n",
            "mango\n"
          ]
        }
      ],
      "source": [
        "t = (19, \"apple\", 3.14, \"mango\")\n",
        "age , fruit , pi , fav = t\n",
        "print(age)\n",
        "print(fruit)\n",
        "print(pi)\n",
        "print(fav)"
      ]
    },
    {
      "cell_type": "code",
      "source": [
        "t = (19, \"apple\", 3.14, \"mango\")\n",
        "list1 = []\n",
        "for i in range(len(t)):\n",
        "  list1.append(t[i])\n",
        "for i in range(len(list1)):\n",
        "  print(f\"The {i+1} element in tuple is {list1[i]} and this index is {i} in list\")"
      ],
      "metadata": {
        "colab": {
          "base_uri": "https://localhost:8080/"
        },
        "id": "RdC5TVPuJYL3",
        "outputId": "051f52c1-c525-4f03-c073-764a81a11f32"
      },
      "id": "RdC5TVPuJYL3",
      "execution_count": null,
      "outputs": [
        {
          "output_type": "stream",
          "name": "stdout",
          "text": [
            "The 1 element in tuple is 19 and this index is 0 in list\n",
            "The 2 element in tuple is apple and this index is 1 in list\n",
            "The 3 element in tuple is 3.14 and this index is 2 in list\n",
            "The 4 element in tuple is mango and this index is 3 in list\n"
          ]
        }
      ]
    },
    {
      "cell_type": "markdown",
      "id": "392388a7",
      "metadata": {
        "id": "392388a7"
      },
      "source": [
        "**49-Write a Python program to add an item to a tuple"
      ]
    },
    {
      "cell_type": "code",
      "execution_count": null,
      "id": "54cc092e",
      "metadata": {
        "id": "54cc092e",
        "colab": {
          "base_uri": "https://localhost:8080/"
        },
        "outputId": "5756a07a-9cd2-46ca-fc05-bba4c060f47c"
      },
      "outputs": [
        {
          "output_type": "stream",
          "name": "stdout",
          "text": [
            "Tuple before adding : (22, 33, 4, 58, 9)\n",
            "Enter item you want to add to tuple : Ahmed\n",
            "Tuple after adding 'Ahmed' is (22, 33, 4, 58, 9, 'Ahmed')\n"
          ]
        }
      ],
      "source": [
        "t = (22,33,4,58,9)\n",
        "print(f\"Tuple before adding : {t}\")\n",
        "l = list(t)\n",
        "item = input(\"Enter item you want to add to tuple : \")\n",
        "l.append(item)\n",
        "t = tuple(l)\n",
        "print(f\"Tuple after adding '{item}' is {t}\")"
      ]
    },
    {
      "cell_type": "markdown",
      "id": "3e8fd124",
      "metadata": {
        "id": "3e8fd124"
      },
      "source": [
        "**50-Write a Python program to convert a tuple to a string"
      ]
    },
    {
      "cell_type": "code",
      "execution_count": null,
      "id": "92a71ddc",
      "metadata": {
        "id": "92a71ddc",
        "colab": {
          "base_uri": "https://localhost:8080/"
        },
        "outputId": "4de16557-2e26-48ee-9ca7-1a2403df0af1"
      },
      "outputs": [
        {
          "output_type": "stream",
          "name": "stdout",
          "text": [
            "Tuple before convert to string : (22, 33, 4, 58, 9, 'ahmed')\n",
            "Tuple after convert to string : (22, 33, 4, 58, 9, 'ahmed')\n"
          ]
        }
      ],
      "source": [
        "t = (22,33,4,58,9,'ahmed')\n",
        "print(f\"Tuple before convert to string : {t}\")\n",
        "new_t = str(t)\n",
        "print(f\"Tuple after convert to string : {new_t}\")"
      ]
    },
    {
      "cell_type": "code",
      "source": [
        "t = (22,33,4,58,9,'ahmed')\n",
        "print(f\"Tuple before convert to string : {t}\")\n",
        "new_t = ' '.join(map(str,t))\n",
        "print(f\"Tuple after convert to string : {new_t}\")"
      ],
      "metadata": {
        "colab": {
          "base_uri": "https://localhost:8080/"
        },
        "id": "hvjpRECqNlsd",
        "outputId": "39bdc63d-32e5-4987-9c14-e226db60e8d6"
      },
      "id": "hvjpRECqNlsd",
      "execution_count": null,
      "outputs": [
        {
          "output_type": "stream",
          "name": "stdout",
          "text": [
            "Tuple before convert to string : (22, 33, 4, 58, 9, 'ahmed')\n",
            "Tuple after convert to string : 22 33 4 58 9 ahmed\n"
          ]
        }
      ]
    },
    {
      "cell_type": "markdown",
      "id": "f4f64ef4",
      "metadata": {
        "id": "f4f64ef4"
      },
      "source": [
        "**51-Write a Python program to convert a list to a tuple"
      ]
    },
    {
      "cell_type": "code",
      "execution_count": null,
      "id": "210d56d3",
      "metadata": {
        "id": "210d56d3",
        "colab": {
          "base_uri": "https://localhost:8080/"
        },
        "outputId": "ac0523be-a8d3-4eeb-dacb-239a582bd036"
      },
      "outputs": [
        {
          "output_type": "stream",
          "name": "stdout",
          "text": [
            "List before convert to tuple : [1, 2, 3, 'ahmed', 4, 5]\n",
            "List after convert tuple : (1, 2, 3, 'ahmed', 4, 5)\n"
          ]
        }
      ],
      "source": [
        "l = [1,2,3,'ahmed',4,5]\n",
        "print(f\"List before convert to tuple : {l}\")\n",
        "t = tuple(l)\n",
        "print(f\"List after convert tuple : {t}\")"
      ]
    },
    {
      "cell_type": "markdown",
      "id": "b1e00ef7",
      "metadata": {
        "id": "b1e00ef7"
      },
      "source": [
        "**52-Write a Python program to reverse a tuple"
      ]
    },
    {
      "cell_type": "code",
      "execution_count": null,
      "id": "f45bfdc7",
      "metadata": {
        "id": "f45bfdc7",
        "colab": {
          "base_uri": "https://localhost:8080/"
        },
        "outputId": "7867c82e-8b8a-47ca-8b05-b724c212e3c3"
      },
      "outputs": [
        {
          "output_type": "stream",
          "name": "stdout",
          "text": [
            "Tuple before reverse : (22, 33, 4, 58, 9, 'ahmed')\n",
            "Tuple after reverse : ('ahmed', 9, 58, 4, 33, 22)\n"
          ]
        }
      ],
      "source": [
        "t = (22,33,4,58,9,'ahmed')\n",
        "print(f\"Tuple before reverse : {t}\")\n",
        "new_t = t[::-1]\n",
        "print(f\"Tuple after reverse : {new_t}\")"
      ]
    },
    {
      "cell_type": "markdown",
      "id": "3cd347d1",
      "metadata": {
        "id": "3cd347d1"
      },
      "source": [
        "**53-Write a Python program to replace the last value of tuples in a list.\n",
        "Sample list: [(10, 20, 40), (40, 50, 60), (70, 80, 90)]\n",
        "Expected Output: [(10, 20, 100), (40, 50, 100), (70, 80, 100)]"
      ]
    },
    {
      "cell_type": "code",
      "execution_count": null,
      "id": "3c4a2a4c",
      "metadata": {
        "id": "3c4a2a4c",
        "colab": {
          "base_uri": "https://localhost:8080/"
        },
        "outputId": "6cfc1e9b-06f6-42d5-9922-96a286edf219"
      },
      "outputs": [
        {
          "output_type": "stream",
          "name": "stdout",
          "text": [
            "List before edit : [[10, 20, 40], [40, 50, 60], [70, 80, 90]]\n",
            "List after edit : [[10, 20, 100], [40, 50, 100], [70, 80, 100]]\n"
          ]
        }
      ],
      "source": [
        "l = [(10, 20, 40), (40, 50, 60), (70, 80, 90)]\n",
        "new_l = []\n",
        "for i in range(len(l)):\n",
        "  new_l.append(list(l[i]))\n",
        "print(f\"List before edit : {new_l}\")\n",
        "for i in range(len(l)):\n",
        "  new_l[i][2] = 100\n",
        "print(f\"List after edit : {new_l}\")"
      ]
    },
    {
      "cell_type": "markdown",
      "id": "76bb7b39",
      "metadata": {
        "id": "76bb7b39"
      },
      "source": [
        "**54-Write a Python program to convert a given string list to a tuple\n",
        "Original string: python 3.0\n",
        "<class 'str'>\n",
        "Convert the said string to a tuple:\n",
        "('p', 'y', 't', 'h', 'o', 'n', '3', '.', '0')"
      ]
    },
    {
      "cell_type": "code",
      "execution_count": null,
      "id": "51951937",
      "metadata": {
        "id": "51951937",
        "colab": {
          "base_uri": "https://localhost:8080/"
        },
        "outputId": "a5b028f6-ffca-445f-c0cc-7259fde46628"
      },
      "outputs": [
        {
          "output_type": "stream",
          "name": "stdout",
          "text": [
            "String before convert to tuple : python3.0\n",
            "String after convert to tuple : ('p', 'y', 't', 'h', 'o', 'n', '3', '.', '0')\n"
          ]
        }
      ],
      "source": [
        "string = \"python3.0\"\n",
        "print(f\"String before convert to tuple : {string}\")\n",
        "t = tuple(string)\n",
        "print(f\"String after convert to tuple : {t}\")"
      ]
    },
    {
      "cell_type": "markdown",
      "id": "5a1d5d97",
      "metadata": {
        "id": "5a1d5d97"
      },
      "source": [
        "**55-Write a Python program to calculate the average value of the numbers in a given tuple of tuples"
      ]
    },
    {
      "cell_type": "code",
      "execution_count": null,
      "id": "834e7992",
      "metadata": {
        "id": "834e7992",
        "colab": {
          "base_uri": "https://localhost:8080/"
        },
        "outputId": "0fdc82e8-a700-403d-d3c0-676a1d51b30f"
      },
      "outputs": [
        {
          "output_type": "stream",
          "name": "stdout",
          "text": [
            "Tuple of tuple is : ((1, 2, 3), (4, 5, 6), (7, 8, 9))\n",
            "Sum of number = 45\n",
            "Count of numbers = 9\n",
            "Average of number = 5.0\n"
          ]
        }
      ],
      "source": [
        "t = ((1, 2, 3), (4, 5, 6), (7, 8, 9))\n",
        "sum = 0\n",
        "count = 0\n",
        "for i in range(len(t)):\n",
        "  for j in range(len(t[i])):\n",
        "    sum += t[i][j]\n",
        "    count += 1\n",
        "print(f\"Tuple of tuple is : {t}\")\n",
        "print(f\"Sum of number = {sum}\")\n",
        "print(f\"Count of numbers = {count}\")\n",
        "print(f\"Average of number = {sum/count}\")"
      ]
    },
    {
      "cell_type": "markdown",
      "id": "51edab9c",
      "metadata": {
        "id": "51edab9c"
      },
      "source": [
        "**56-Write a Python program to add member(s) to a set."
      ]
    },
    {
      "cell_type": "code",
      "execution_count": null,
      "id": "2b65df79",
      "metadata": {
        "id": "2b65df79",
        "colab": {
          "base_uri": "https://localhost:8080/"
        },
        "outputId": "e4d9e924-d8b9-48e5-b2d2-9eb66bbd910b"
      },
      "outputs": [
        {
          "output_type": "stream",
          "name": "stdout",
          "text": [
            "Set before adding is : {1, 2, 3}\n",
            "Enter the number you want to add to set : 4\n",
            "Set after adding '4' is : {1, 2, 3, 4}\n",
            "Enter any thing to add to set : 789\n",
            "Set after adding '789' is : {1, 2, 3, 4, '7', '8', '9'}\n"
          ]
        }
      ],
      "source": [
        "s = {1, 2, 3}\n",
        "print(f\"Set before adding is : {s}\")\n",
        "number = int(input(\"Enter the number you want to add to set : \"))\n",
        "s.add(number)\n",
        "print(f\"Set after adding '{number}' is : {s}\")\n",
        "l = input(\"Enter any thing to add to set : \")\n",
        "s.update(l)\n",
        "print(f\"Set after adding '{l}' is : {s}\")"
      ]
    },
    {
      "cell_type": "markdown",
      "id": "965590cc",
      "metadata": {
        "id": "965590cc"
      },
      "source": [
        "**57-Write a Python program to remove an item from a set if it is present in the set."
      ]
    },
    {
      "cell_type": "code",
      "execution_count": null,
      "id": "866bab28",
      "metadata": {
        "id": "866bab28",
        "colab": {
          "base_uri": "https://localhost:8080/"
        },
        "outputId": "84435594-c7ca-4d9e-aa9a-d9ff8d21abfb"
      },
      "outputs": [
        {
          "output_type": "stream",
          "name": "stdout",
          "text": [
            "Enter the number you want to remove : 4\n",
            "Set before remove '4' is : {1, 2, 3, 4, 5}\n",
            "Set after remove '4' is : {1, 2, 3, 5}\n"
          ]
        }
      ],
      "source": [
        "s = {1, 2, 3, 4, 5}\n",
        "number_remove = int(input(\"Enter the number you want to remove : \"))\n",
        "print(f\"Set before remove '{number_remove}' is : {s}\")\n",
        "if number_remove in s:\n",
        "  s.remove(number_remove)\n",
        "  print(f\"Set after remove '{number_remove}' is : {s}\")\n",
        "else:\n",
        "  print(f\"The number '{number_remove}' is not found in set\")"
      ]
    },
    {
      "cell_type": "markdown",
      "id": "2b7cfed1",
      "metadata": {
        "id": "2b7cfed1"
      },
      "source": [
        "**58-Write a Python program to create an intersection,union,difference and symmetric difference of sets"
      ]
    },
    {
      "cell_type": "code",
      "execution_count": null,
      "id": "7f94b7fe",
      "metadata": {
        "id": "7f94b7fe",
        "colab": {
          "base_uri": "https://localhost:8080/"
        },
        "outputId": "ade09612-cc11-4ac1-a20e-a2a1062d6978"
      },
      "outputs": [
        {
          "output_type": "stream",
          "name": "stdout",
          "text": [
            "Set1 is : {1, 2, 3, 4, 5}\n",
            "Set2 is : {3, 4, 5, 6, 7}\n",
            "Intersection is : {3, 4, 5}\n",
            "Union is : {1, 2, 3, 4, 5, 6, 7}\n",
            "Difference set1 to set2 is : {1, 2}\n",
            "Difference set2 to set1 is : {6, 7}\n",
            "Symmetric is : {1, 2, 6, 7}\n"
          ]
        }
      ],
      "source": [
        "s1 = {1, 2, 3, 4, 5}\n",
        "s2 = {3, 4, 5, 6, 7}\n",
        "print(f\"Set1 is : {s1}\")\n",
        "print(f\"Set2 is : {s2}\")\n",
        "print(f\"Intersection is : {s1 & s2}\")\n",
        "print(f\"Union is : {s1 | s2}\")\n",
        "print(f\"Difference set1 to set2 is : {s1 - s2}\")\n",
        "print(f\"Difference set2 to set1 is : {s2 - s1}\")\n",
        "print(f\"Symmetric is : {s1 ^ s2}\")"
      ]
    },
    {
      "cell_type": "markdown",
      "id": "b94931e2",
      "metadata": {
        "id": "b94931e2"
      },
      "source": [
        "**59-Write a Python program to find the maximum and minimum values in a set"
      ]
    },
    {
      "cell_type": "code",
      "source": [
        "s = {5, 22, 35, 15, 9}\n",
        "print(f\"Minimum value in set is: {max(s)}\")\n",
        "print(f\"Maximum value in set is: {min(s)}\")"
      ],
      "metadata": {
        "colab": {
          "base_uri": "https://localhost:8080/"
        },
        "id": "os0kfl3lm6Wo",
        "outputId": "09c65e1d-ad6a-4128-ecbe-b1fdf308ac62"
      },
      "id": "os0kfl3lm6Wo",
      "execution_count": null,
      "outputs": [
        {
          "output_type": "stream",
          "name": "stdout",
          "text": [
            "Minimum value in set is: 35\n",
            "Maximum value in set is: 5\n"
          ]
        }
      ]
    },
    {
      "cell_type": "markdown",
      "id": "255fd554",
      "metadata": {
        "id": "255fd554"
      },
      "source": [
        "**60- Write a Python program that finds all pairs of elements in a list whose sum is equal to a given value."
      ]
    },
    {
      "cell_type": "code",
      "execution_count": null,
      "id": "c2d94e1f",
      "metadata": {
        "id": "c2d94e1f",
        "colab": {
          "base_uri": "https://localhost:8080/"
        },
        "outputId": "d4547a55-b483-4f72-a805-c12a63b30650"
      },
      "outputs": [
        {
          "output_type": "stream",
          "name": "stdout",
          "text": [
            "Enter your target : 8\n",
            "Pair of number [(2, 6), (3, 5)] to achive the target 8\n"
          ]
        }
      ],
      "source": [
        "l = [1, 2, 3, 4, 5, 6]\n",
        "target =  int(input(\"Enter your target : \"))\n",
        "pair = []\n",
        "for i in range(len(l)):\n",
        "  for j in range(i+1,len(l)):\n",
        "    if l[i] + l[j] == target:\n",
        "     pair.append((l[i],l[j]))\n",
        "print(f\"Pair of number {pair} to achive the target {target}\")"
      ]
    }
  ],
  "metadata": {
    "kernelspec": {
      "display_name": "Python 3 (ipykernel)",
      "language": "python",
      "name": "python3"
    },
    "language_info": {
      "codemirror_mode": {
        "name": "ipython",
        "version": 3
      },
      "file_extension": ".py",
      "mimetype": "text/x-python",
      "name": "python",
      "nbconvert_exporter": "python",
      "pygments_lexer": "ipython3",
      "version": "3.9.7"
    },
    "colab": {
      "provenance": []
    }
  },
  "nbformat": 4,
  "nbformat_minor": 5
}